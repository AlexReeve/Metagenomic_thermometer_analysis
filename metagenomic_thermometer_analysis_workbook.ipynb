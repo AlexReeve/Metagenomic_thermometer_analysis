{
 "cells": [
  {
   "cell_type": "markdown",
   "id": "20324a0f-ac2d-4ed6-bf6e-13a486b89944",
   "metadata": {},
   "source": [
    "# Data collection\n"
   ]
  },
  {
   "cell_type": "code",
   "execution_count": 1,
   "id": "e0532920-ab3d-4502-978e-6fc02d19b807",
   "metadata": {},
   "outputs": [],
   "source": [
    "#imports\n",
    "import pandas as pd\n",
    "import seaborn as sns\n",
    "import numpy as np\n",
    "import matplotlib.pyplot as plt\n",
    "from numpy.random import default_rng \n",
    "from sklearn import metrics\n",
    "from sklearn import linear_model\n",
    "from sklearn.model_selection import train_test_split\n",
    "from sklearn.metrics import r2_score\n",
    "\n"
   ]
  },
  {
   "cell_type": "code",
   "execution_count": 3,
   "id": "3d1f3052-7c1b-4439-8af0-473bd9836b0f",
   "metadata": {},
   "outputs": [],
   "source": [
    "####################### data\n",
    "#\"Growth temperatures for 21,498 microorganisms\" (Engqvist, 2018)\n",
    "ogt_data = pd.read_csv('temperature_data.csv')\n",
    "#NCBI bacterial summary - note, this has been shortened to contain only complete genomes using grep\n",
    "bacterial_genomes_data = pd.read_csv('bacterial_complete_genomes.csv', encoding='latin-1')\n",
    "#NCBI Archaeal summary - shortened to only contain complete genomes using grep\n",
    "archaeal_genomes_data = pd.read_csv('archaea_complete_genomes.csv', encoding='latin-1')"
   ]
  },
  {
   "cell_type": "code",
   "execution_count": 4,
   "id": "3feab3bb-da67-4819-a74a-7d7c66a53bd0",
   "metadata": {},
   "outputs": [
    {
     "data": {
      "text/html": [
       "<div>\n",
       "<style scoped>\n",
       "    .dataframe tbody tr th:only-of-type {\n",
       "        vertical-align: middle;\n",
       "    }\n",
       "\n",
       "    .dataframe tbody tr th {\n",
       "        vertical-align: top;\n",
       "    }\n",
       "\n",
       "    .dataframe thead th {\n",
       "        text-align: right;\n",
       "    }\n",
       "</style>\n",
       "<table border=\"1\" class=\"dataframe\">\n",
       "  <thead>\n",
       "    <tr style=\"text-align: right;\">\n",
       "      <th></th>\n",
       "      <th>organism</th>\n",
       "      <th>domain</th>\n",
       "      <th>temperature</th>\n",
       "      <th>taxid</th>\n",
       "      <th>lineage_text</th>\n",
       "      <th>superkingdom</th>\n",
       "      <th>phylum</th>\n",
       "      <th>class</th>\n",
       "      <th>order</th>\n",
       "      <th>family</th>\n",
       "      <th>genus</th>\n",
       "    </tr>\n",
       "  </thead>\n",
       "  <tbody>\n",
       "    <tr>\n",
       "      <th>0</th>\n",
       "      <td>abiotrophia_adiacens</td>\n",
       "      <td>Bacteria</td>\n",
       "      <td>37</td>\n",
       "      <td>46124</td>\n",
       "      <td>cellular organisms; Bacteria; Terrabacteria gr...</td>\n",
       "      <td>2</td>\n",
       "      <td>1239.0</td>\n",
       "      <td>91061.0</td>\n",
       "      <td>186826.0</td>\n",
       "      <td>186828.0</td>\n",
       "      <td>117563.0</td>\n",
       "    </tr>\n",
       "    <tr>\n",
       "      <th>1</th>\n",
       "      <td>abiotrophia_balaenopterae</td>\n",
       "      <td>Bacteria</td>\n",
       "      <td>37</td>\n",
       "      <td>137733</td>\n",
       "      <td>cellular organisms; Bacteria; Terrabacteria gr...</td>\n",
       "      <td>2</td>\n",
       "      <td>1239.0</td>\n",
       "      <td>91061.0</td>\n",
       "      <td>186826.0</td>\n",
       "      <td>186828.0</td>\n",
       "      <td>117563.0</td>\n",
       "    </tr>\n",
       "    <tr>\n",
       "      <th>2</th>\n",
       "      <td>abiotrophia_defectiva</td>\n",
       "      <td>Bacteria</td>\n",
       "      <td>37</td>\n",
       "      <td>46125</td>\n",
       "      <td>cellular organisms; Bacteria; Terrabacteria gr...</td>\n",
       "      <td>2</td>\n",
       "      <td>1239.0</td>\n",
       "      <td>91061.0</td>\n",
       "      <td>186826.0</td>\n",
       "      <td>186827.0</td>\n",
       "      <td>46123.0</td>\n",
       "    </tr>\n",
       "    <tr>\n",
       "      <th>3</th>\n",
       "      <td>abiotrophia_elegans</td>\n",
       "      <td>Bacteria</td>\n",
       "      <td>37</td>\n",
       "      <td>137732</td>\n",
       "      <td>cellular organisms; Bacteria; Terrabacteria gr...</td>\n",
       "      <td>2</td>\n",
       "      <td>1239.0</td>\n",
       "      <td>91061.0</td>\n",
       "      <td>186826.0</td>\n",
       "      <td>186828.0</td>\n",
       "      <td>117563.0</td>\n",
       "    </tr>\n",
       "    <tr>\n",
       "      <th>4</th>\n",
       "      <td>abortiporus_biennis</td>\n",
       "      <td>Eukaryota</td>\n",
       "      <td>26</td>\n",
       "      <td>137743</td>\n",
       "      <td>cellular organisms; Eukaryota; Opisthokonta; F...</td>\n",
       "      <td>2759</td>\n",
       "      <td>5204.0</td>\n",
       "      <td>155619.0</td>\n",
       "      <td>5303.0</td>\n",
       "      <td>83233.0</td>\n",
       "      <td>137742.0</td>\n",
       "    </tr>\n",
       "    <tr>\n",
       "      <th>...</th>\n",
       "      <td>...</td>\n",
       "      <td>...</td>\n",
       "      <td>...</td>\n",
       "      <td>...</td>\n",
       "      <td>...</td>\n",
       "      <td>...</td>\n",
       "      <td>...</td>\n",
       "      <td>...</td>\n",
       "      <td>...</td>\n",
       "      <td>...</td>\n",
       "      <td>...</td>\n",
       "    </tr>\n",
       "    <tr>\n",
       "      <th>21493</th>\n",
       "      <td>zymobacterium_oroticum</td>\n",
       "      <td>Bacteria</td>\n",
       "      <td>37</td>\n",
       "      <td>1544</td>\n",
       "      <td>cellular organisms; Bacteria; Terrabacteria gr...</td>\n",
       "      <td>2</td>\n",
       "      <td>1239.0</td>\n",
       "      <td>186801.0</td>\n",
       "      <td>186802.0</td>\n",
       "      <td>186803.0</td>\n",
       "      <td>2005359.0</td>\n",
       "    </tr>\n",
       "    <tr>\n",
       "      <th>21494</th>\n",
       "      <td>zymomonas_anaerobia</td>\n",
       "      <td>Bacteria</td>\n",
       "      <td>30</td>\n",
       "      <td>542</td>\n",
       "      <td>cellular organisms; Bacteria; Proteobacteria; ...</td>\n",
       "      <td>2</td>\n",
       "      <td>1224.0</td>\n",
       "      <td>28211.0</td>\n",
       "      <td>204457.0</td>\n",
       "      <td>41297.0</td>\n",
       "      <td>541.0</td>\n",
       "    </tr>\n",
       "    <tr>\n",
       "      <th>21495</th>\n",
       "      <td>zymomonas_mobilis</td>\n",
       "      <td>Bacteria</td>\n",
       "      <td>29</td>\n",
       "      <td>542</td>\n",
       "      <td>cellular organisms; Bacteria; Proteobacteria; ...</td>\n",
       "      <td>2</td>\n",
       "      <td>1224.0</td>\n",
       "      <td>28211.0</td>\n",
       "      <td>204457.0</td>\n",
       "      <td>41297.0</td>\n",
       "      <td>541.0</td>\n",
       "    </tr>\n",
       "    <tr>\n",
       "      <th>21496</th>\n",
       "      <td>zymophilus_paucivorans</td>\n",
       "      <td>Bacteria</td>\n",
       "      <td>30</td>\n",
       "      <td>86958</td>\n",
       "      <td>cellular organisms; Bacteria; Terrabacteria gr...</td>\n",
       "      <td>2</td>\n",
       "      <td>1239.0</td>\n",
       "      <td>909932.0</td>\n",
       "      <td>909929.0</td>\n",
       "      <td>1843491.0</td>\n",
       "      <td>84034.0</td>\n",
       "    </tr>\n",
       "    <tr>\n",
       "      <th>21497</th>\n",
       "      <td>zymophilus_raffinosivorans</td>\n",
       "      <td>Bacteria</td>\n",
       "      <td>30</td>\n",
       "      <td>86959</td>\n",
       "      <td>cellular organisms; Bacteria; Terrabacteria gr...</td>\n",
       "      <td>2</td>\n",
       "      <td>1239.0</td>\n",
       "      <td>909932.0</td>\n",
       "      <td>909929.0</td>\n",
       "      <td>1843491.0</td>\n",
       "      <td>84034.0</td>\n",
       "    </tr>\n",
       "  </tbody>\n",
       "</table>\n",
       "<p>21498 rows × 11 columns</p>\n",
       "</div>"
      ],
      "text/plain": [
       "                         organism     domain  temperature   taxid  \\\n",
       "0            abiotrophia_adiacens   Bacteria           37   46124   \n",
       "1       abiotrophia_balaenopterae   Bacteria           37  137733   \n",
       "2           abiotrophia_defectiva   Bacteria           37   46125   \n",
       "3             abiotrophia_elegans   Bacteria           37  137732   \n",
       "4             abortiporus_biennis  Eukaryota           26  137743   \n",
       "...                           ...        ...          ...     ...   \n",
       "21493      zymobacterium_oroticum   Bacteria           37    1544   \n",
       "21494         zymomonas_anaerobia   Bacteria           30     542   \n",
       "21495           zymomonas_mobilis   Bacteria           29     542   \n",
       "21496      zymophilus_paucivorans   Bacteria           30   86958   \n",
       "21497  zymophilus_raffinosivorans   Bacteria           30   86959   \n",
       "\n",
       "                                            lineage_text  superkingdom  \\\n",
       "0      cellular organisms; Bacteria; Terrabacteria gr...             2   \n",
       "1      cellular organisms; Bacteria; Terrabacteria gr...             2   \n",
       "2      cellular organisms; Bacteria; Terrabacteria gr...             2   \n",
       "3      cellular organisms; Bacteria; Terrabacteria gr...             2   \n",
       "4      cellular organisms; Eukaryota; Opisthokonta; F...          2759   \n",
       "...                                                  ...           ...   \n",
       "21493  cellular organisms; Bacteria; Terrabacteria gr...             2   \n",
       "21494  cellular organisms; Bacteria; Proteobacteria; ...             2   \n",
       "21495  cellular organisms; Bacteria; Proteobacteria; ...             2   \n",
       "21496  cellular organisms; Bacteria; Terrabacteria gr...             2   \n",
       "21497  cellular organisms; Bacteria; Terrabacteria gr...             2   \n",
       "\n",
       "       phylum     class     order     family      genus  \n",
       "0      1239.0   91061.0  186826.0   186828.0   117563.0  \n",
       "1      1239.0   91061.0  186826.0   186828.0   117563.0  \n",
       "2      1239.0   91061.0  186826.0   186827.0    46123.0  \n",
       "3      1239.0   91061.0  186826.0   186828.0   117563.0  \n",
       "4      5204.0  155619.0    5303.0    83233.0   137742.0  \n",
       "...       ...       ...       ...        ...        ...  \n",
       "21493  1239.0  186801.0  186802.0   186803.0  2005359.0  \n",
       "21494  1224.0   28211.0  204457.0    41297.0      541.0  \n",
       "21495  1224.0   28211.0  204457.0    41297.0      541.0  \n",
       "21496  1239.0  909932.0  909929.0  1843491.0    84034.0  \n",
       "21497  1239.0  909932.0  909929.0  1843491.0    84034.0  \n",
       "\n",
       "[21498 rows x 11 columns]"
      ]
     },
     "execution_count": 4,
     "metadata": {},
     "output_type": "execute_result"
    }
   ],
   "source": [
    "#investigate the datasets\n",
    "ogt_data"
   ]
  },
  {
   "cell_type": "code",
   "execution_count": 5,
   "id": "6da857fe-b476-4a84-a9ed-e8341c5bf0db",
   "metadata": {},
   "outputs": [
    {
     "data": {
      "text/html": [
       "<div>\n",
       "<style scoped>\n",
       "    .dataframe tbody tr th:only-of-type {\n",
       "        vertical-align: middle;\n",
       "    }\n",
       "\n",
       "    .dataframe tbody tr th {\n",
       "        vertical-align: top;\n",
       "    }\n",
       "\n",
       "    .dataframe thead th {\n",
       "        text-align: right;\n",
       "    }\n",
       "</style>\n",
       "<table border=\"1\" class=\"dataframe\">\n",
       "  <thead>\n",
       "    <tr style=\"text-align: right;\">\n",
       "      <th></th>\n",
       "      <th>assembly_accession</th>\n",
       "      <th>bioproject</th>\n",
       "      <th>biosample</th>\n",
       "      <th>wgs_master</th>\n",
       "      <th>refseq_category</th>\n",
       "      <th>taxid</th>\n",
       "      <th>species_taxid</th>\n",
       "      <th>organism_name</th>\n",
       "      <th>infraspecific_name</th>\n",
       "      <th>isolate</th>\n",
       "      <th>...</th>\n",
       "      <th>genome_rep</th>\n",
       "      <th>seq_rel_date</th>\n",
       "      <th>asm_name</th>\n",
       "      <th>submitter</th>\n",
       "      <th>gbrs_paired_asm</th>\n",
       "      <th>paired_asm_comp</th>\n",
       "      <th>ftp_path</th>\n",
       "      <th>excluded_from_refseq</th>\n",
       "      <th>relation_to_type_material</th>\n",
       "      <th>asm_not_live_date</th>\n",
       "    </tr>\n",
       "  </thead>\n",
       "  <tbody>\n",
       "    <tr>\n",
       "      <th>0</th>\n",
       "      <td>GCA_900128725.1</td>\n",
       "      <td>PRJEB15400</td>\n",
       "      <td>SAMEA4556317</td>\n",
       "      <td>NaN</td>\n",
       "      <td>na</td>\n",
       "      <td>9</td>\n",
       "      <td>9</td>\n",
       "      <td>Buchnera aphidicola</td>\n",
       "      <td>strain=BCifornacula</td>\n",
       "      <td>2912</td>\n",
       "      <td>...</td>\n",
       "      <td>Full</td>\n",
       "      <td>25/11/2016</td>\n",
       "      <td>BCifornacula_v1.0</td>\n",
       "      <td>Centre de Biologie pour la Gestion des Populat...</td>\n",
       "      <td>GCF_900128725.1</td>\n",
       "      <td>identical</td>\n",
       "      <td>https://ftp.ncbi.nlm.nih.gov/genomes/all/GCA/9...</td>\n",
       "      <td>NaN</td>\n",
       "      <td>NaN</td>\n",
       "      <td>na</td>\n",
       "    </tr>\n",
       "    <tr>\n",
       "      <th>1</th>\n",
       "      <td>GCA_002157365.2</td>\n",
       "      <td>PRJNA381311</td>\n",
       "      <td>SAMN06673971</td>\n",
       "      <td>NaN</td>\n",
       "      <td>na</td>\n",
       "      <td>24</td>\n",
       "      <td>24</td>\n",
       "      <td>Shewanella putrefaciens</td>\n",
       "      <td>strain=SA70</td>\n",
       "      <td>NaN</td>\n",
       "      <td>...</td>\n",
       "      <td>Full</td>\n",
       "      <td>14/07/2021</td>\n",
       "      <td>ASM215736v2</td>\n",
       "      <td>Washington University</td>\n",
       "      <td>GCF_002157365.2</td>\n",
       "      <td>identical</td>\n",
       "      <td>https://ftp.ncbi.nlm.nih.gov/genomes/all/GCA/0...</td>\n",
       "      <td>NaN</td>\n",
       "      <td>NaN</td>\n",
       "      <td>na</td>\n",
       "    </tr>\n",
       "    <tr>\n",
       "      <th>2</th>\n",
       "      <td>GCA_003044255.1</td>\n",
       "      <td>PRJNA422021</td>\n",
       "      <td>SAMN08180388</td>\n",
       "      <td>NaN</td>\n",
       "      <td>na</td>\n",
       "      <td>24</td>\n",
       "      <td>24</td>\n",
       "      <td>Shewanella putrefaciens</td>\n",
       "      <td>strain=WS13</td>\n",
       "      <td>NaN</td>\n",
       "      <td>...</td>\n",
       "      <td>Full</td>\n",
       "      <td>08/04/2018</td>\n",
       "      <td>ASM304425v1</td>\n",
       "      <td>Shanghai Engineering Research Center of Aquati...</td>\n",
       "      <td>GCF_003044255.1</td>\n",
       "      <td>identical</td>\n",
       "      <td>https://ftp.ncbi.nlm.nih.gov/genomes/all/GCA/0...</td>\n",
       "      <td>many frameshifted proteins</td>\n",
       "      <td>NaN</td>\n",
       "      <td>na</td>\n",
       "    </tr>\n",
       "    <tr>\n",
       "      <th>3</th>\n",
       "      <td>GCA_009730575.1</td>\n",
       "      <td>PRJNA231221</td>\n",
       "      <td>SAMN11056396</td>\n",
       "      <td>NaN</td>\n",
       "      <td>na</td>\n",
       "      <td>24</td>\n",
       "      <td>24</td>\n",
       "      <td>Shewanella putrefaciens</td>\n",
       "      <td>strain=FDAARGOS_681</td>\n",
       "      <td>NaN</td>\n",
       "      <td>...</td>\n",
       "      <td>Full</td>\n",
       "      <td>05/12/2019</td>\n",
       "      <td>ASM973057v1</td>\n",
       "      <td>US Food and Drug Administration</td>\n",
       "      <td>GCF_009730575.1</td>\n",
       "      <td>identical</td>\n",
       "      <td>https://ftp.ncbi.nlm.nih.gov/genomes/all/GCA/0...</td>\n",
       "      <td>NaN</td>\n",
       "      <td>NaN</td>\n",
       "      <td>na</td>\n",
       "    </tr>\n",
       "    <tr>\n",
       "      <th>4</th>\n",
       "      <td>GCA_016406305.1</td>\n",
       "      <td>PRJNA686146</td>\n",
       "      <td>SAMN17120582</td>\n",
       "      <td>NaN</td>\n",
       "      <td>na</td>\n",
       "      <td>24</td>\n",
       "      <td>24</td>\n",
       "      <td>Shewanella putrefaciens</td>\n",
       "      <td>strain=CGMCC-1.6515</td>\n",
       "      <td>NaN</td>\n",
       "      <td>...</td>\n",
       "      <td>Full</td>\n",
       "      <td>27/12/2020</td>\n",
       "      <td>ASM1640630v1</td>\n",
       "      <td>Ocean University of China</td>\n",
       "      <td>GCF_016406305.1</td>\n",
       "      <td>identical</td>\n",
       "      <td>https://ftp.ncbi.nlm.nih.gov/genomes/all/GCA/0...</td>\n",
       "      <td>NaN</td>\n",
       "      <td>NaN</td>\n",
       "      <td>na</td>\n",
       "    </tr>\n",
       "    <tr>\n",
       "      <th>...</th>\n",
       "      <td>...</td>\n",
       "      <td>...</td>\n",
       "      <td>...</td>\n",
       "      <td>...</td>\n",
       "      <td>...</td>\n",
       "      <td>...</td>\n",
       "      <td>...</td>\n",
       "      <td>...</td>\n",
       "      <td>...</td>\n",
       "      <td>...</td>\n",
       "      <td>...</td>\n",
       "      <td>...</td>\n",
       "      <td>...</td>\n",
       "      <td>...</td>\n",
       "      <td>...</td>\n",
       "      <td>...</td>\n",
       "      <td>...</td>\n",
       "      <td>...</td>\n",
       "      <td>...</td>\n",
       "      <td>...</td>\n",
       "      <td>...</td>\n",
       "    </tr>\n",
       "    <tr>\n",
       "      <th>39227</th>\n",
       "      <td>GCA_029760895.1</td>\n",
       "      <td>PRJNA941463</td>\n",
       "      <td>SAMN33607703</td>\n",
       "      <td>NaN</td>\n",
       "      <td>na</td>\n",
       "      <td>3039801</td>\n",
       "      <td>3039801</td>\n",
       "      <td>Ancylobacter sp. WKF20</td>\n",
       "      <td>strain=WKF20</td>\n",
       "      <td>NaN</td>\n",
       "      <td>...</td>\n",
       "      <td>Full</td>\n",
       "      <td>15/04/2023</td>\n",
       "      <td>ASM2976089v1</td>\n",
       "      <td>Wonkwang University</td>\n",
       "      <td>GCF_029760895.1</td>\n",
       "      <td>identical</td>\n",
       "      <td>https://ftp.ncbi.nlm.nih.gov/genomes/all/GCA/0...</td>\n",
       "      <td>NaN</td>\n",
       "      <td>NaN</td>\n",
       "      <td>na</td>\n",
       "    </tr>\n",
       "    <tr>\n",
       "      <th>39228</th>\n",
       "      <td>GCA_029854195.1</td>\n",
       "      <td>PRJNA953190</td>\n",
       "      <td>SAMN34109428</td>\n",
       "      <td>NaN</td>\n",
       "      <td>na</td>\n",
       "      <td>3039851</td>\n",
       "      <td>3039851</td>\n",
       "      <td>Amylibacter sp. IMCC11727</td>\n",
       "      <td>strain=IMCC11727</td>\n",
       "      <td>NaN</td>\n",
       "      <td>...</td>\n",
       "      <td>Full</td>\n",
       "      <td>23/04/2023</td>\n",
       "      <td>ASM2985419v1</td>\n",
       "      <td>Inha University</td>\n",
       "      <td>na</td>\n",
       "      <td>na</td>\n",
       "      <td>https://ftp.ncbi.nlm.nih.gov/genomes/all/GCA/0...</td>\n",
       "      <td>NaN</td>\n",
       "      <td>NaN</td>\n",
       "      <td>na</td>\n",
       "    </tr>\n",
       "    <tr>\n",
       "      <th>39229</th>\n",
       "      <td>GCA_029814825.1</td>\n",
       "      <td>PRJNA954161</td>\n",
       "      <td>SAMN34136072</td>\n",
       "      <td>NaN</td>\n",
       "      <td>na</td>\n",
       "      <td>3040348</td>\n",
       "      <td>3040348</td>\n",
       "      <td>Aequorivita sp. Ant34-E75</td>\n",
       "      <td>strain=Ant34-E75</td>\n",
       "      <td>NaN</td>\n",
       "      <td>...</td>\n",
       "      <td>Full</td>\n",
       "      <td>18/04/2023</td>\n",
       "      <td>ASM2981482v1</td>\n",
       "      <td>First Institute of Oceanography</td>\n",
       "      <td>GCF_029814825.1</td>\n",
       "      <td>identical</td>\n",
       "      <td>https://ftp.ncbi.nlm.nih.gov/genomes/all/GCA/0...</td>\n",
       "      <td>NaN</td>\n",
       "      <td>NaN</td>\n",
       "      <td>na</td>\n",
       "    </tr>\n",
       "    <tr>\n",
       "      <th>39230</th>\n",
       "      <td>GCA_029719485.1</td>\n",
       "      <td>PRJNA945337</td>\n",
       "      <td>SAMN33778680</td>\n",
       "      <td>NaN</td>\n",
       "      <td>na</td>\n",
       "      <td>3040511</td>\n",
       "      <td>3040511</td>\n",
       "      <td>Kiritimatiellota bacterium B12222</td>\n",
       "      <td>strain=B12222</td>\n",
       "      <td>NaN</td>\n",
       "      <td>...</td>\n",
       "      <td>Full</td>\n",
       "      <td>13/04/2023</td>\n",
       "      <td>ASM2971948v1</td>\n",
       "      <td>Marine College</td>\n",
       "      <td>na</td>\n",
       "      <td>na</td>\n",
       "      <td>https://ftp.ncbi.nlm.nih.gov/genomes/all/GCA/0...</td>\n",
       "      <td>genus undefined</td>\n",
       "      <td>NaN</td>\n",
       "      <td>na</td>\n",
       "    </tr>\n",
       "    <tr>\n",
       "      <th>39231</th>\n",
       "      <td>GCA_029854395.1</td>\n",
       "      <td>PRJNA947104</td>\n",
       "      <td>SAMN33841339</td>\n",
       "      <td>NaN</td>\n",
       "      <td>na</td>\n",
       "      <td>3041057</td>\n",
       "      <td>562</td>\n",
       "      <td>Escherichia coli O155</td>\n",
       "      <td>strain=NWU_3</td>\n",
       "      <td>NaN</td>\n",
       "      <td>...</td>\n",
       "      <td>Full</td>\n",
       "      <td>23/04/2023</td>\n",
       "      <td>ASM2985439v1</td>\n",
       "      <td>NORTH-WEST UNIVERSITY</td>\n",
       "      <td>na</td>\n",
       "      <td>na</td>\n",
       "      <td>na</td>\n",
       "      <td>NaN</td>\n",
       "      <td>NaN</td>\n",
       "      <td>na</td>\n",
       "    </tr>\n",
       "  </tbody>\n",
       "</table>\n",
       "<p>39232 rows × 23 columns</p>\n",
       "</div>"
      ],
      "text/plain": [
       "      assembly_accession   bioproject     biosample  wgs_master  \\\n",
       "0        GCA_900128725.1   PRJEB15400  SAMEA4556317         NaN   \n",
       "1        GCA_002157365.2  PRJNA381311  SAMN06673971         NaN   \n",
       "2        GCA_003044255.1  PRJNA422021  SAMN08180388         NaN   \n",
       "3        GCA_009730575.1  PRJNA231221  SAMN11056396         NaN   \n",
       "4        GCA_016406305.1  PRJNA686146  SAMN17120582         NaN   \n",
       "...                  ...          ...           ...         ...   \n",
       "39227    GCA_029760895.1  PRJNA941463  SAMN33607703         NaN   \n",
       "39228    GCA_029854195.1  PRJNA953190  SAMN34109428         NaN   \n",
       "39229    GCA_029814825.1  PRJNA954161  SAMN34136072         NaN   \n",
       "39230    GCA_029719485.1  PRJNA945337  SAMN33778680         NaN   \n",
       "39231    GCA_029854395.1  PRJNA947104  SAMN33841339         NaN   \n",
       "\n",
       "      refseq_category    taxid  species_taxid  \\\n",
       "0                  na        9              9   \n",
       "1                  na       24             24   \n",
       "2                  na       24             24   \n",
       "3                  na       24             24   \n",
       "4                  na       24             24   \n",
       "...               ...      ...            ...   \n",
       "39227              na  3039801        3039801   \n",
       "39228              na  3039851        3039851   \n",
       "39229              na  3040348        3040348   \n",
       "39230              na  3040511        3040511   \n",
       "39231              na  3041057            562   \n",
       "\n",
       "                           organism_name   infraspecific_name isolate  ...  \\\n",
       "0                    Buchnera aphidicola  strain=BCifornacula    2912  ...   \n",
       "1                Shewanella putrefaciens          strain=SA70     NaN  ...   \n",
       "2                Shewanella putrefaciens          strain=WS13     NaN  ...   \n",
       "3                Shewanella putrefaciens  strain=FDAARGOS_681     NaN  ...   \n",
       "4                Shewanella putrefaciens  strain=CGMCC-1.6515     NaN  ...   \n",
       "...                                  ...                  ...     ...  ...   \n",
       "39227             Ancylobacter sp. WKF20         strain=WKF20     NaN  ...   \n",
       "39228          Amylibacter sp. IMCC11727     strain=IMCC11727     NaN  ...   \n",
       "39229          Aequorivita sp. Ant34-E75     strain=Ant34-E75     NaN  ...   \n",
       "39230  Kiritimatiellota bacterium B12222        strain=B12222     NaN  ...   \n",
       "39231              Escherichia coli O155         strain=NWU_3     NaN  ...   \n",
       "\n",
       "      genome_rep seq_rel_date           asm_name  \\\n",
       "0           Full   25/11/2016  BCifornacula_v1.0   \n",
       "1           Full   14/07/2021        ASM215736v2   \n",
       "2           Full   08/04/2018        ASM304425v1   \n",
       "3           Full   05/12/2019        ASM973057v1   \n",
       "4           Full   27/12/2020       ASM1640630v1   \n",
       "...          ...          ...                ...   \n",
       "39227       Full   15/04/2023       ASM2976089v1   \n",
       "39228       Full   23/04/2023       ASM2985419v1   \n",
       "39229       Full   18/04/2023       ASM2981482v1   \n",
       "39230       Full   13/04/2023       ASM2971948v1   \n",
       "39231       Full   23/04/2023       ASM2985439v1   \n",
       "\n",
       "                                               submitter  gbrs_paired_asm  \\\n",
       "0      Centre de Biologie pour la Gestion des Populat...  GCF_900128725.1   \n",
       "1                                  Washington University  GCF_002157365.2   \n",
       "2      Shanghai Engineering Research Center of Aquati...  GCF_003044255.1   \n",
       "3                        US Food and Drug Administration  GCF_009730575.1   \n",
       "4                              Ocean University of China  GCF_016406305.1   \n",
       "...                                                  ...              ...   \n",
       "39227                                Wonkwang University  GCF_029760895.1   \n",
       "39228                                    Inha University               na   \n",
       "39229                    First Institute of Oceanography  GCF_029814825.1   \n",
       "39230                                     Marine College               na   \n",
       "39231                              NORTH-WEST UNIVERSITY               na   \n",
       "\n",
       "      paired_asm_comp                                           ftp_path  \\\n",
       "0           identical  https://ftp.ncbi.nlm.nih.gov/genomes/all/GCA/9...   \n",
       "1           identical  https://ftp.ncbi.nlm.nih.gov/genomes/all/GCA/0...   \n",
       "2           identical  https://ftp.ncbi.nlm.nih.gov/genomes/all/GCA/0...   \n",
       "3           identical  https://ftp.ncbi.nlm.nih.gov/genomes/all/GCA/0...   \n",
       "4           identical  https://ftp.ncbi.nlm.nih.gov/genomes/all/GCA/0...   \n",
       "...               ...                                                ...   \n",
       "39227       identical  https://ftp.ncbi.nlm.nih.gov/genomes/all/GCA/0...   \n",
       "39228              na  https://ftp.ncbi.nlm.nih.gov/genomes/all/GCA/0...   \n",
       "39229       identical  https://ftp.ncbi.nlm.nih.gov/genomes/all/GCA/0...   \n",
       "39230              na  https://ftp.ncbi.nlm.nih.gov/genomes/all/GCA/0...   \n",
       "39231              na                                                 na   \n",
       "\n",
       "             excluded_from_refseq relation_to_type_material asm_not_live_date  \n",
       "0                             NaN                       NaN                na  \n",
       "1                             NaN                       NaN                na  \n",
       "2      many frameshifted proteins                       NaN                na  \n",
       "3                             NaN                       NaN                na  \n",
       "4                             NaN                       NaN                na  \n",
       "...                           ...                       ...               ...  \n",
       "39227                         NaN                       NaN                na  \n",
       "39228                         NaN                       NaN                na  \n",
       "39229                         NaN                       NaN                na  \n",
       "39230             genus undefined                       NaN                na  \n",
       "39231                         NaN                       NaN                na  \n",
       "\n",
       "[39232 rows x 23 columns]"
      ]
     },
     "execution_count": 5,
     "metadata": {},
     "output_type": "execute_result"
    }
   ],
   "source": [
    "bacterial_genomes_data"
   ]
  },
  {
   "cell_type": "code",
   "execution_count": 6,
   "id": "dda0bd61-e9b3-4b27-bb87-64664dcd312f",
   "metadata": {},
   "outputs": [
    {
     "data": {
      "text/html": [
       "<div>\n",
       "<style scoped>\n",
       "    .dataframe tbody tr th:only-of-type {\n",
       "        vertical-align: middle;\n",
       "    }\n",
       "\n",
       "    .dataframe tbody tr th {\n",
       "        vertical-align: top;\n",
       "    }\n",
       "\n",
       "    .dataframe thead th {\n",
       "        text-align: right;\n",
       "    }\n",
       "</style>\n",
       "<table border=\"1\" class=\"dataframe\">\n",
       "  <thead>\n",
       "    <tr style=\"text-align: right;\">\n",
       "      <th></th>\n",
       "      <th>assembly_accession</th>\n",
       "      <th>bioproject</th>\n",
       "      <th>biosample</th>\n",
       "      <th>wgs_master</th>\n",
       "      <th>refseq_category</th>\n",
       "      <th>taxid</th>\n",
       "      <th>species_taxid</th>\n",
       "      <th>organism_name</th>\n",
       "      <th>infraspecific_name</th>\n",
       "      <th>isolate</th>\n",
       "      <th>...</th>\n",
       "      <th>genome_rep</th>\n",
       "      <th>seq_rel_date</th>\n",
       "      <th>asm_name</th>\n",
       "      <th>submitter</th>\n",
       "      <th>gbrs_paired_asm</th>\n",
       "      <th>paired_asm_comp</th>\n",
       "      <th>ftp_path</th>\n",
       "      <th>excluded_from_refseq</th>\n",
       "      <th>relation_to_type_material</th>\n",
       "      <th>asm_not_live_date</th>\n",
       "    </tr>\n",
       "  </thead>\n",
       "  <tbody>\n",
       "    <tr>\n",
       "      <th>0</th>\n",
       "      <td>GCA_000762265.1</td>\n",
       "      <td>PRJNA49593</td>\n",
       "      <td>SAMN03085433</td>\n",
       "      <td>NaN</td>\n",
       "      <td>na</td>\n",
       "      <td>2162</td>\n",
       "      <td>2162</td>\n",
       "      <td>Methanobacterium formicicum</td>\n",
       "      <td>strain=BRM9</td>\n",
       "      <td>NaN</td>\n",
       "      <td>...</td>\n",
       "      <td>Full</td>\n",
       "      <td>02/10/2014</td>\n",
       "      <td>ASM76226v1</td>\n",
       "      <td>PGgRc</td>\n",
       "      <td>GCF_000762265.1</td>\n",
       "      <td>identical</td>\n",
       "      <td>https://ftp.ncbi.nlm.nih.gov/genomes/all/GCA/0...</td>\n",
       "      <td>NaN</td>\n",
       "      <td>NaN</td>\n",
       "      <td>na</td>\n",
       "    </tr>\n",
       "    <tr>\n",
       "      <th>1</th>\n",
       "      <td>GCA_000953115.1</td>\n",
       "      <td>PRJEB7090</td>\n",
       "      <td>SAMEA2724982</td>\n",
       "      <td>NaN</td>\n",
       "      <td>na</td>\n",
       "      <td>2162</td>\n",
       "      <td>2162</td>\n",
       "      <td>Methanobacterium formicicum</td>\n",
       "      <td>NaN</td>\n",
       "      <td>NaN</td>\n",
       "      <td>...</td>\n",
       "      <td>Full</td>\n",
       "      <td>10/09/2014</td>\n",
       "      <td>DSM1535</td>\n",
       "      <td>CEBITEC</td>\n",
       "      <td>GCF_000953115.1</td>\n",
       "      <td>identical</td>\n",
       "      <td>https://ftp.ncbi.nlm.nih.gov/genomes/all/GCA/0...</td>\n",
       "      <td>contaminated</td>\n",
       "      <td>NaN</td>\n",
       "      <td>na</td>\n",
       "    </tr>\n",
       "    <tr>\n",
       "      <th>2</th>\n",
       "      <td>GCA_001458655.1</td>\n",
       "      <td>PRJEB7298</td>\n",
       "      <td>SAMEA2779801</td>\n",
       "      <td>NaN</td>\n",
       "      <td>representative genome</td>\n",
       "      <td>2162</td>\n",
       "      <td>2162</td>\n",
       "      <td>Methanobacterium formicicum</td>\n",
       "      <td>NaN</td>\n",
       "      <td>Mb9</td>\n",
       "      <td>...</td>\n",
       "      <td>Full</td>\n",
       "      <td>16/11/2015</td>\n",
       "      <td>Mb9</td>\n",
       "      <td>CEBITEC</td>\n",
       "      <td>GCF_001458655.1</td>\n",
       "      <td>identical</td>\n",
       "      <td>https://ftp.ncbi.nlm.nih.gov/genomes/all/GCA/0...</td>\n",
       "      <td>NaN</td>\n",
       "      <td>NaN</td>\n",
       "      <td>na</td>\n",
       "    </tr>\n",
       "    <tr>\n",
       "      <th>3</th>\n",
       "      <td>GCA_002813085.1</td>\n",
       "      <td>PRJNA350240</td>\n",
       "      <td>SAMN05935551</td>\n",
       "      <td>NaN</td>\n",
       "      <td>na</td>\n",
       "      <td>2173</td>\n",
       "      <td>2173</td>\n",
       "      <td>Methanobrevibacter smithii</td>\n",
       "      <td>strain=KB11</td>\n",
       "      <td>NaN</td>\n",
       "      <td>...</td>\n",
       "      <td>Full</td>\n",
       "      <td>06/12/2017</td>\n",
       "      <td>ASM281308v1</td>\n",
       "      <td>KRIBB</td>\n",
       "      <td>GCF_002813085.1</td>\n",
       "      <td>identical</td>\n",
       "      <td>https://ftp.ncbi.nlm.nih.gov/genomes/all/GCA/0...</td>\n",
       "      <td>NaN</td>\n",
       "      <td>NaN</td>\n",
       "      <td>na</td>\n",
       "    </tr>\n",
       "    <tr>\n",
       "      <th>4</th>\n",
       "      <td>GCA_022846155.1</td>\n",
       "      <td>PRJDB11902</td>\n",
       "      <td>SAMD00389909</td>\n",
       "      <td>NaN</td>\n",
       "      <td>na</td>\n",
       "      <td>2173</td>\n",
       "      <td>2173</td>\n",
       "      <td>Methanobrevibacter smithii</td>\n",
       "      <td>strain=CE91-St67</td>\n",
       "      <td>NaN</td>\n",
       "      <td>...</td>\n",
       "      <td>Full</td>\n",
       "      <td>04/02/2022</td>\n",
       "      <td>ASM2284615v1</td>\n",
       "      <td>Laboratory for Microbiome Sciences, Center for...</td>\n",
       "      <td>GCF_022846155.1</td>\n",
       "      <td>identical</td>\n",
       "      <td>https://ftp.ncbi.nlm.nih.gov/genomes/all/GCA/0...</td>\n",
       "      <td>NaN</td>\n",
       "      <td>NaN</td>\n",
       "      <td>na</td>\n",
       "    </tr>\n",
       "    <tr>\n",
       "      <th>...</th>\n",
       "      <td>...</td>\n",
       "      <td>...</td>\n",
       "      <td>...</td>\n",
       "      <td>...</td>\n",
       "      <td>...</td>\n",
       "      <td>...</td>\n",
       "      <td>...</td>\n",
       "      <td>...</td>\n",
       "      <td>...</td>\n",
       "      <td>...</td>\n",
       "      <td>...</td>\n",
       "      <td>...</td>\n",
       "      <td>...</td>\n",
       "      <td>...</td>\n",
       "      <td>...</td>\n",
       "      <td>...</td>\n",
       "      <td>...</td>\n",
       "      <td>...</td>\n",
       "      <td>...</td>\n",
       "      <td>...</td>\n",
       "      <td>...</td>\n",
       "    </tr>\n",
       "    <tr>\n",
       "      <th>585</th>\n",
       "      <td>GCA_029338355.1</td>\n",
       "      <td>PRJNA943336</td>\n",
       "      <td>SAMN33716776</td>\n",
       "      <td>NaN</td>\n",
       "      <td>na</td>\n",
       "      <td>3034023</td>\n",
       "      <td>3034023</td>\n",
       "      <td>Halosegnis sp. DT85</td>\n",
       "      <td>strain=DT85</td>\n",
       "      <td>NaN</td>\n",
       "      <td>...</td>\n",
       "      <td>Full</td>\n",
       "      <td>22/03/2023</td>\n",
       "      <td>ASM2933835v1</td>\n",
       "      <td>Jiangsu University</td>\n",
       "      <td>GCF_029338355.1</td>\n",
       "      <td>identical</td>\n",
       "      <td>https://ftp.ncbi.nlm.nih.gov/genomes/all/GCA/0...</td>\n",
       "      <td>NaN</td>\n",
       "      <td>NaN</td>\n",
       "      <td>na</td>\n",
       "    </tr>\n",
       "    <tr>\n",
       "      <th>586</th>\n",
       "      <td>GCA_029338375.1</td>\n",
       "      <td>PRJNA943339</td>\n",
       "      <td>SAMN33716851</td>\n",
       "      <td>NaN</td>\n",
       "      <td>na</td>\n",
       "      <td>3034024</td>\n",
       "      <td>3034024</td>\n",
       "      <td>Halorussus sp. DT80</td>\n",
       "      <td>strain=DT80</td>\n",
       "      <td>NaN</td>\n",
       "      <td>...</td>\n",
       "      <td>Full</td>\n",
       "      <td>22/03/2023</td>\n",
       "      <td>ASM2933837v1</td>\n",
       "      <td>Jiangsu University</td>\n",
       "      <td>GCF_029338375.1</td>\n",
       "      <td>identical</td>\n",
       "      <td>https://ftp.ncbi.nlm.nih.gov/genomes/all/GCA/0...</td>\n",
       "      <td>NaN</td>\n",
       "      <td>NaN</td>\n",
       "      <td>na</td>\n",
       "    </tr>\n",
       "    <tr>\n",
       "      <th>587</th>\n",
       "      <td>GCA_029338395.1</td>\n",
       "      <td>PRJNA943350</td>\n",
       "      <td>SAMN33716999</td>\n",
       "      <td>NaN</td>\n",
       "      <td>na</td>\n",
       "      <td>3034025</td>\n",
       "      <td>3034025</td>\n",
       "      <td>Halorussus sp. DT72</td>\n",
       "      <td>strain=DT72</td>\n",
       "      <td>NaN</td>\n",
       "      <td>...</td>\n",
       "      <td>Full</td>\n",
       "      <td>22/03/2023</td>\n",
       "      <td>ASM2933839v1</td>\n",
       "      <td>Jiangsu University</td>\n",
       "      <td>GCF_029338395.1</td>\n",
       "      <td>identical</td>\n",
       "      <td>https://ftp.ncbi.nlm.nih.gov/genomes/all/GCA/0...</td>\n",
       "      <td>NaN</td>\n",
       "      <td>NaN</td>\n",
       "      <td>na</td>\n",
       "    </tr>\n",
       "    <tr>\n",
       "      <th>588</th>\n",
       "      <td>GCA_029338515.1</td>\n",
       "      <td>PRJNA943353</td>\n",
       "      <td>SAMN33717057</td>\n",
       "      <td>NaN</td>\n",
       "      <td>na</td>\n",
       "      <td>3034026</td>\n",
       "      <td>3034026</td>\n",
       "      <td>Haloglomus sp. DT116</td>\n",
       "      <td>strain=DT116</td>\n",
       "      <td>NaN</td>\n",
       "      <td>...</td>\n",
       "      <td>Full</td>\n",
       "      <td>22/03/2023</td>\n",
       "      <td>ASM2933851v1</td>\n",
       "      <td>Jiangsu University</td>\n",
       "      <td>GCF_029338515.1</td>\n",
       "      <td>identical</td>\n",
       "      <td>https://ftp.ncbi.nlm.nih.gov/genomes/all/GCA/0...</td>\n",
       "      <td>NaN</td>\n",
       "      <td>NaN</td>\n",
       "      <td>na</td>\n",
       "    </tr>\n",
       "    <tr>\n",
       "      <th>589</th>\n",
       "      <td>GCA_029854155.1</td>\n",
       "      <td>PRJNA949680</td>\n",
       "      <td>SAMN33954831</td>\n",
       "      <td>NaN</td>\n",
       "      <td>na</td>\n",
       "      <td>3037654</td>\n",
       "      <td>3037654</td>\n",
       "      <td>Methanonatronarchaeum sp. AMET-Sl</td>\n",
       "      <td>strain=AMET-Sl</td>\n",
       "      <td>NaN</td>\n",
       "      <td>...</td>\n",
       "      <td>Full</td>\n",
       "      <td>23/04/2023</td>\n",
       "      <td>ASM2985415v1</td>\n",
       "      <td>Research Center of Biotechnology RAS</td>\n",
       "      <td>GCF_029854155.1</td>\n",
       "      <td>identical</td>\n",
       "      <td>https://ftp.ncbi.nlm.nih.gov/genomes/all/GCA/0...</td>\n",
       "      <td>NaN</td>\n",
       "      <td>NaN</td>\n",
       "      <td>na</td>\n",
       "    </tr>\n",
       "  </tbody>\n",
       "</table>\n",
       "<p>590 rows × 23 columns</p>\n",
       "</div>"
      ],
      "text/plain": [
       "    assembly_accession   bioproject     biosample  wgs_master  \\\n",
       "0      GCA_000762265.1   PRJNA49593  SAMN03085433         NaN   \n",
       "1      GCA_000953115.1    PRJEB7090  SAMEA2724982         NaN   \n",
       "2      GCA_001458655.1    PRJEB7298  SAMEA2779801         NaN   \n",
       "3      GCA_002813085.1  PRJNA350240  SAMN05935551         NaN   \n",
       "4      GCA_022846155.1   PRJDB11902  SAMD00389909         NaN   \n",
       "..                 ...          ...           ...         ...   \n",
       "585    GCA_029338355.1  PRJNA943336  SAMN33716776         NaN   \n",
       "586    GCA_029338375.1  PRJNA943339  SAMN33716851         NaN   \n",
       "587    GCA_029338395.1  PRJNA943350  SAMN33716999         NaN   \n",
       "588    GCA_029338515.1  PRJNA943353  SAMN33717057         NaN   \n",
       "589    GCA_029854155.1  PRJNA949680  SAMN33954831         NaN   \n",
       "\n",
       "           refseq_category    taxid  species_taxid  \\\n",
       "0                       na     2162           2162   \n",
       "1                       na     2162           2162   \n",
       "2    representative genome     2162           2162   \n",
       "3                       na     2173           2173   \n",
       "4                       na     2173           2173   \n",
       "..                     ...      ...            ...   \n",
       "585                     na  3034023        3034023   \n",
       "586                     na  3034024        3034024   \n",
       "587                     na  3034025        3034025   \n",
       "588                     na  3034026        3034026   \n",
       "589                     na  3037654        3037654   \n",
       "\n",
       "                         organism_name infraspecific_name isolate  ...  \\\n",
       "0          Methanobacterium formicicum        strain=BRM9     NaN  ...   \n",
       "1          Methanobacterium formicicum                NaN     NaN  ...   \n",
       "2          Methanobacterium formicicum                NaN     Mb9  ...   \n",
       "3           Methanobrevibacter smithii        strain=KB11     NaN  ...   \n",
       "4           Methanobrevibacter smithii   strain=CE91-St67     NaN  ...   \n",
       "..                                 ...                ...     ...  ...   \n",
       "585                Halosegnis sp. DT85        strain=DT85     NaN  ...   \n",
       "586                Halorussus sp. DT80        strain=DT80     NaN  ...   \n",
       "587                Halorussus sp. DT72        strain=DT72     NaN  ...   \n",
       "588               Haloglomus sp. DT116       strain=DT116     NaN  ...   \n",
       "589  Methanonatronarchaeum sp. AMET-Sl     strain=AMET-Sl     NaN  ...   \n",
       "\n",
       "    genome_rep seq_rel_date      asm_name  \\\n",
       "0         Full   02/10/2014    ASM76226v1   \n",
       "1         Full   10/09/2014       DSM1535   \n",
       "2         Full   16/11/2015           Mb9   \n",
       "3         Full   06/12/2017   ASM281308v1   \n",
       "4         Full   04/02/2022  ASM2284615v1   \n",
       "..         ...          ...           ...   \n",
       "585       Full   22/03/2023  ASM2933835v1   \n",
       "586       Full   22/03/2023  ASM2933837v1   \n",
       "587       Full   22/03/2023  ASM2933839v1   \n",
       "588       Full   22/03/2023  ASM2933851v1   \n",
       "589       Full   23/04/2023  ASM2985415v1   \n",
       "\n",
       "                                             submitter  gbrs_paired_asm  \\\n",
       "0                                                PGgRc  GCF_000762265.1   \n",
       "1                                              CEBITEC  GCF_000953115.1   \n",
       "2                                              CEBITEC  GCF_001458655.1   \n",
       "3                                                KRIBB  GCF_002813085.1   \n",
       "4    Laboratory for Microbiome Sciences, Center for...  GCF_022846155.1   \n",
       "..                                                 ...              ...   \n",
       "585                                 Jiangsu University  GCF_029338355.1   \n",
       "586                                 Jiangsu University  GCF_029338375.1   \n",
       "587                                 Jiangsu University  GCF_029338395.1   \n",
       "588                                 Jiangsu University  GCF_029338515.1   \n",
       "589               Research Center of Biotechnology RAS  GCF_029854155.1   \n",
       "\n",
       "    paired_asm_comp                                           ftp_path  \\\n",
       "0         identical  https://ftp.ncbi.nlm.nih.gov/genomes/all/GCA/0...   \n",
       "1         identical  https://ftp.ncbi.nlm.nih.gov/genomes/all/GCA/0...   \n",
       "2         identical  https://ftp.ncbi.nlm.nih.gov/genomes/all/GCA/0...   \n",
       "3         identical  https://ftp.ncbi.nlm.nih.gov/genomes/all/GCA/0...   \n",
       "4         identical  https://ftp.ncbi.nlm.nih.gov/genomes/all/GCA/0...   \n",
       "..              ...                                                ...   \n",
       "585       identical  https://ftp.ncbi.nlm.nih.gov/genomes/all/GCA/0...   \n",
       "586       identical  https://ftp.ncbi.nlm.nih.gov/genomes/all/GCA/0...   \n",
       "587       identical  https://ftp.ncbi.nlm.nih.gov/genomes/all/GCA/0...   \n",
       "588       identical  https://ftp.ncbi.nlm.nih.gov/genomes/all/GCA/0...   \n",
       "589       identical  https://ftp.ncbi.nlm.nih.gov/genomes/all/GCA/0...   \n",
       "\n",
       "    excluded_from_refseq relation_to_type_material asm_not_live_date  \n",
       "0                    NaN                       NaN                na  \n",
       "1           contaminated                       NaN                na  \n",
       "2                    NaN                       NaN                na  \n",
       "3                    NaN                       NaN                na  \n",
       "4                    NaN                       NaN                na  \n",
       "..                   ...                       ...               ...  \n",
       "585                  NaN                       NaN                na  \n",
       "586                  NaN                       NaN                na  \n",
       "587                  NaN                       NaN                na  \n",
       "588                  NaN                       NaN                na  \n",
       "589                  NaN                       NaN                na  \n",
       "\n",
       "[590 rows x 23 columns]"
      ]
     },
     "execution_count": 6,
     "metadata": {},
     "output_type": "execute_result"
    }
   ],
   "source": [
    "archaeal_genomes_data"
   ]
  },
  {
   "cell_type": "markdown",
   "id": "b597b613-e7bc-49fa-96e9-fbdd70127c21",
   "metadata": {},
   "source": [
    "- Use marry_find.py to create our datasets.\n",
    "---------\n",
    "\n",
    "- format in command line:\n",
    "1. python marry_find.py archaea_complete_genomes.csv\n",
    "2. python marry_find.py bacteria_complete_genomes.csv\n",
    "\n",
    "---------\n",
    "- Make sure temperature_data.csv and the NCBI summary is in the same location as the python program.\n",
    "- Marry_find will create a csv file containing a dataframe of genomes with known OGTs. Known OGTs are from ogt_data, genomes are from either bacterial_genomes_data or archaeal_genomes_data."
   ]
  },
  {
   "cell_type": "code",
   "execution_count": 7,
   "id": "0cd527f7-2585-4bcb-a9e8-2391c6779609",
   "metadata": {},
   "outputs": [],
   "source": [
    "##investigate the resulting datasets\n",
    "bact_ogt_with_genomes = pd.read_csv('bact_dataset_with_ogt_and_genomes.csv')\n",
    "arch_ogt_with_genomes = pd.read_csv('archaea_dataset_with_ogt_and_genomes.csv')"
   ]
  },
  {
   "cell_type": "code",
   "execution_count": 8,
   "id": "be403c12-69f9-44a4-82c2-f32acb1b9add",
   "metadata": {},
   "outputs": [
    {
     "data": {
      "text/html": [
       "<div>\n",
       "<style scoped>\n",
       "    .dataframe tbody tr th:only-of-type {\n",
       "        vertical-align: middle;\n",
       "    }\n",
       "\n",
       "    .dataframe tbody tr th {\n",
       "        vertical-align: top;\n",
       "    }\n",
       "\n",
       "    .dataframe thead th {\n",
       "        text-align: right;\n",
       "    }\n",
       "</style>\n",
       "<table border=\"1\" class=\"dataframe\">\n",
       "  <thead>\n",
       "    <tr style=\"text-align: right;\">\n",
       "      <th></th>\n",
       "      <th>assembly_accession</th>\n",
       "      <th>bioproject</th>\n",
       "      <th>biosample</th>\n",
       "      <th>wgs_master</th>\n",
       "      <th>refseq_category</th>\n",
       "      <th>taxid</th>\n",
       "      <th>species_taxid</th>\n",
       "      <th>organism_name</th>\n",
       "      <th>infraspecific_name</th>\n",
       "      <th>isolate</th>\n",
       "      <th>...</th>\n",
       "      <th>seq_rel_date</th>\n",
       "      <th>asm_name</th>\n",
       "      <th>submitter</th>\n",
       "      <th>gbrs_paired_asm</th>\n",
       "      <th>paired_asm_comp</th>\n",
       "      <th>ftp_path</th>\n",
       "      <th>excluded_from_refseq</th>\n",
       "      <th>relation_to_type_material</th>\n",
       "      <th>asm_not_live_date</th>\n",
       "      <th>OGT</th>\n",
       "    </tr>\n",
       "  </thead>\n",
       "  <tbody>\n",
       "    <tr>\n",
       "      <th>0</th>\n",
       "      <td>GCA_019931005.1</td>\n",
       "      <td>PRJNA231221</td>\n",
       "      <td>SAMN20888894</td>\n",
       "      <td>NaN</td>\n",
       "      <td>representative genome</td>\n",
       "      <td>46124</td>\n",
       "      <td>46124</td>\n",
       "      <td>Granulicatella adiacens</td>\n",
       "      <td>strain=FDAARGOS_1477</td>\n",
       "      <td>NaN</td>\n",
       "      <td>...</td>\n",
       "      <td>12/09/2021</td>\n",
       "      <td>ASM1993100v1</td>\n",
       "      <td>US Food and Drug Administration</td>\n",
       "      <td>GCF_019931005.1</td>\n",
       "      <td>identical</td>\n",
       "      <td>https://ftp.ncbi.nlm.nih.gov/genomes/all/GCA/0...</td>\n",
       "      <td>NaN</td>\n",
       "      <td>assembly from type material</td>\n",
       "      <td>na</td>\n",
       "      <td>37</td>\n",
       "    </tr>\n",
       "    <tr>\n",
       "      <th>1</th>\n",
       "      <td>GCA_025642215.1</td>\n",
       "      <td>PRJNA883546</td>\n",
       "      <td>SAMN30968860</td>\n",
       "      <td>NaN</td>\n",
       "      <td>na</td>\n",
       "      <td>46124</td>\n",
       "      <td>46124</td>\n",
       "      <td>Granulicatella adiacens</td>\n",
       "      <td>strain=KHUD_009</td>\n",
       "      <td>NaN</td>\n",
       "      <td>...</td>\n",
       "      <td>11/10/2022</td>\n",
       "      <td>ASM2564221v1</td>\n",
       "      <td>Kyung Hee University</td>\n",
       "      <td>GCF_025642215.1</td>\n",
       "      <td>identical</td>\n",
       "      <td>https://ftp.ncbi.nlm.nih.gov/genomes/all/GCA/0...</td>\n",
       "      <td>NaN</td>\n",
       "      <td>NaN</td>\n",
       "      <td>na</td>\n",
       "      <td>37</td>\n",
       "    </tr>\n",
       "    <tr>\n",
       "      <th>2</th>\n",
       "      <td>GCA_025150565.1</td>\n",
       "      <td>PRJNA746600</td>\n",
       "      <td>SAMN20222693</td>\n",
       "      <td>NaN</td>\n",
       "      <td>na</td>\n",
       "      <td>638301</td>\n",
       "      <td>46124</td>\n",
       "      <td>Granulicatella adiacens ATCC 49175</td>\n",
       "      <td>strain=ATCC 49175</td>\n",
       "      <td>NaN</td>\n",
       "      <td>...</td>\n",
       "      <td>12/09/2022</td>\n",
       "      <td>ASM2515056v1</td>\n",
       "      <td>Stanford University</td>\n",
       "      <td>GCF_025150565.1</td>\n",
       "      <td>identical</td>\n",
       "      <td>https://ftp.ncbi.nlm.nih.gov/genomes/all/GCA/0...</td>\n",
       "      <td>NaN</td>\n",
       "      <td>assembly from type material</td>\n",
       "      <td>na</td>\n",
       "      <td>37</td>\n",
       "    </tr>\n",
       "    <tr>\n",
       "      <th>3</th>\n",
       "      <td>GCA_013267415.1</td>\n",
       "      <td>PRJNA231221</td>\n",
       "      <td>SAMN11056500</td>\n",
       "      <td>NaN</td>\n",
       "      <td>representative genome</td>\n",
       "      <td>46125</td>\n",
       "      <td>46125</td>\n",
       "      <td>Abiotrophia defectiva</td>\n",
       "      <td>strain=FDAARGOS_785</td>\n",
       "      <td>NaN</td>\n",
       "      <td>...</td>\n",
       "      <td>04/06/2020</td>\n",
       "      <td>ASM1326741v1</td>\n",
       "      <td>US Food and Drug Administration</td>\n",
       "      <td>GCF_013267415.1</td>\n",
       "      <td>identical</td>\n",
       "      <td>https://ftp.ncbi.nlm.nih.gov/genomes/all/GCA/0...</td>\n",
       "      <td>NaN</td>\n",
       "      <td>assembly from type material</td>\n",
       "      <td>na</td>\n",
       "      <td>37</td>\n",
       "    </tr>\n",
       "    <tr>\n",
       "      <th>4</th>\n",
       "      <td>GCA_020735385.1</td>\n",
       "      <td>PRJNA231221</td>\n",
       "      <td>SAMN22091656</td>\n",
       "      <td>NaN</td>\n",
       "      <td>na</td>\n",
       "      <td>137732</td>\n",
       "      <td>137732</td>\n",
       "      <td>Granulicatella elegans</td>\n",
       "      <td>strain=FDAARGOS_1559</td>\n",
       "      <td>NaN</td>\n",
       "      <td>...</td>\n",
       "      <td>03/11/2021</td>\n",
       "      <td>ASM2073538v1</td>\n",
       "      <td>US Food and Drug Administration</td>\n",
       "      <td>GCF_020735385.1</td>\n",
       "      <td>identical</td>\n",
       "      <td>https://ftp.ncbi.nlm.nih.gov/genomes/all/GCA/0...</td>\n",
       "      <td>NaN</td>\n",
       "      <td>assembly from type material</td>\n",
       "      <td>na</td>\n",
       "      <td>37</td>\n",
       "    </tr>\n",
       "    <tr>\n",
       "      <th>...</th>\n",
       "      <td>...</td>\n",
       "      <td>...</td>\n",
       "      <td>...</td>\n",
       "      <td>...</td>\n",
       "      <td>...</td>\n",
       "      <td>...</td>\n",
       "      <td>...</td>\n",
       "      <td>...</td>\n",
       "      <td>...</td>\n",
       "      <td>...</td>\n",
       "      <td>...</td>\n",
       "      <td>...</td>\n",
       "      <td>...</td>\n",
       "      <td>...</td>\n",
       "      <td>...</td>\n",
       "      <td>...</td>\n",
       "      <td>...</td>\n",
       "      <td>...</td>\n",
       "      <td>...</td>\n",
       "      <td>...</td>\n",
       "      <td>...</td>\n",
       "    </tr>\n",
       "    <tr>\n",
       "      <th>31401</th>\n",
       "      <td>GCA_026435835.1</td>\n",
       "      <td>PRJNA778725</td>\n",
       "      <td>SAMN28878999</td>\n",
       "      <td>NaN</td>\n",
       "      <td>na</td>\n",
       "      <td>29486</td>\n",
       "      <td>29486</td>\n",
       "      <td>Yersinia ruckeri</td>\n",
       "      <td>strain=NVI-10571</td>\n",
       "      <td>NaN</td>\n",
       "      <td>...</td>\n",
       "      <td>28/11/2022</td>\n",
       "      <td>ASM2643583v1</td>\n",
       "      <td>Norwegian Veterinary Institute</td>\n",
       "      <td>GCF_026435835.1</td>\n",
       "      <td>identical</td>\n",
       "      <td>https://ftp.ncbi.nlm.nih.gov/genomes/all/GCA/0...</td>\n",
       "      <td>NaN</td>\n",
       "      <td>NaN</td>\n",
       "      <td>na</td>\n",
       "      <td>26</td>\n",
       "    </tr>\n",
       "    <tr>\n",
       "      <th>31402</th>\n",
       "      <td>GCA_000582515.1</td>\n",
       "      <td>PRJNA238010</td>\n",
       "      <td>SAMN02640350</td>\n",
       "      <td>NaN</td>\n",
       "      <td>representative genome</td>\n",
       "      <td>367190</td>\n",
       "      <td>367190</td>\n",
       "      <td>Yersinia similis</td>\n",
       "      <td>strain=228</td>\n",
       "      <td>NaN</td>\n",
       "      <td>...</td>\n",
       "      <td>26/02/2014</td>\n",
       "      <td>ASM58251v1</td>\n",
       "      <td>Friedrich-Loeffler-Institut</td>\n",
       "      <td>GCF_000582515.1</td>\n",
       "      <td>identical</td>\n",
       "      <td>https://ftp.ncbi.nlm.nih.gov/genomes/all/GCA/0...</td>\n",
       "      <td>NaN</td>\n",
       "      <td>assembly from type material</td>\n",
       "      <td>na</td>\n",
       "      <td>26</td>\n",
       "    </tr>\n",
       "    <tr>\n",
       "      <th>31403</th>\n",
       "      <td>GCA_002407485.1</td>\n",
       "      <td>PRJNA294591</td>\n",
       "      <td>SAMN04027252</td>\n",
       "      <td>NaN</td>\n",
       "      <td>representative genome</td>\n",
       "      <td>347534</td>\n",
       "      <td>347534</td>\n",
       "      <td>Zobellella denitrificans</td>\n",
       "      <td>strain=F13-1</td>\n",
       "      <td>NaN</td>\n",
       "      <td>...</td>\n",
       "      <td>02/10/2017</td>\n",
       "      <td>ASM240748v1</td>\n",
       "      <td>The Third Institute of State Oceanic Administr...</td>\n",
       "      <td>GCF_002407485.1</td>\n",
       "      <td>identical</td>\n",
       "      <td>https://ftp.ncbi.nlm.nih.gov/genomes/all/GCA/0...</td>\n",
       "      <td>NaN</td>\n",
       "      <td>NaN</td>\n",
       "      <td>na</td>\n",
       "      <td>26</td>\n",
       "    </tr>\n",
       "    <tr>\n",
       "      <th>31404</th>\n",
       "      <td>GCA_000973105.1</td>\n",
       "      <td>PRJEB8976</td>\n",
       "      <td>SAMEA3315864</td>\n",
       "      <td>NaN</td>\n",
       "      <td>representative genome</td>\n",
       "      <td>63186</td>\n",
       "      <td>63186</td>\n",
       "      <td>Zobellia galactanivorans</td>\n",
       "      <td>strain=DsiJT</td>\n",
       "      <td>NaN</td>\n",
       "      <td>...</td>\n",
       "      <td>10/07/2011</td>\n",
       "      <td>ASM97310v1</td>\n",
       "      <td>Genoscope CEA</td>\n",
       "      <td>GCF_000973105.1</td>\n",
       "      <td>identical</td>\n",
       "      <td>https://ftp.ncbi.nlm.nih.gov/genomes/all/GCA/0...</td>\n",
       "      <td>NaN</td>\n",
       "      <td>assembly from type material</td>\n",
       "      <td>na</td>\n",
       "      <td>26</td>\n",
       "    </tr>\n",
       "    <tr>\n",
       "      <th>31405</th>\n",
       "      <td>GCA_003610015.1</td>\n",
       "      <td>PRJDB7364</td>\n",
       "      <td>SAMD00136070</td>\n",
       "      <td>NaN</td>\n",
       "      <td>representative genome</td>\n",
       "      <td>33074</td>\n",
       "      <td>33074</td>\n",
       "      <td>Zymobacter palmae</td>\n",
       "      <td>strain=IAM14233</td>\n",
       "      <td>NaN</td>\n",
       "      <td>...</td>\n",
       "      <td>12/09/2018</td>\n",
       "      <td>ASM361001v1</td>\n",
       "      <td>Tottori University</td>\n",
       "      <td>GCF_003610015.1</td>\n",
       "      <td>identical</td>\n",
       "      <td>https://ftp.ncbi.nlm.nih.gov/genomes/all/GCA/0...</td>\n",
       "      <td>NaN</td>\n",
       "      <td>assembly from type material</td>\n",
       "      <td>na</td>\n",
       "      <td>26</td>\n",
       "    </tr>\n",
       "  </tbody>\n",
       "</table>\n",
       "<p>31406 rows × 24 columns</p>\n",
       "</div>"
      ],
      "text/plain": [
       "      assembly_accession   bioproject     biosample  wgs_master  \\\n",
       "0        GCA_019931005.1  PRJNA231221  SAMN20888894         NaN   \n",
       "1        GCA_025642215.1  PRJNA883546  SAMN30968860         NaN   \n",
       "2        GCA_025150565.1  PRJNA746600  SAMN20222693         NaN   \n",
       "3        GCA_013267415.1  PRJNA231221  SAMN11056500         NaN   \n",
       "4        GCA_020735385.1  PRJNA231221  SAMN22091656         NaN   \n",
       "...                  ...          ...           ...         ...   \n",
       "31401    GCA_026435835.1  PRJNA778725  SAMN28878999         NaN   \n",
       "31402    GCA_000582515.1  PRJNA238010  SAMN02640350         NaN   \n",
       "31403    GCA_002407485.1  PRJNA294591  SAMN04027252         NaN   \n",
       "31404    GCA_000973105.1    PRJEB8976  SAMEA3315864         NaN   \n",
       "31405    GCA_003610015.1    PRJDB7364  SAMD00136070         NaN   \n",
       "\n",
       "             refseq_category   taxid  species_taxid  \\\n",
       "0      representative genome   46124          46124   \n",
       "1                         na   46124          46124   \n",
       "2                         na  638301          46124   \n",
       "3      representative genome   46125          46125   \n",
       "4                         na  137732         137732   \n",
       "...                      ...     ...            ...   \n",
       "31401                     na   29486          29486   \n",
       "31402  representative genome  367190         367190   \n",
       "31403  representative genome  347534         347534   \n",
       "31404  representative genome   63186          63186   \n",
       "31405  representative genome   33074          33074   \n",
       "\n",
       "                            organism_name    infraspecific_name isolate  ...  \\\n",
       "0                 Granulicatella adiacens  strain=FDAARGOS_1477     NaN  ...   \n",
       "1                 Granulicatella adiacens       strain=KHUD_009     NaN  ...   \n",
       "2      Granulicatella adiacens ATCC 49175     strain=ATCC 49175     NaN  ...   \n",
       "3                   Abiotrophia defectiva   strain=FDAARGOS_785     NaN  ...   \n",
       "4                  Granulicatella elegans  strain=FDAARGOS_1559     NaN  ...   \n",
       "...                                   ...                   ...     ...  ...   \n",
       "31401                    Yersinia ruckeri      strain=NVI-10571     NaN  ...   \n",
       "31402                    Yersinia similis            strain=228     NaN  ...   \n",
       "31403            Zobellella denitrificans          strain=F13-1     NaN  ...   \n",
       "31404            Zobellia galactanivorans          strain=DsiJT     NaN  ...   \n",
       "31405                   Zymobacter palmae       strain=IAM14233     NaN  ...   \n",
       "\n",
       "      seq_rel_date      asm_name  \\\n",
       "0       12/09/2021  ASM1993100v1   \n",
       "1       11/10/2022  ASM2564221v1   \n",
       "2       12/09/2022  ASM2515056v1   \n",
       "3       04/06/2020  ASM1326741v1   \n",
       "4       03/11/2021  ASM2073538v1   \n",
       "...            ...           ...   \n",
       "31401   28/11/2022  ASM2643583v1   \n",
       "31402   26/02/2014    ASM58251v1   \n",
       "31403   02/10/2017   ASM240748v1   \n",
       "31404   10/07/2011    ASM97310v1   \n",
       "31405   12/09/2018   ASM361001v1   \n",
       "\n",
       "                                               submitter  gbrs_paired_asm  \\\n",
       "0                        US Food and Drug Administration  GCF_019931005.1   \n",
       "1                                   Kyung Hee University  GCF_025642215.1   \n",
       "2                                    Stanford University  GCF_025150565.1   \n",
       "3                        US Food and Drug Administration  GCF_013267415.1   \n",
       "4                        US Food and Drug Administration  GCF_020735385.1   \n",
       "...                                                  ...              ...   \n",
       "31401                     Norwegian Veterinary Institute  GCF_026435835.1   \n",
       "31402                        Friedrich-Loeffler-Institut  GCF_000582515.1   \n",
       "31403  The Third Institute of State Oceanic Administr...  GCF_002407485.1   \n",
       "31404                                      Genoscope CEA  GCF_000973105.1   \n",
       "31405                                 Tottori University  GCF_003610015.1   \n",
       "\n",
       "      paired_asm_comp                                           ftp_path  \\\n",
       "0           identical  https://ftp.ncbi.nlm.nih.gov/genomes/all/GCA/0...   \n",
       "1           identical  https://ftp.ncbi.nlm.nih.gov/genomes/all/GCA/0...   \n",
       "2           identical  https://ftp.ncbi.nlm.nih.gov/genomes/all/GCA/0...   \n",
       "3           identical  https://ftp.ncbi.nlm.nih.gov/genomes/all/GCA/0...   \n",
       "4           identical  https://ftp.ncbi.nlm.nih.gov/genomes/all/GCA/0...   \n",
       "...               ...                                                ...   \n",
       "31401       identical  https://ftp.ncbi.nlm.nih.gov/genomes/all/GCA/0...   \n",
       "31402       identical  https://ftp.ncbi.nlm.nih.gov/genomes/all/GCA/0...   \n",
       "31403       identical  https://ftp.ncbi.nlm.nih.gov/genomes/all/GCA/0...   \n",
       "31404       identical  https://ftp.ncbi.nlm.nih.gov/genomes/all/GCA/0...   \n",
       "31405       identical  https://ftp.ncbi.nlm.nih.gov/genomes/all/GCA/0...   \n",
       "\n",
       "      excluded_from_refseq    relation_to_type_material asm_not_live_date OGT  \n",
       "0                      NaN  assembly from type material                na  37  \n",
       "1                      NaN                          NaN                na  37  \n",
       "2                      NaN  assembly from type material                na  37  \n",
       "3                      NaN  assembly from type material                na  37  \n",
       "4                      NaN  assembly from type material                na  37  \n",
       "...                    ...                          ...               ...  ..  \n",
       "31401                  NaN                          NaN                na  26  \n",
       "31402                  NaN  assembly from type material                na  26  \n",
       "31403                  NaN                          NaN                na  26  \n",
       "31404                  NaN  assembly from type material                na  26  \n",
       "31405                  NaN  assembly from type material                na  26  \n",
       "\n",
       "[31406 rows x 24 columns]"
      ]
     },
     "execution_count": 8,
     "metadata": {},
     "output_type": "execute_result"
    }
   ],
   "source": [
    "bact_ogt_with_genomes"
   ]
  },
  {
   "cell_type": "code",
   "execution_count": 9,
   "id": "27c25f51-7c04-4235-bc73-6a0931a7e9c7",
   "metadata": {},
   "outputs": [
    {
     "data": {
      "text/html": [
       "<div>\n",
       "<style scoped>\n",
       "    .dataframe tbody tr th:only-of-type {\n",
       "        vertical-align: middle;\n",
       "    }\n",
       "\n",
       "    .dataframe tbody tr th {\n",
       "        vertical-align: top;\n",
       "    }\n",
       "\n",
       "    .dataframe thead th {\n",
       "        text-align: right;\n",
       "    }\n",
       "</style>\n",
       "<table border=\"1\" class=\"dataframe\">\n",
       "  <thead>\n",
       "    <tr style=\"text-align: right;\">\n",
       "      <th></th>\n",
       "      <th>assembly_accession</th>\n",
       "      <th>bioproject</th>\n",
       "      <th>biosample</th>\n",
       "      <th>wgs_master</th>\n",
       "      <th>refseq_category</th>\n",
       "      <th>taxid</th>\n",
       "      <th>species_taxid</th>\n",
       "      <th>organism_name</th>\n",
       "      <th>infraspecific_name</th>\n",
       "      <th>isolate</th>\n",
       "      <th>...</th>\n",
       "      <th>asm_name</th>\n",
       "      <th>submitter</th>\n",
       "      <th>gbrs_paired_asm</th>\n",
       "      <th>paired_asm_comp</th>\n",
       "      <th>ftp_path</th>\n",
       "      <th>excluded_from_refseq</th>\n",
       "      <th>relation_to_type_material</th>\n",
       "      <th>asm_not_live_date</th>\n",
       "      <th>OGT</th>\n",
       "      <th>predicted_OGT</th>\n",
       "    </tr>\n",
       "  </thead>\n",
       "  <tbody>\n",
       "    <tr>\n",
       "      <th>0</th>\n",
       "      <td>GCA_009729015.1</td>\n",
       "      <td>PRJNA488459</td>\n",
       "      <td>SAMN09933089</td>\n",
       "      <td>NaN</td>\n",
       "      <td>representative genome</td>\n",
       "      <td>2283</td>\n",
       "      <td>2283</td>\n",
       "      <td>Acidianus ambivalens</td>\n",
       "      <td>strain=LEI 10</td>\n",
       "      <td>NaN</td>\n",
       "      <td>...</td>\n",
       "      <td>ASM972901v1</td>\n",
       "      <td>North Carolina State University</td>\n",
       "      <td>GCF_009729015.1</td>\n",
       "      <td>identical</td>\n",
       "      <td>https://ftp.ncbi.nlm.nih.gov/genomes/all/GCA/0...</td>\n",
       "      <td>NaN</td>\n",
       "      <td>assembly from type material</td>\n",
       "      <td>na</td>\n",
       "      <td>80</td>\n",
       "      <td>76.37</td>\n",
       "    </tr>\n",
       "    <tr>\n",
       "      <th>1</th>\n",
       "      <td>GCA_003201835.2</td>\n",
       "      <td>PRJNA463410</td>\n",
       "      <td>SAMN09071529</td>\n",
       "      <td>NaN</td>\n",
       "      <td>representative genome</td>\n",
       "      <td>41673</td>\n",
       "      <td>41673</td>\n",
       "      <td>Acidianus brierleyi</td>\n",
       "      <td>strain=DSM 1651</td>\n",
       "      <td>NaN</td>\n",
       "      <td>...</td>\n",
       "      <td>ASM320183v2</td>\n",
       "      <td>North Carolina State University</td>\n",
       "      <td>GCF_003201835.2</td>\n",
       "      <td>identical</td>\n",
       "      <td>https://ftp.ncbi.nlm.nih.gov/genomes/all/GCA/0...</td>\n",
       "      <td>NaN</td>\n",
       "      <td>assembly from type material</td>\n",
       "      <td>na</td>\n",
       "      <td>72</td>\n",
       "      <td>68.73</td>\n",
       "    </tr>\n",
       "    <tr>\n",
       "      <th>2</th>\n",
       "      <td>GCA_003201765.2</td>\n",
       "      <td>PRJNA463410</td>\n",
       "      <td>SAMN09071530</td>\n",
       "      <td>NaN</td>\n",
       "      <td>representative genome</td>\n",
       "      <td>619593</td>\n",
       "      <td>312539</td>\n",
       "      <td>Acidianus sulfidivorans JP7</td>\n",
       "      <td>strain=JP7</td>\n",
       "      <td>NaN</td>\n",
       "      <td>...</td>\n",
       "      <td>ASM320176v2</td>\n",
       "      <td>North Carolina State University</td>\n",
       "      <td>GCF_003201765.2</td>\n",
       "      <td>identical</td>\n",
       "      <td>https://ftp.ncbi.nlm.nih.gov/genomes/all/GCA/0...</td>\n",
       "      <td>NaN</td>\n",
       "      <td>assembly from type material</td>\n",
       "      <td>na</td>\n",
       "      <td>70</td>\n",
       "      <td>67.92</td>\n",
       "    </tr>\n",
       "    <tr>\n",
       "      <th>3</th>\n",
       "      <td>GCA_000144915.1</td>\n",
       "      <td>PRJNA39927</td>\n",
       "      <td>SAMN02603091</td>\n",
       "      <td>NaN</td>\n",
       "      <td>representative genome</td>\n",
       "      <td>666510</td>\n",
       "      <td>242703</td>\n",
       "      <td>Acidilobus saccharovorans 345-15</td>\n",
       "      <td>strain=345-15</td>\n",
       "      <td>NaN</td>\n",
       "      <td>...</td>\n",
       "      <td>ASM14491v1</td>\n",
       "      <td>Centre Bioengineering RAS</td>\n",
       "      <td>GCF_000144915.1</td>\n",
       "      <td>identical</td>\n",
       "      <td>https://ftp.ncbi.nlm.nih.gov/genomes/all/GCA/0...</td>\n",
       "      <td>NaN</td>\n",
       "      <td>assembly from type material</td>\n",
       "      <td>na</td>\n",
       "      <td>80</td>\n",
       "      <td>74.71</td>\n",
       "    </tr>\n",
       "    <tr>\n",
       "      <th>4</th>\n",
       "      <td>GCA_000025665.1</td>\n",
       "      <td>PRJNA38403</td>\n",
       "      <td>SAMN02598523</td>\n",
       "      <td>NaN</td>\n",
       "      <td>na</td>\n",
       "      <td>439481</td>\n",
       "      <td>379547</td>\n",
       "      <td>Aciduliprofundum boonei T469</td>\n",
       "      <td>strain=T469</td>\n",
       "      <td>NaN</td>\n",
       "      <td>...</td>\n",
       "      <td>ASM2566v1</td>\n",
       "      <td>US DOE Joint Genome Institute</td>\n",
       "      <td>GCF_000025665.1</td>\n",
       "      <td>identical</td>\n",
       "      <td>https://ftp.ncbi.nlm.nih.gov/genomes/all/GCA/0...</td>\n",
       "      <td>NaN</td>\n",
       "      <td>NaN</td>\n",
       "      <td>na</td>\n",
       "      <td>70</td>\n",
       "      <td>74.70</td>\n",
       "    </tr>\n",
       "    <tr>\n",
       "      <th>...</th>\n",
       "      <td>...</td>\n",
       "      <td>...</td>\n",
       "      <td>...</td>\n",
       "      <td>...</td>\n",
       "      <td>...</td>\n",
       "      <td>...</td>\n",
       "      <td>...</td>\n",
       "      <td>...</td>\n",
       "      <td>...</td>\n",
       "      <td>...</td>\n",
       "      <td>...</td>\n",
       "      <td>...</td>\n",
       "      <td>...</td>\n",
       "      <td>...</td>\n",
       "      <td>...</td>\n",
       "      <td>...</td>\n",
       "      <td>...</td>\n",
       "      <td>...</td>\n",
       "      <td>...</td>\n",
       "      <td>...</td>\n",
       "      <td>...</td>\n",
       "    </tr>\n",
       "    <tr>\n",
       "      <th>262</th>\n",
       "      <td>GCA_000193375.1</td>\n",
       "      <td>PRJNA64455</td>\n",
       "      <td>SAMN02603093</td>\n",
       "      <td>NaN</td>\n",
       "      <td>representative genome</td>\n",
       "      <td>999630</td>\n",
       "      <td>184117</td>\n",
       "      <td>Thermoproteus uzoniensis 768-20</td>\n",
       "      <td>strain=768-20</td>\n",
       "      <td>NaN</td>\n",
       "      <td>...</td>\n",
       "      <td>ASM19337v1</td>\n",
       "      <td>Centre Bioengineering RAS</td>\n",
       "      <td>GCF_000193375.1</td>\n",
       "      <td>identical</td>\n",
       "      <td>https://ftp.ncbi.nlm.nih.gov/genomes/all/GCA/0...</td>\n",
       "      <td>NaN</td>\n",
       "      <td>NaN</td>\n",
       "      <td>na</td>\n",
       "      <td>85</td>\n",
       "      <td>87.73</td>\n",
       "    </tr>\n",
       "    <tr>\n",
       "      <th>263</th>\n",
       "      <td>GCA_014962245.1</td>\n",
       "      <td>PRJNA668939</td>\n",
       "      <td>SAMN16428067</td>\n",
       "      <td>NaN</td>\n",
       "      <td>na</td>\n",
       "      <td>54254</td>\n",
       "      <td>54254</td>\n",
       "      <td>Thermosphaera aggregans</td>\n",
       "      <td>strain=3507</td>\n",
       "      <td>NaN</td>\n",
       "      <td>...</td>\n",
       "      <td>ASM1496224v1</td>\n",
       "      <td>National Research Center \"Kurchatov Institute\"</td>\n",
       "      <td>GCF_014962245.1</td>\n",
       "      <td>identical</td>\n",
       "      <td>https://ftp.ncbi.nlm.nih.gov/genomes/all/GCA/0...</td>\n",
       "      <td>NaN</td>\n",
       "      <td>NaN</td>\n",
       "      <td>na</td>\n",
       "      <td>85</td>\n",
       "      <td>92.40</td>\n",
       "    </tr>\n",
       "    <tr>\n",
       "      <th>264</th>\n",
       "      <td>GCA_000092185.1</td>\n",
       "      <td>PRJNA36571</td>\n",
       "      <td>SAMN02598509</td>\n",
       "      <td>NaN</td>\n",
       "      <td>representative genome</td>\n",
       "      <td>633148</td>\n",
       "      <td>54254</td>\n",
       "      <td>Thermosphaera aggregans DSM 11486</td>\n",
       "      <td>strain=DSM 11486</td>\n",
       "      <td>NaN</td>\n",
       "      <td>...</td>\n",
       "      <td>ASM9218v1</td>\n",
       "      <td>US DOE Joint Genome Institute (JGI-PGF)</td>\n",
       "      <td>GCF_000092185.1</td>\n",
       "      <td>identical</td>\n",
       "      <td>https://ftp.ncbi.nlm.nih.gov/genomes/all/GCA/0...</td>\n",
       "      <td>NaN</td>\n",
       "      <td>assembly from type material</td>\n",
       "      <td>na</td>\n",
       "      <td>85</td>\n",
       "      <td>94.00</td>\n",
       "    </tr>\n",
       "    <tr>\n",
       "      <th>265</th>\n",
       "      <td>GCA_000148385.1</td>\n",
       "      <td>PRJNA32589</td>\n",
       "      <td>SAMN00017002</td>\n",
       "      <td>NaN</td>\n",
       "      <td>representative genome</td>\n",
       "      <td>572478</td>\n",
       "      <td>164451</td>\n",
       "      <td>Vulcanisaeta distributa DSM 14429</td>\n",
       "      <td>strain=DSM 14429</td>\n",
       "      <td>NaN</td>\n",
       "      <td>...</td>\n",
       "      <td>ASM14838v1</td>\n",
       "      <td>US DOE Joint Genome Institute (JGI-PGF)</td>\n",
       "      <td>GCF_000148385.1</td>\n",
       "      <td>identical</td>\n",
       "      <td>https://ftp.ncbi.nlm.nih.gov/genomes/all/GCA/0...</td>\n",
       "      <td>NaN</td>\n",
       "      <td>assembly from type material</td>\n",
       "      <td>na</td>\n",
       "      <td>90</td>\n",
       "      <td>96.22</td>\n",
       "    </tr>\n",
       "    <tr>\n",
       "      <th>266</th>\n",
       "      <td>GCA_026000775.1</td>\n",
       "      <td>PRJDB14343</td>\n",
       "      <td>SAMD00535535</td>\n",
       "      <td>NaN</td>\n",
       "      <td>representative genome</td>\n",
       "      <td>1293586</td>\n",
       "      <td>164452</td>\n",
       "      <td>Vulcanisaeta souniana JCM 11219</td>\n",
       "      <td>strain=JCM 11219</td>\n",
       "      <td>NaN</td>\n",
       "      <td>...</td>\n",
       "      <td>ASM2600077v1</td>\n",
       "      <td>RIKEN-BRC, JCM</td>\n",
       "      <td>GCF_026000775.1</td>\n",
       "      <td>identical</td>\n",
       "      <td>https://ftp.ncbi.nlm.nih.gov/genomes/all/GCA/0...</td>\n",
       "      <td>NaN</td>\n",
       "      <td>assembly from type material</td>\n",
       "      <td>na</td>\n",
       "      <td>85</td>\n",
       "      <td>91.06</td>\n",
       "    </tr>\n",
       "  </tbody>\n",
       "</table>\n",
       "<p>267 rows × 25 columns</p>\n",
       "</div>"
      ],
      "text/plain": [
       "    assembly_accession   bioproject     biosample  wgs_master  \\\n",
       "0      GCA_009729015.1  PRJNA488459  SAMN09933089         NaN   \n",
       "1      GCA_003201835.2  PRJNA463410  SAMN09071529         NaN   \n",
       "2      GCA_003201765.2  PRJNA463410  SAMN09071530         NaN   \n",
       "3      GCA_000144915.1   PRJNA39927  SAMN02603091         NaN   \n",
       "4      GCA_000025665.1   PRJNA38403  SAMN02598523         NaN   \n",
       "..                 ...          ...           ...         ...   \n",
       "262    GCA_000193375.1   PRJNA64455  SAMN02603093         NaN   \n",
       "263    GCA_014962245.1  PRJNA668939  SAMN16428067         NaN   \n",
       "264    GCA_000092185.1   PRJNA36571  SAMN02598509         NaN   \n",
       "265    GCA_000148385.1   PRJNA32589  SAMN00017002         NaN   \n",
       "266    GCA_026000775.1   PRJDB14343  SAMD00535535         NaN   \n",
       "\n",
       "           refseq_category    taxid  species_taxid  \\\n",
       "0    representative genome     2283           2283   \n",
       "1    representative genome    41673          41673   \n",
       "2    representative genome   619593         312539   \n",
       "3    representative genome   666510         242703   \n",
       "4                       na   439481         379547   \n",
       "..                     ...      ...            ...   \n",
       "262  representative genome   999630         184117   \n",
       "263                     na    54254          54254   \n",
       "264  representative genome   633148          54254   \n",
       "265  representative genome   572478         164451   \n",
       "266  representative genome  1293586         164452   \n",
       "\n",
       "                         organism_name infraspecific_name isolate  ...  \\\n",
       "0                 Acidianus ambivalens      strain=LEI 10     NaN  ...   \n",
       "1                  Acidianus brierleyi    strain=DSM 1651     NaN  ...   \n",
       "2          Acidianus sulfidivorans JP7         strain=JP7     NaN  ...   \n",
       "3     Acidilobus saccharovorans 345-15      strain=345-15     NaN  ...   \n",
       "4         Aciduliprofundum boonei T469        strain=T469     NaN  ...   \n",
       "..                                 ...                ...     ...  ...   \n",
       "262    Thermoproteus uzoniensis 768-20      strain=768-20     NaN  ...   \n",
       "263            Thermosphaera aggregans        strain=3507     NaN  ...   \n",
       "264  Thermosphaera aggregans DSM 11486   strain=DSM 11486     NaN  ...   \n",
       "265  Vulcanisaeta distributa DSM 14429   strain=DSM 14429     NaN  ...   \n",
       "266    Vulcanisaeta souniana JCM 11219   strain=JCM 11219     NaN  ...   \n",
       "\n",
       "         asm_name                                       submitter  \\\n",
       "0     ASM972901v1                 North Carolina State University   \n",
       "1     ASM320183v2                 North Carolina State University   \n",
       "2     ASM320176v2                 North Carolina State University   \n",
       "3      ASM14491v1                       Centre Bioengineering RAS   \n",
       "4       ASM2566v1                   US DOE Joint Genome Institute   \n",
       "..            ...                                             ...   \n",
       "262    ASM19337v1                       Centre Bioengineering RAS   \n",
       "263  ASM1496224v1  National Research Center \"Kurchatov Institute\"   \n",
       "264     ASM9218v1         US DOE Joint Genome Institute (JGI-PGF)   \n",
       "265    ASM14838v1         US DOE Joint Genome Institute (JGI-PGF)   \n",
       "266  ASM2600077v1                                  RIKEN-BRC, JCM   \n",
       "\n",
       "     gbrs_paired_asm paired_asm_comp  \\\n",
       "0    GCF_009729015.1       identical   \n",
       "1    GCF_003201835.2       identical   \n",
       "2    GCF_003201765.2       identical   \n",
       "3    GCF_000144915.1       identical   \n",
       "4    GCF_000025665.1       identical   \n",
       "..               ...             ...   \n",
       "262  GCF_000193375.1       identical   \n",
       "263  GCF_014962245.1       identical   \n",
       "264  GCF_000092185.1       identical   \n",
       "265  GCF_000148385.1       identical   \n",
       "266  GCF_026000775.1       identical   \n",
       "\n",
       "                                              ftp_path excluded_from_refseq  \\\n",
       "0    https://ftp.ncbi.nlm.nih.gov/genomes/all/GCA/0...                  NaN   \n",
       "1    https://ftp.ncbi.nlm.nih.gov/genomes/all/GCA/0...                  NaN   \n",
       "2    https://ftp.ncbi.nlm.nih.gov/genomes/all/GCA/0...                  NaN   \n",
       "3    https://ftp.ncbi.nlm.nih.gov/genomes/all/GCA/0...                  NaN   \n",
       "4    https://ftp.ncbi.nlm.nih.gov/genomes/all/GCA/0...                  NaN   \n",
       "..                                                 ...                  ...   \n",
       "262  https://ftp.ncbi.nlm.nih.gov/genomes/all/GCA/0...                  NaN   \n",
       "263  https://ftp.ncbi.nlm.nih.gov/genomes/all/GCA/0...                  NaN   \n",
       "264  https://ftp.ncbi.nlm.nih.gov/genomes/all/GCA/0...                  NaN   \n",
       "265  https://ftp.ncbi.nlm.nih.gov/genomes/all/GCA/0...                  NaN   \n",
       "266  https://ftp.ncbi.nlm.nih.gov/genomes/all/GCA/0...                  NaN   \n",
       "\n",
       "       relation_to_type_material asm_not_live_date OGT predicted_OGT  \n",
       "0    assembly from type material                na  80         76.37  \n",
       "1    assembly from type material                na  72         68.73  \n",
       "2    assembly from type material                na  70         67.92  \n",
       "3    assembly from type material                na  80         74.71  \n",
       "4                            NaN                na  70         74.70  \n",
       "..                           ...               ...  ..           ...  \n",
       "262                          NaN                na  85         87.73  \n",
       "263                          NaN                na  85         92.40  \n",
       "264  assembly from type material                na  85         94.00  \n",
       "265  assembly from type material                na  90         96.22  \n",
       "266  assembly from type material                na  85         91.06  \n",
       "\n",
       "[267 rows x 25 columns]"
      ]
     },
     "execution_count": 9,
     "metadata": {},
     "output_type": "execute_result"
    }
   ],
   "source": [
    "arch_ogt_with_genomes"
   ]
  },
  {
   "cell_type": "markdown",
   "id": "cffd016d-27b5-47ae-8596-8234f2f6d5dc",
   "metadata": {},
   "source": [
    "Combine the Bacterial and Archaea datasets together to create the Prokaryote dataset"
   ]
  },
  {
   "cell_type": "code",
   "execution_count": 10,
   "id": "b1a46cd5-8858-4a67-97bc-fff2dd0535e0",
   "metadata": {},
   "outputs": [],
   "source": [
    "#state dataframes\n",
    "dataframes = [bact_ogt_with_genomes, arch_ogt_with_genomes]\n",
    "# combine them\n",
    "prokaryote_dataset = pd.concat(dataframes)"
   ]
  },
  {
   "cell_type": "code",
   "execution_count": 11,
   "id": "e4bfabcb-8dd2-4b3b-a4d6-448021d5efb6",
   "metadata": {},
   "outputs": [
    {
     "data": {
      "text/html": [
       "<div>\n",
       "<style scoped>\n",
       "    .dataframe tbody tr th:only-of-type {\n",
       "        vertical-align: middle;\n",
       "    }\n",
       "\n",
       "    .dataframe tbody tr th {\n",
       "        vertical-align: top;\n",
       "    }\n",
       "\n",
       "    .dataframe thead th {\n",
       "        text-align: right;\n",
       "    }\n",
       "</style>\n",
       "<table border=\"1\" class=\"dataframe\">\n",
       "  <thead>\n",
       "    <tr style=\"text-align: right;\">\n",
       "      <th></th>\n",
       "      <th>assembly_accession</th>\n",
       "      <th>bioproject</th>\n",
       "      <th>biosample</th>\n",
       "      <th>wgs_master</th>\n",
       "      <th>refseq_category</th>\n",
       "      <th>taxid</th>\n",
       "      <th>species_taxid</th>\n",
       "      <th>organism_name</th>\n",
       "      <th>infraspecific_name</th>\n",
       "      <th>isolate</th>\n",
       "      <th>...</th>\n",
       "      <th>asm_name</th>\n",
       "      <th>submitter</th>\n",
       "      <th>gbrs_paired_asm</th>\n",
       "      <th>paired_asm_comp</th>\n",
       "      <th>ftp_path</th>\n",
       "      <th>excluded_from_refseq</th>\n",
       "      <th>relation_to_type_material</th>\n",
       "      <th>asm_not_live_date</th>\n",
       "      <th>OGT</th>\n",
       "      <th>predicted_OGT</th>\n",
       "    </tr>\n",
       "  </thead>\n",
       "  <tbody>\n",
       "    <tr>\n",
       "      <th>0</th>\n",
       "      <td>GCA_019931005.1</td>\n",
       "      <td>PRJNA231221</td>\n",
       "      <td>SAMN20888894</td>\n",
       "      <td>NaN</td>\n",
       "      <td>representative genome</td>\n",
       "      <td>46124</td>\n",
       "      <td>46124</td>\n",
       "      <td>Granulicatella adiacens</td>\n",
       "      <td>strain=FDAARGOS_1477</td>\n",
       "      <td>NaN</td>\n",
       "      <td>...</td>\n",
       "      <td>ASM1993100v1</td>\n",
       "      <td>US Food and Drug Administration</td>\n",
       "      <td>GCF_019931005.1</td>\n",
       "      <td>identical</td>\n",
       "      <td>https://ftp.ncbi.nlm.nih.gov/genomes/all/GCA/0...</td>\n",
       "      <td>NaN</td>\n",
       "      <td>assembly from type material</td>\n",
       "      <td>na</td>\n",
       "      <td>37</td>\n",
       "      <td>NaN</td>\n",
       "    </tr>\n",
       "    <tr>\n",
       "      <th>1</th>\n",
       "      <td>GCA_025642215.1</td>\n",
       "      <td>PRJNA883546</td>\n",
       "      <td>SAMN30968860</td>\n",
       "      <td>NaN</td>\n",
       "      <td>na</td>\n",
       "      <td>46124</td>\n",
       "      <td>46124</td>\n",
       "      <td>Granulicatella adiacens</td>\n",
       "      <td>strain=KHUD_009</td>\n",
       "      <td>NaN</td>\n",
       "      <td>...</td>\n",
       "      <td>ASM2564221v1</td>\n",
       "      <td>Kyung Hee University</td>\n",
       "      <td>GCF_025642215.1</td>\n",
       "      <td>identical</td>\n",
       "      <td>https://ftp.ncbi.nlm.nih.gov/genomes/all/GCA/0...</td>\n",
       "      <td>NaN</td>\n",
       "      <td>NaN</td>\n",
       "      <td>na</td>\n",
       "      <td>37</td>\n",
       "      <td>NaN</td>\n",
       "    </tr>\n",
       "    <tr>\n",
       "      <th>2</th>\n",
       "      <td>GCA_025150565.1</td>\n",
       "      <td>PRJNA746600</td>\n",
       "      <td>SAMN20222693</td>\n",
       "      <td>NaN</td>\n",
       "      <td>na</td>\n",
       "      <td>638301</td>\n",
       "      <td>46124</td>\n",
       "      <td>Granulicatella adiacens ATCC 49175</td>\n",
       "      <td>strain=ATCC 49175</td>\n",
       "      <td>NaN</td>\n",
       "      <td>...</td>\n",
       "      <td>ASM2515056v1</td>\n",
       "      <td>Stanford University</td>\n",
       "      <td>GCF_025150565.1</td>\n",
       "      <td>identical</td>\n",
       "      <td>https://ftp.ncbi.nlm.nih.gov/genomes/all/GCA/0...</td>\n",
       "      <td>NaN</td>\n",
       "      <td>assembly from type material</td>\n",
       "      <td>na</td>\n",
       "      <td>37</td>\n",
       "      <td>NaN</td>\n",
       "    </tr>\n",
       "    <tr>\n",
       "      <th>3</th>\n",
       "      <td>GCA_013267415.1</td>\n",
       "      <td>PRJNA231221</td>\n",
       "      <td>SAMN11056500</td>\n",
       "      <td>NaN</td>\n",
       "      <td>representative genome</td>\n",
       "      <td>46125</td>\n",
       "      <td>46125</td>\n",
       "      <td>Abiotrophia defectiva</td>\n",
       "      <td>strain=FDAARGOS_785</td>\n",
       "      <td>NaN</td>\n",
       "      <td>...</td>\n",
       "      <td>ASM1326741v1</td>\n",
       "      <td>US Food and Drug Administration</td>\n",
       "      <td>GCF_013267415.1</td>\n",
       "      <td>identical</td>\n",
       "      <td>https://ftp.ncbi.nlm.nih.gov/genomes/all/GCA/0...</td>\n",
       "      <td>NaN</td>\n",
       "      <td>assembly from type material</td>\n",
       "      <td>na</td>\n",
       "      <td>37</td>\n",
       "      <td>NaN</td>\n",
       "    </tr>\n",
       "    <tr>\n",
       "      <th>4</th>\n",
       "      <td>GCA_020735385.1</td>\n",
       "      <td>PRJNA231221</td>\n",
       "      <td>SAMN22091656</td>\n",
       "      <td>NaN</td>\n",
       "      <td>na</td>\n",
       "      <td>137732</td>\n",
       "      <td>137732</td>\n",
       "      <td>Granulicatella elegans</td>\n",
       "      <td>strain=FDAARGOS_1559</td>\n",
       "      <td>NaN</td>\n",
       "      <td>...</td>\n",
       "      <td>ASM2073538v1</td>\n",
       "      <td>US Food and Drug Administration</td>\n",
       "      <td>GCF_020735385.1</td>\n",
       "      <td>identical</td>\n",
       "      <td>https://ftp.ncbi.nlm.nih.gov/genomes/all/GCA/0...</td>\n",
       "      <td>NaN</td>\n",
       "      <td>assembly from type material</td>\n",
       "      <td>na</td>\n",
       "      <td>37</td>\n",
       "      <td>NaN</td>\n",
       "    </tr>\n",
       "    <tr>\n",
       "      <th>...</th>\n",
       "      <td>...</td>\n",
       "      <td>...</td>\n",
       "      <td>...</td>\n",
       "      <td>...</td>\n",
       "      <td>...</td>\n",
       "      <td>...</td>\n",
       "      <td>...</td>\n",
       "      <td>...</td>\n",
       "      <td>...</td>\n",
       "      <td>...</td>\n",
       "      <td>...</td>\n",
       "      <td>...</td>\n",
       "      <td>...</td>\n",
       "      <td>...</td>\n",
       "      <td>...</td>\n",
       "      <td>...</td>\n",
       "      <td>...</td>\n",
       "      <td>...</td>\n",
       "      <td>...</td>\n",
       "      <td>...</td>\n",
       "      <td>...</td>\n",
       "    </tr>\n",
       "    <tr>\n",
       "      <th>262</th>\n",
       "      <td>GCA_000193375.1</td>\n",
       "      <td>PRJNA64455</td>\n",
       "      <td>SAMN02603093</td>\n",
       "      <td>NaN</td>\n",
       "      <td>representative genome</td>\n",
       "      <td>999630</td>\n",
       "      <td>184117</td>\n",
       "      <td>Thermoproteus uzoniensis 768-20</td>\n",
       "      <td>strain=768-20</td>\n",
       "      <td>NaN</td>\n",
       "      <td>...</td>\n",
       "      <td>ASM19337v1</td>\n",
       "      <td>Centre Bioengineering RAS</td>\n",
       "      <td>GCF_000193375.1</td>\n",
       "      <td>identical</td>\n",
       "      <td>https://ftp.ncbi.nlm.nih.gov/genomes/all/GCA/0...</td>\n",
       "      <td>NaN</td>\n",
       "      <td>NaN</td>\n",
       "      <td>na</td>\n",
       "      <td>85</td>\n",
       "      <td>87.73</td>\n",
       "    </tr>\n",
       "    <tr>\n",
       "      <th>263</th>\n",
       "      <td>GCA_014962245.1</td>\n",
       "      <td>PRJNA668939</td>\n",
       "      <td>SAMN16428067</td>\n",
       "      <td>NaN</td>\n",
       "      <td>na</td>\n",
       "      <td>54254</td>\n",
       "      <td>54254</td>\n",
       "      <td>Thermosphaera aggregans</td>\n",
       "      <td>strain=3507</td>\n",
       "      <td>NaN</td>\n",
       "      <td>...</td>\n",
       "      <td>ASM1496224v1</td>\n",
       "      <td>National Research Center \"Kurchatov Institute\"</td>\n",
       "      <td>GCF_014962245.1</td>\n",
       "      <td>identical</td>\n",
       "      <td>https://ftp.ncbi.nlm.nih.gov/genomes/all/GCA/0...</td>\n",
       "      <td>NaN</td>\n",
       "      <td>NaN</td>\n",
       "      <td>na</td>\n",
       "      <td>85</td>\n",
       "      <td>92.40</td>\n",
       "    </tr>\n",
       "    <tr>\n",
       "      <th>264</th>\n",
       "      <td>GCA_000092185.1</td>\n",
       "      <td>PRJNA36571</td>\n",
       "      <td>SAMN02598509</td>\n",
       "      <td>NaN</td>\n",
       "      <td>representative genome</td>\n",
       "      <td>633148</td>\n",
       "      <td>54254</td>\n",
       "      <td>Thermosphaera aggregans DSM 11486</td>\n",
       "      <td>strain=DSM 11486</td>\n",
       "      <td>NaN</td>\n",
       "      <td>...</td>\n",
       "      <td>ASM9218v1</td>\n",
       "      <td>US DOE Joint Genome Institute (JGI-PGF)</td>\n",
       "      <td>GCF_000092185.1</td>\n",
       "      <td>identical</td>\n",
       "      <td>https://ftp.ncbi.nlm.nih.gov/genomes/all/GCA/0...</td>\n",
       "      <td>NaN</td>\n",
       "      <td>assembly from type material</td>\n",
       "      <td>na</td>\n",
       "      <td>85</td>\n",
       "      <td>94.00</td>\n",
       "    </tr>\n",
       "    <tr>\n",
       "      <th>265</th>\n",
       "      <td>GCA_000148385.1</td>\n",
       "      <td>PRJNA32589</td>\n",
       "      <td>SAMN00017002</td>\n",
       "      <td>NaN</td>\n",
       "      <td>representative genome</td>\n",
       "      <td>572478</td>\n",
       "      <td>164451</td>\n",
       "      <td>Vulcanisaeta distributa DSM 14429</td>\n",
       "      <td>strain=DSM 14429</td>\n",
       "      <td>NaN</td>\n",
       "      <td>...</td>\n",
       "      <td>ASM14838v1</td>\n",
       "      <td>US DOE Joint Genome Institute (JGI-PGF)</td>\n",
       "      <td>GCF_000148385.1</td>\n",
       "      <td>identical</td>\n",
       "      <td>https://ftp.ncbi.nlm.nih.gov/genomes/all/GCA/0...</td>\n",
       "      <td>NaN</td>\n",
       "      <td>assembly from type material</td>\n",
       "      <td>na</td>\n",
       "      <td>90</td>\n",
       "      <td>96.22</td>\n",
       "    </tr>\n",
       "    <tr>\n",
       "      <th>266</th>\n",
       "      <td>GCA_026000775.1</td>\n",
       "      <td>PRJDB14343</td>\n",
       "      <td>SAMD00535535</td>\n",
       "      <td>NaN</td>\n",
       "      <td>representative genome</td>\n",
       "      <td>1293586</td>\n",
       "      <td>164452</td>\n",
       "      <td>Vulcanisaeta souniana JCM 11219</td>\n",
       "      <td>strain=JCM 11219</td>\n",
       "      <td>NaN</td>\n",
       "      <td>...</td>\n",
       "      <td>ASM2600077v1</td>\n",
       "      <td>RIKEN-BRC, JCM</td>\n",
       "      <td>GCF_026000775.1</td>\n",
       "      <td>identical</td>\n",
       "      <td>https://ftp.ncbi.nlm.nih.gov/genomes/all/GCA/0...</td>\n",
       "      <td>NaN</td>\n",
       "      <td>assembly from type material</td>\n",
       "      <td>na</td>\n",
       "      <td>85</td>\n",
       "      <td>91.06</td>\n",
       "    </tr>\n",
       "  </tbody>\n",
       "</table>\n",
       "<p>31673 rows × 25 columns</p>\n",
       "</div>"
      ],
      "text/plain": [
       "    assembly_accession   bioproject     biosample  wgs_master  \\\n",
       "0      GCA_019931005.1  PRJNA231221  SAMN20888894         NaN   \n",
       "1      GCA_025642215.1  PRJNA883546  SAMN30968860         NaN   \n",
       "2      GCA_025150565.1  PRJNA746600  SAMN20222693         NaN   \n",
       "3      GCA_013267415.1  PRJNA231221  SAMN11056500         NaN   \n",
       "4      GCA_020735385.1  PRJNA231221  SAMN22091656         NaN   \n",
       "..                 ...          ...           ...         ...   \n",
       "262    GCA_000193375.1   PRJNA64455  SAMN02603093         NaN   \n",
       "263    GCA_014962245.1  PRJNA668939  SAMN16428067         NaN   \n",
       "264    GCA_000092185.1   PRJNA36571  SAMN02598509         NaN   \n",
       "265    GCA_000148385.1   PRJNA32589  SAMN00017002         NaN   \n",
       "266    GCA_026000775.1   PRJDB14343  SAMD00535535         NaN   \n",
       "\n",
       "           refseq_category    taxid  species_taxid  \\\n",
       "0    representative genome    46124          46124   \n",
       "1                       na    46124          46124   \n",
       "2                       na   638301          46124   \n",
       "3    representative genome    46125          46125   \n",
       "4                       na   137732         137732   \n",
       "..                     ...      ...            ...   \n",
       "262  representative genome   999630         184117   \n",
       "263                     na    54254          54254   \n",
       "264  representative genome   633148          54254   \n",
       "265  representative genome   572478         164451   \n",
       "266  representative genome  1293586         164452   \n",
       "\n",
       "                          organism_name    infraspecific_name isolate  ...  \\\n",
       "0               Granulicatella adiacens  strain=FDAARGOS_1477     NaN  ...   \n",
       "1               Granulicatella adiacens       strain=KHUD_009     NaN  ...   \n",
       "2    Granulicatella adiacens ATCC 49175     strain=ATCC 49175     NaN  ...   \n",
       "3                 Abiotrophia defectiva   strain=FDAARGOS_785     NaN  ...   \n",
       "4                Granulicatella elegans  strain=FDAARGOS_1559     NaN  ...   \n",
       "..                                  ...                   ...     ...  ...   \n",
       "262     Thermoproteus uzoniensis 768-20         strain=768-20     NaN  ...   \n",
       "263             Thermosphaera aggregans           strain=3507     NaN  ...   \n",
       "264   Thermosphaera aggregans DSM 11486      strain=DSM 11486     NaN  ...   \n",
       "265   Vulcanisaeta distributa DSM 14429      strain=DSM 14429     NaN  ...   \n",
       "266     Vulcanisaeta souniana JCM 11219      strain=JCM 11219     NaN  ...   \n",
       "\n",
       "         asm_name                                       submitter  \\\n",
       "0    ASM1993100v1                 US Food and Drug Administration   \n",
       "1    ASM2564221v1                            Kyung Hee University   \n",
       "2    ASM2515056v1                             Stanford University   \n",
       "3    ASM1326741v1                 US Food and Drug Administration   \n",
       "4    ASM2073538v1                 US Food and Drug Administration   \n",
       "..            ...                                             ...   \n",
       "262    ASM19337v1                       Centre Bioengineering RAS   \n",
       "263  ASM1496224v1  National Research Center \"Kurchatov Institute\"   \n",
       "264     ASM9218v1         US DOE Joint Genome Institute (JGI-PGF)   \n",
       "265    ASM14838v1         US DOE Joint Genome Institute (JGI-PGF)   \n",
       "266  ASM2600077v1                                  RIKEN-BRC, JCM   \n",
       "\n",
       "     gbrs_paired_asm paired_asm_comp  \\\n",
       "0    GCF_019931005.1       identical   \n",
       "1    GCF_025642215.1       identical   \n",
       "2    GCF_025150565.1       identical   \n",
       "3    GCF_013267415.1       identical   \n",
       "4    GCF_020735385.1       identical   \n",
       "..               ...             ...   \n",
       "262  GCF_000193375.1       identical   \n",
       "263  GCF_014962245.1       identical   \n",
       "264  GCF_000092185.1       identical   \n",
       "265  GCF_000148385.1       identical   \n",
       "266  GCF_026000775.1       identical   \n",
       "\n",
       "                                              ftp_path excluded_from_refseq  \\\n",
       "0    https://ftp.ncbi.nlm.nih.gov/genomes/all/GCA/0...                  NaN   \n",
       "1    https://ftp.ncbi.nlm.nih.gov/genomes/all/GCA/0...                  NaN   \n",
       "2    https://ftp.ncbi.nlm.nih.gov/genomes/all/GCA/0...                  NaN   \n",
       "3    https://ftp.ncbi.nlm.nih.gov/genomes/all/GCA/0...                  NaN   \n",
       "4    https://ftp.ncbi.nlm.nih.gov/genomes/all/GCA/0...                  NaN   \n",
       "..                                                 ...                  ...   \n",
       "262  https://ftp.ncbi.nlm.nih.gov/genomes/all/GCA/0...                  NaN   \n",
       "263  https://ftp.ncbi.nlm.nih.gov/genomes/all/GCA/0...                  NaN   \n",
       "264  https://ftp.ncbi.nlm.nih.gov/genomes/all/GCA/0...                  NaN   \n",
       "265  https://ftp.ncbi.nlm.nih.gov/genomes/all/GCA/0...                  NaN   \n",
       "266  https://ftp.ncbi.nlm.nih.gov/genomes/all/GCA/0...                  NaN   \n",
       "\n",
       "       relation_to_type_material asm_not_live_date OGT predicted_OGT  \n",
       "0    assembly from type material                na  37           NaN  \n",
       "1                            NaN                na  37           NaN  \n",
       "2    assembly from type material                na  37           NaN  \n",
       "3    assembly from type material                na  37           NaN  \n",
       "4    assembly from type material                na  37           NaN  \n",
       "..                           ...               ...  ..           ...  \n",
       "262                          NaN                na  85         87.73  \n",
       "263                          NaN                na  85         92.40  \n",
       "264  assembly from type material                na  85         94.00  \n",
       "265  assembly from type material                na  90         96.22  \n",
       "266  assembly from type material                na  85         91.06  \n",
       "\n",
       "[31673 rows x 25 columns]"
      ]
     },
     "execution_count": 11,
     "metadata": {},
     "output_type": "execute_result"
    }
   ],
   "source": [
    "# make sure the resulting dataset looks right\n",
    "prokaryote_dataset"
   ]
  },
  {
   "cell_type": "markdown",
   "id": "97e1032c-4d99-4de0-aef0-941d7769367a",
   "metadata": {},
   "source": [
    "### investigate the OGT distributions of the datasets"
   ]
  },
  {
   "cell_type": "markdown",
   "id": "33a9942b-a277-4bde-9cad-79163c3080e1",
   "metadata": {},
   "source": [
    "Bacteria\n"
   ]
  },
  {
   "cell_type": "code",
   "execution_count": 12,
   "id": "176c43b6-1157-46e3-930a-8a6b721e866e",
   "metadata": {},
   "outputs": [
    {
     "data": {
      "text/plain": [
       "<seaborn.axisgrid.FacetGrid at 0x1fa7e5c2a60>"
      ]
     },
     "execution_count": 12,
     "metadata": {},
     "output_type": "execute_result"
    },
    {
     "data": {
      "image/png": "[encoded data removed]",
      "text/plain": [
       "<Figure size 360x360 with 1 Axes>"
      ]
     },
     "metadata": {
      "needs_background": "light"
     },
     "output_type": "display_data"
    }
   ],
   "source": [
    "#give a graph of OGT distibutions\n",
    "sns.displot(data = bact_ogt_with_genomes, x = \"OGT\")"
   ]
  },
  {
   "cell_type": "code",
   "execution_count": 13,
   "id": "c6d55b4c-0496-476b-b694-f7558494906c",
   "metadata": {},
   "outputs": [
    {
     "data": {
      "text/plain": [
       "26    12961\n",
       "37     9269\n",
       "34     2656\n",
       "30     1703\n",
       "32      893\n",
       "29      841\n",
       "33      779\n",
       "36      776\n",
       "28      424\n",
       "31      346\n",
       "35      183\n",
       "27      174\n",
       "25       95\n",
       "21       40\n",
       "23       39\n",
       "55       37\n",
       "18       24\n",
       "20       20\n",
       "60       18\n",
       "45       13\n",
       "70       12\n",
       "50       11\n",
       "65       10\n",
       "59        8\n",
       "10        8\n",
       "22        7\n",
       "42        6\n",
       "57        5\n",
       "58        5\n",
       "15        4\n",
       "46        4\n",
       "54        4\n",
       "56        3\n",
       "24        3\n",
       "75        3\n",
       "43        2\n",
       "16        2\n",
       "38        2\n",
       "62        1\n",
       "49        1\n",
       "9         1\n",
       "40        1\n",
       "63        1\n",
       "8         1\n",
       "47        1\n",
       "17        1\n",
       "68        1\n",
       "74        1\n",
       "69        1\n",
       "41        1\n",
       "53        1\n",
       "11        1\n",
       "14        1\n",
       "73        1\n",
       "Name: OGT, dtype: int64"
      ]
     },
     "execution_count": 13,
     "metadata": {},
     "output_type": "execute_result"
    }
   ],
   "source": [
    "#Give the exact numbers of each OGT\n",
    "bact_ogt_with_genomes[\"OGT\"].value_counts()"
   ]
  },
  {
   "cell_type": "markdown",
   "id": "e59a9754-b5fd-4fdf-bba3-51d44f8f0f35",
   "metadata": {},
   "source": [
    "Archaea"
   ]
  },
  {
   "cell_type": "code",
   "execution_count": 14,
   "id": "a5e6a2b4-c01d-4bf8-8771-575149393ad6",
   "metadata": {},
   "outputs": [
    {
     "data": {
      "text/plain": [
       "<seaborn.axisgrid.FacetGrid at 0x1fa04253790>"
      ]
     },
     "execution_count": 14,
     "metadata": {},
     "output_type": "execute_result"
    },
    {
     "data": {
      "image/png": "[encoded data removed]",
      "text/plain": [
       "<Figure size 360x360 with 1 Axes>"
      ]
     },
     "metadata": {
      "needs_background": "light"
     },
     "output_type": "display_data"
    }
   ],
   "source": [
    "#give a graph of OGT distibutions\n",
    "sns.displot(data = arch_ogt_with_genomes, x = \"OGT\")"
   ]
  },
  {
   "cell_type": "code",
   "execution_count": 15,
   "id": "7bd0d920-4369-4ba3-8bcf-6c035c5736b6",
   "metadata": {},
   "outputs": [
    {
     "data": {
      "text/plain": [
       "37     93\n",
       "85     22\n",
       "80     15\n",
       "74     13\n",
       "60     12\n",
       "90     10\n",
       "71     10\n",
       "35      9\n",
       "67      8\n",
       "75      6\n",
       "30      6\n",
       "28      6\n",
       "88      5\n",
       "81      4\n",
       "95      3\n",
       "96      3\n",
       "45      3\n",
       "51      3\n",
       "36      3\n",
       "70      3\n",
       "87      3\n",
       "73      3\n",
       "42      3\n",
       "57      2\n",
       "38      2\n",
       "98      2\n",
       "83      2\n",
       "50      2\n",
       "23      1\n",
       "41      1\n",
       "65      1\n",
       "58      1\n",
       "34      1\n",
       "21      1\n",
       "72      1\n",
       "100     1\n",
       "103     1\n",
       "92      1\n",
       "99      1\n",
       "Name: OGT, dtype: int64"
      ]
     },
     "execution_count": 15,
     "metadata": {},
     "output_type": "execute_result"
    }
   ],
   "source": [
    "#Give the exact numbers of each OGT\n",
    "arch_ogt_with_genomes[\"OGT\"].value_counts()"
   ]
  },
  {
   "cell_type": "markdown",
   "id": "99ef4856-2ed3-48bd-9c61-d1754b8bf9e0",
   "metadata": {},
   "source": [
    "Clearly, the bacterial dataset has a overrepresentation of mesophiles, particularly ogts 37 and 26.\n",
    "The archaea dataset has a overrepresentation of OGTs of 37 as well.\n",
    "The datasets shall be cut down to be more representative, and avoid skew.\n",
    "The representative datasets shall be combined to create the repesentative Prokaryotic dataset."
   ]
  },
  {
   "cell_type": "markdown",
   "id": "9487b688-ac0a-414a-aa15-cfe0038a2db8",
   "metadata": {},
   "source": [
    "Lets start with bacteria and make each OGT have a max of 100 genomes\n"
   ]
  },
  {
   "cell_type": "code",
   "execution_count": 16,
   "id": "290244ea-73b6-46be-8d99-b71dcea8939a",
   "metadata": {},
   "outputs": [],
   "source": [
    "def representative(dataset, maximum):\n",
    "    '''\n",
    "    Takes a dataset and a maximum number, and makes a dataset with all OGT values have a maximum of the maximum number.\n",
    "    \n",
    "    Arguments:\n",
    "        dataset(dataframe):The dataset you wish to cut down\n",
    "        maximum(intiger): the maximum number of genomes per OGT\n",
    "        \n",
    "    Returns:\n",
    "        output_dataset(dataframe): a dataframe with a maximum number of genomes per OGT\n",
    "    '''\n",
    "    # get amount of genomes per OGT\n",
    "    old_ogt_count = dataset[\"OGT\"].value_counts()\n",
    "    #set up list\n",
    "    ogt_over_max = []\n",
    "    #find out which OGTs are over the maximum\n",
    "    for item, value in old_ogt_count.iteritems():\n",
    "        if value > maximum:\n",
    "            ogt_over_max.append(item)\n",
    "    # set up new dataset\n",
    "    output_dataset = dataset\n",
    "    # remove values with ogts over max\n",
    "    for item in ogt_over_max:\n",
    "        output_dataset = output_dataset[output_dataset['OGT'] != item]\n",
    "    # take max of genomes for each ogt and append to output dataset\n",
    "    for item in ogt_over_max:\n",
    "        temp_dataframe = dataset[dataset[\"OGT\"] == item]\n",
    "        one_hun_max_of_ogt = temp_dataframe.sample(n=maximum)\n",
    "        #state dataframes\n",
    "        dataframes = [output_dataset, one_hun_max_of_ogt]\n",
    "        # combine them\n",
    "        output_dataset = pd.concat(dataframes)\n",
    "    return(output_dataset)\n",
    "        \n",
    "    "
   ]
  },
  {
   "cell_type": "code",
   "execution_count": 17,
   "id": "bc74baff-d5e9-4a1b-8a54-25ce6acbf8e5",
   "metadata": {},
   "outputs": [
    {
     "data": {
      "text/plain": [
       "27    100\n",
       "36    100\n",
       "37    100\n",
       "34    100\n",
       "30    100\n",
       "32    100\n",
       "29    100\n",
       "33    100\n",
       "28    100\n",
       "31    100\n",
       "35    100\n",
       "26    100\n",
       "25     95\n",
       "21     40\n",
       "23     39\n",
       "55     37\n",
       "18     24\n",
       "20     20\n",
       "60     18\n",
       "45     13\n",
       "70     12\n",
       "50     11\n",
       "65     10\n",
       "10      8\n",
       "59      8\n",
       "22      7\n",
       "42      6\n",
       "57      5\n",
       "58      5\n",
       "15      4\n",
       "54      4\n",
       "46      4\n",
       "75      3\n",
       "24      3\n",
       "56      3\n",
       "43      2\n",
       "16      2\n",
       "38      2\n",
       "11      1\n",
       "47      1\n",
       "14      1\n",
       "53      1\n",
       "63      1\n",
       "40      1\n",
       "8       1\n",
       "9       1\n",
       "49      1\n",
       "17      1\n",
       "68      1\n",
       "74      1\n",
       "73      1\n",
       "69      1\n",
       "41      1\n",
       "62      1\n",
       "Name: OGT, dtype: int64"
      ]
     },
     "execution_count": 17,
     "metadata": {},
     "output_type": "execute_result"
    }
   ],
   "source": [
    "# cut down bacteria\n",
    "representative_bacteria = representative(bact_ogt_with_genomes, 100)\n",
    "representative_bacteria[\"OGT\"].value_counts()"
   ]
  },
  {
   "cell_type": "code",
   "execution_count": 18,
   "id": "f89ed5e3-b395-4e2f-a277-bafbf90f787a",
   "metadata": {},
   "outputs": [
    {
     "data": {
      "text/plain": [
       "<seaborn.axisgrid.FacetGrid at 0x1fa04344df0>"
      ]
     },
     "execution_count": 18,
     "metadata": {},
     "output_type": "execute_result"
    },
    {
     "data": {
      "image/png": "[encoded data removed]",
      "text/plain": [
       "<Figure size 360x360 with 1 Axes>"
      ]
     },
     "metadata": {
      "needs_background": "light"
     },
     "output_type": "display_data"
    }
   ],
   "source": [
    "#investigate representative bacteria\n",
    "sns.displot(data = representative_bacteria, x = \"OGT\")"
   ]
  },
  {
   "cell_type": "markdown",
   "id": "91775467-2d8d-4f1d-b5ae-fef17c8b8f2a",
   "metadata": {},
   "source": [
    "That looks much better. Lets repeat for Archaea. It looks like archaea would be good with a maximum of 25 genomes per OGT."
   ]
  },
  {
   "cell_type": "code",
   "execution_count": 19,
   "id": "4383428f-c890-4540-b64d-2c64b70008e8",
   "metadata": {},
   "outputs": [
    {
     "data": {
      "text/plain": [
       "37     25\n",
       "85     22\n",
       "80     15\n",
       "74     13\n",
       "60     12\n",
       "90     10\n",
       "71     10\n",
       "35      9\n",
       "67      8\n",
       "75      6\n",
       "30      6\n",
       "28      6\n",
       "88      5\n",
       "81      4\n",
       "42      3\n",
       "96      3\n",
       "51      3\n",
       "70      3\n",
       "95      3\n",
       "73      3\n",
       "45      3\n",
       "36      3\n",
       "87      3\n",
       "50      2\n",
       "38      2\n",
       "98      2\n",
       "83      2\n",
       "57      2\n",
       "103     1\n",
       "100     1\n",
       "34      1\n",
       "58      1\n",
       "65      1\n",
       "23      1\n",
       "41      1\n",
       "72      1\n",
       "92      1\n",
       "99      1\n",
       "21      1\n",
       "Name: OGT, dtype: int64"
      ]
     },
     "execution_count": 19,
     "metadata": {},
     "output_type": "execute_result"
    }
   ],
   "source": [
    "# cut down Archaea\n",
    "representative_archaea = representative(arch_ogt_with_genomes, 25)\n",
    "representative_archaea[\"OGT\"].value_counts()"
   ]
  },
  {
   "cell_type": "code",
   "execution_count": 20,
   "id": "da72c8e2-3504-4b5b-a6c7-f2a43eb90440",
   "metadata": {},
   "outputs": [
    {
     "data": {
      "text/plain": [
       "<seaborn.axisgrid.FacetGrid at 0x1fa042c9c10>"
      ]
     },
     "execution_count": 20,
     "metadata": {},
     "output_type": "execute_result"
    },
    {
     "data": {
      "image/png": "[encoded data removed]",
      "text/plain": [
       "<Figure size 360x360 with 1 Axes>"
      ]
     },
     "metadata": {
      "needs_background": "light"
     },
     "output_type": "display_data"
    }
   ],
   "source": [
    "#investigate representative archaea\n",
    "sns.displot(data = representative_archaea, x = \"OGT\")"
   ]
  },
  {
   "cell_type": "markdown",
   "id": "fcb8318e-fbbc-493b-83b5-91a83d07c541",
   "metadata": {},
   "source": [
    "Thats a much better distribution"
   ]
  },
  {
   "cell_type": "markdown",
   "id": "4fa5f65e-117d-4708-9ae4-63c78b9d04a9",
   "metadata": {},
   "source": [
    "Now we generate a 'representative' prokatyotic dataset"
   ]
  },
  {
   "cell_type": "code",
   "execution_count": 21,
   "id": "af0ff223-7469-4edf-b8ef-a768789879fd",
   "metadata": {},
   "outputs": [],
   "source": [
    "#state dataframes\n",
    "dataframes = [representative_bacteria, representative_archaea]\n",
    "# combine them\n",
    "representative_prokaryotes = pd.concat(dataframes)"
   ]
  },
  {
   "cell_type": "code",
   "execution_count": 22,
   "id": "5b62d1cb-4420-4a9e-a9eb-4ab620a062ca",
   "metadata": {},
   "outputs": [],
   "source": [
    "# save the datasets\n",
    "representative_bacteria.to_csv('representative_bacteria.csv')\n",
    "representative_archaea.to_csv('representative_archaea.csv')\n",
    "representative_prokaryotes.to_csv('representative_prokaryotes.csv')"
   ]
  },
  {
   "cell_type": "markdown",
   "id": "b044e10b-def1-4c78-bde4-b920bfcc80a1",
   "metadata": {},
   "source": [
    "# Metagenomic Thermometer Analysis"
   ]
  },
  {
   "cell_type": "markdown",
   "id": "03127dee-9531-4e44-b0da-0872db2ee780",
   "metadata": {},
   "source": [
    "put the datasets through the metagenommic thermometer program to generate predicted OGTS\n",
    "- python original_metagenomic_thermometer.py dataset_name.csv \n",
    "\n",
    "if you wish, you can generate the amino acid frequencies at the same time to save time for later\n",
    "- python amino_acid_and_met_thermometer.py dataset_name.csv \n",
    "\n",
    "Although I mentioned creating the representative datasets earlier, I would suggest saving this step until after you have generated predicted ogts for the 'full' datasets. Once these have been generated, THEN cut them down to representative size to save processing power and time."
   ]
  },
  {
   "cell_type": "markdown",
   "id": "209757a3-2291-48a0-b489-c2e891a7adbd",
   "metadata": {},
   "source": [
    "### Bacteria"
   ]
  },
  {
   "cell_type": "code",
   "execution_count": 23,
   "id": "25416bff-3811-42a0-92f6-8fa11a3c47b3",
   "metadata": {},
   "outputs": [],
   "source": [
    "## create a function that plots the predicted ogt against ogt\n",
    "def ogt_plot(data):\n",
    "    #define data\n",
    "    x = data[\"OGT\"]\n",
    "    y = data[\"predicted_OGT\"]\n",
    "\n",
    "    #find line of best fit\n",
    "    a, b = np.polyfit(x, y, 1)\n",
    "\n",
    "    #add points to plot\n",
    "    plt.scatter(x, y)\n",
    "    #add line of best fit to plot\n",
    "    plt.plot(x, a*x+b, \"red\")   \n",
    "    ##add custom line to plot\n",
    "    # this line will show a 'prefect' prediction\n",
    "    plt.plot([0,100], [0,100], c=\"green\")"
   ]
  },
  {
   "cell_type": "code",
   "execution_count": 25,
   "id": "c1669990-8410-41d8-bfb3-d5b9864a2558",
   "metadata": {},
   "outputs": [],
   "source": [
    "#import datasets\n",
    "representative_bacteria_predicted_ogt = pd.read_csv('representative_bacteria_predicted_ogt.csv')\n",
    "full_bacteria_predicted_ogt = pd.read_csv('full_bacteria_predicted_ogt.csv')"
   ]
  },
  {
   "cell_type": "code",
   "execution_count": 26,
   "id": "255ac6e7-f358-44e6-aad6-272f20ad195b",
   "metadata": {
    "tags": []
   },
   "outputs": [
    {
     "data": {
      "image/png": "[encoded data removed]",
      "text/plain": [
       "<Figure size 432x288 with 1 Axes>"
      ]
     },
     "metadata": {
      "needs_background": "light"
     },
     "output_type": "display_data"
    }
   ],
   "source": [
    "#look at the plot\n",
    "ogt_plot(representative_bacteria_predicted_ogt)"
   ]
  },
  {
   "cell_type": "code",
   "execution_count": 27,
   "id": "77bdc32a-fecd-4a9d-a0f9-021b176c0208",
   "metadata": {},
   "outputs": [
    {
     "data": {
      "text/plain": [
       "wgs_master            NaN\n",
       "taxid            0.036918\n",
       "species_taxid    0.019387\n",
       "OGT              1.000000\n",
       "predicted_OGT    0.687815\n",
       "Name: OGT, dtype: float64"
      ]
     },
     "execution_count": 27,
     "metadata": {},
     "output_type": "execute_result"
    }
   ],
   "source": [
    "# get the correlation between predicted and actual ogt\n",
    "representative_bacteria_predicted_ogt.corr()[\"OGT\"]"
   ]
  },
  {
   "cell_type": "code",
   "execution_count": 28,
   "id": "4788c9c1-ccdd-455c-85d5-b5d0799fef55",
   "metadata": {},
   "outputs": [
    {
     "data": {
      "image/png": "[encoded data removed]",
      "text/plain": [
       "<Figure size 432x288 with 1 Axes>"
      ]
     },
     "metadata": {
      "needs_background": "light"
     },
     "output_type": "display_data"
    }
   ],
   "source": [
    "ogt_plot(full_bacteria_predicted_ogt)"
   ]
  },
  {
   "cell_type": "code",
   "execution_count": 29,
   "id": "f9d038fa-228c-42bb-a840-d4bc42a38e07",
   "metadata": {},
   "outputs": [
    {
     "data": {
      "text/plain": [
       "wgs_master            NaN\n",
       "taxid           -0.089140\n",
       "species_taxid   -0.081325\n",
       "OGT              1.000000\n",
       "predicted_OGT    0.105328\n",
       "Name: OGT, dtype: float64"
      ]
     },
     "execution_count": 29,
     "metadata": {},
     "output_type": "execute_result"
    }
   ],
   "source": [
    "full_bacteria_predicted_ogt.corr()[\"OGT\"]"
   ]
  },
  {
   "cell_type": "markdown",
   "id": "986fb255-03fb-437b-b283-531246d79224",
   "metadata": {},
   "source": [
    "create a function to analyse the results\n"
   ]
  },
  {
   "cell_type": "code",
   "execution_count": 30,
   "id": "70216fd9-299a-48b1-a604-2967a9b9bf29",
   "metadata": {},
   "outputs": [],
   "source": [
    "def predicted_ogt_analysis(data):\n",
    "    '''\n",
    "    Compares the results of the metagenomic thermometer to a model of a 'perfect' score\n",
    "    \n",
    "    Arguments:\n",
    "        data(dataframe): the results of the metagenomic thermometer, with ogt and predicted ogt\n",
    "    Returns:\n",
    "        Nothing\n",
    "    '''\n",
    "\n",
    "    X = pd.DataFrame(data, columns=[\"predicted_OGT\"])\n",
    "    y= (data[\"OGT\"])\n",
    "    Z = pd.DataFrame(data, columns=[\"OGT\"])\n",
    "\n",
    "\n",
    "    regr = linear_model.LinearRegression()\n",
    "    regr.fit(Z, y)\n",
    "\n",
    "\n",
    "    meanAbErr = metrics.mean_absolute_error(X, y)\n",
    "    meanSqErr = metrics.mean_squared_error(X, y)\n",
    "    rootMeanSqErr = np.sqrt(metrics.mean_squared_error(X, y))\n",
    "    r2 = r2_score(y, X)\n",
    "    print('r2 score for perfect model is', r2)\n",
    "    print('Mean Absolute Error:', meanAbErr)\n",
    "    print('Mean Square Error:', meanSqErr)\n",
    "    print('Root Mean Square Error:', rootMeanSqErr)"
   ]
  },
  {
   "cell_type": "code",
   "execution_count": 31,
   "id": "792dd241-04c6-41f3-b00a-aef251a79635",
   "metadata": {},
   "outputs": [
    {
     "name": "stdout",
     "output_type": "stream",
     "text": [
      "r2 score for perfect model is 0.17842593843617038\n",
      "Mean Absolute Error: 6.356871049304678\n",
      "Mean Square Error: 73.10086656131479\n",
      "Root Mean Square Error: 8.549904476736263\n"
     ]
    }
   ],
   "source": [
    "predicted_ogt_analysis(representative_bacteria_predicted_ogt)"
   ]
  },
  {
   "cell_type": "code",
   "execution_count": 32,
   "id": "89151d86-a232-4968-bb37-a251c321b8c7",
   "metadata": {},
   "outputs": [
    {
     "name": "stdout",
     "output_type": "stream",
     "text": [
      "r2 score for perfect model is -2.149452354799473\n",
      "Mean Absolute Error: 6.877209450603946\n",
      "Mean Square Error: 86.95841134214162\n",
      "Root Mean Square Error: 9.3251494005266\n"
     ]
    }
   ],
   "source": [
    "predicted_ogt_analysis(full_bacteria_predicted_ogt)"
   ]
  },
  {
   "cell_type": "markdown",
   "id": "65423adb-02d6-4905-bafc-601b525a7707",
   "metadata": {},
   "source": [
    "Lets explore how well the representative predicted ogt correlates with ogt in its different thermal groups"
   ]
  },
  {
   "cell_type": "code",
   "execution_count": 33,
   "id": "a78ccd74-f079-4264-bdf0-8c7c42d660a2",
   "metadata": {},
   "outputs": [],
   "source": [
    "def explore_therm_types(data):\n",
    "    '''\n",
    "    splits a dataset into psychrophiles, mesophiles, and thermophiles\n",
    "    \n",
    "    Arguments:\n",
    "        data(dataframe): the dataframe to be split\n",
    "    \n",
    "    Returns:\n",
    "        zero_to_20(dataframe):the psychrophile dataframe\n",
    "        twenty_to_45(dataframe): the mesophile dataframe\n",
    "        fourty_to_max(dataframe): the thermophile dataframe\n",
    "    '''\n",
    "    zero_to_20 = (data[\"OGT\"]<=20)\n",
    "    zero_to_20 = data[zero_to_20]\n",
    "\n",
    "    twenty_to_45 = (data[\"OGT\"]<=45)\n",
    "    twenty_to_45 = data[twenty_to_45]\n",
    "    twenty_to_45_2 = (twenty_to_45[\"OGT\"]>20)\n",
    "    twenty_to_45 = twenty_to_45[twenty_to_45_2]\n",
    "\n",
    "    fourty_to_max = (data[\"OGT\"]>45)\n",
    "    fourty_to_max = data[fourty_to_max]\n",
    "    \n",
    "    return(zero_to_20, twenty_to_45, fourty_to_max)"
   ]
  },
  {
   "cell_type": "code",
   "execution_count": 34,
   "id": "f8c20cea-8b74-42ac-afc7-ff973913c257",
   "metadata": {},
   "outputs": [],
   "source": [
    "# split the representitive bact into its diff thermal types\n",
    "psy_bact,meso_bact, therm_bact = explore_therm_types(representative_bacteria_predicted_ogt)"
   ]
  },
  {
   "cell_type": "code",
   "execution_count": 35,
   "id": "c4245833-7b82-4c68-9f17-ed3057d6e888",
   "metadata": {},
   "outputs": [
    {
     "data": {
      "image/png": "[encoded data removed]",
      "text/plain": [
       "<Figure size 432x288 with 1 Axes>"
      ]
     },
     "metadata": {
      "needs_background": "light"
     },
     "output_type": "display_data"
    }
   ],
   "source": [
    "ogt_plot(psy_bact)"
   ]
  },
  {
   "cell_type": "code",
   "execution_count": 36,
   "id": "f0711db5-8d4d-434a-8b10-8a859648f7da",
   "metadata": {},
   "outputs": [
    {
     "data": {
      "text/plain": [
       "wgs_master            NaN\n",
       "taxid            0.347944\n",
       "species_taxid    0.254481\n",
       "OGT              1.000000\n",
       "predicted_OGT   -0.397164\n",
       "Name: OGT, dtype: float64"
      ]
     },
     "execution_count": 36,
     "metadata": {},
     "output_type": "execute_result"
    }
   ],
   "source": [
    "psy_bact.corr()[\"OGT\"]"
   ]
  },
  {
   "cell_type": "code",
   "execution_count": 37,
   "id": "7d0ed3ff-bf1a-42e0-8073-8fe77442e916",
   "metadata": {},
   "outputs": [
    {
     "data": {
      "image/png": "[encoded data removed]",
      "text/plain": [
       "<Figure size 432x288 with 1 Axes>"
      ]
     },
     "metadata": {
      "needs_background": "light"
     },
     "output_type": "display_data"
    }
   ],
   "source": [
    "ogt_plot(meso_bact)"
   ]
  },
  {
   "cell_type": "code",
   "execution_count": 38,
   "id": "981158ee-7351-41b0-aa86-a272ef249dc6",
   "metadata": {},
   "outputs": [
    {
     "data": {
      "text/plain": [
       "wgs_master            NaN\n",
       "taxid           -0.115091\n",
       "species_taxid   -0.130626\n",
       "OGT              1.000000\n",
       "predicted_OGT    0.245975\n",
       "Name: OGT, dtype: float64"
      ]
     },
     "execution_count": 38,
     "metadata": {},
     "output_type": "execute_result"
    }
   ],
   "source": [
    "meso_bact.corr()[\"OGT\"]"
   ]
  },
  {
   "cell_type": "code",
   "execution_count": 39,
   "id": "69745530-df1e-456d-8fcb-a1f34448a460",
   "metadata": {},
   "outputs": [
    {
     "data": {
      "image/png": "[encoded data removed]",
      "text/plain": [
       "<Figure size 432x288 with 1 Axes>"
      ]
     },
     "metadata": {
      "needs_background": "light"
     },
     "output_type": "display_data"
    }
   ],
   "source": [
    "ogt_plot(therm_bact)"
   ]
  },
  {
   "cell_type": "code",
   "execution_count": 40,
   "id": "e6133a87-45c1-4fd0-9f62-c4396be75c2c",
   "metadata": {},
   "outputs": [
    {
     "data": {
      "text/plain": [
       "wgs_master            NaN\n",
       "taxid            0.229493\n",
       "species_taxid    0.202153\n",
       "OGT              1.000000\n",
       "predicted_OGT    0.729725\n",
       "Name: OGT, dtype: float64"
      ]
     },
     "execution_count": 40,
     "metadata": {},
     "output_type": "execute_result"
    }
   ],
   "source": [
    "therm_bact.corr()[\"OGT\"]"
   ]
  },
  {
   "cell_type": "markdown",
   "id": "f7805801-79e2-42d3-b61c-ad7d06051157",
   "metadata": {},
   "source": [
    "### Archaea"
   ]
  },
  {
   "cell_type": "markdown",
   "id": "cdaea3cb-f844-4448-81ca-f8eb84a974f3",
   "metadata": {},
   "source": [
    "Repeat the bact analysis for archaea"
   ]
  },
  {
   "cell_type": "code",
   "execution_count": 42,
   "id": "4e6980e2-4e82-4e6a-98ba-f0967b6c8d78",
   "metadata": {},
   "outputs": [],
   "source": [
    "#import datasets\n",
    "representative_archaea_predicted_ogt = pd.read_csv('representative_archaea_predicted_ogt.csv')\n",
    "full_archaea_predicted_ogt = pd.read_csv('full_archaea_predicted_ogt.csv')"
   ]
  },
  {
   "cell_type": "code",
   "execution_count": 43,
   "id": "955828d9-e786-42a4-8575-262ea0011ad2",
   "metadata": {},
   "outputs": [
    {
     "data": {
      "image/png": "[encoded data removed]",
      "text/plain": [
       "<Figure size 432x288 with 1 Axes>"
      ]
     },
     "metadata": {
      "needs_background": "light"
     },
     "output_type": "display_data"
    }
   ],
   "source": [
    "#look at the plot\n",
    "ogt_plot(representative_archaea_predicted_ogt)"
   ]
  },
  {
   "cell_type": "code",
   "execution_count": 44,
   "id": "b3ef16de-09b5-4fe5-a9e3-9e6123b4344d",
   "metadata": {},
   "outputs": [
    {
     "data": {
      "text/plain": [
       "taxid                       -0.120289\n",
       "species_taxid               -0.103982\n",
       "genome_size                 -0.619238\n",
       "genome_size_ungapped        -0.619238\n",
       "gc_percent                  -0.090068\n",
       "replicon_count              -0.282322\n",
       "scaffold_count              -0.282322\n",
       "contig_count                -0.228017\n",
       "total_gene_count            -0.527103\n",
       "protein_coding_gene_count   -0.538365\n",
       "non_coding_gene_count       -0.131821\n",
       "OGT                          1.000000\n",
       "predicted_OGT                0.927209\n",
       "Name: OGT, dtype: float64"
      ]
     },
     "execution_count": 44,
     "metadata": {},
     "output_type": "execute_result"
    }
   ],
   "source": [
    "# get the correlation between predicted and actual ogt\n",
    "representative_archaea_predicted_ogt.corr()[\"OGT\"]"
   ]
  },
  {
   "cell_type": "code",
   "execution_count": 45,
   "id": "f34a3090-28d9-4a93-b09e-35f58a2b0904",
   "metadata": {},
   "outputs": [
    {
     "data": {
      "image/png": "[encoded data removed]",
      "text/plain": [
       "<Figure size 432x288 with 1 Axes>"
      ]
     },
     "metadata": {
      "needs_background": "light"
     },
     "output_type": "display_data"
    }
   ],
   "source": [
    "ogt_plot(full_archaea_predicted_ogt)"
   ]
  },
  {
   "cell_type": "code",
   "execution_count": 46,
   "id": "048e74db-5c51-4100-a5ab-8f3f4ee397ee",
   "metadata": {},
   "outputs": [
    {
     "data": {
      "text/plain": [
       "taxid                       -0.050235\n",
       "species_taxid                0.002923\n",
       "genome_size                 -0.602291\n",
       "genome_size_ungapped        -0.602291\n",
       "gc_percent                  -0.169264\n",
       "replicon_count              -0.310458\n",
       "scaffold_count              -0.310458\n",
       "contig_count                -0.277091\n",
       "total_gene_count            -0.522987\n",
       "protein_coding_gene_count   -0.531849\n",
       "non_coding_gene_count       -0.202525\n",
       "OGT                          1.000000\n",
       "predicted_OGT                0.932051\n",
       "Name: OGT, dtype: float64"
      ]
     },
     "execution_count": 46,
     "metadata": {},
     "output_type": "execute_result"
    }
   ],
   "source": [
    "full_archaea_predicted_ogt.corr()[\"OGT\"]"
   ]
  },
  {
   "cell_type": "markdown",
   "id": "2a317972-8840-45a0-ade5-dc767880bfdb",
   "metadata": {},
   "source": [
    "Analyse results"
   ]
  },
  {
   "cell_type": "code",
   "execution_count": 47,
   "id": "15729225-7aec-4dc2-857f-698199d958bc",
   "metadata": {},
   "outputs": [
    {
     "name": "stdout",
     "output_type": "stream",
     "text": [
      "r2 score for perfect model is 0.7382935359470983\n",
      "Mean Absolute Error: 9.63119170984456\n",
      "Mean Square Error: 129.82658445595854\n",
      "Root Mean Square Error: 11.394146938492524\n"
     ]
    }
   ],
   "source": [
    "predicted_ogt_analysis(representative_archaea_predicted_ogt)"
   ]
  },
  {
   "cell_type": "code",
   "execution_count": 48,
   "id": "0b54939c-5cca-4a7a-ab7d-136eeeee96e9",
   "metadata": {},
   "outputs": [
    {
     "name": "stdout",
     "output_type": "stream",
     "text": [
      "r2 score for perfect model is 0.7354466149193435\n",
      "Mean Absolute Error: 9.944198473282443\n",
      "Mean Square Error: 135.11737709923665\n",
      "Root Mean Square Error: 11.624000047283063\n"
     ]
    }
   ],
   "source": [
    "predicted_ogt_analysis(full_archaea_predicted_ogt)"
   ]
  },
  {
   "cell_type": "markdown",
   "id": "077e74cf-115e-4878-a486-9569ba3bc0c8",
   "metadata": {},
   "source": [
    "Split into thermal groups"
   ]
  },
  {
   "cell_type": "code",
   "execution_count": 49,
   "id": "9619f6b2-3287-4043-8369-bddce8f4daaa",
   "metadata": {},
   "outputs": [],
   "source": [
    "# split the representitive bact into its diff thermal types\n",
    "psy_arch,meso_arch, therm_arch = explore_therm_types(representative_archaea_predicted_ogt)"
   ]
  },
  {
   "cell_type": "markdown",
   "id": "944a5c47-231c-40cc-b335-e934c18be31b",
   "metadata": {},
   "source": [
    "analyse thermal groups"
   ]
  },
  {
   "cell_type": "code",
   "execution_count": 51,
   "id": "4b56a604-ddca-44b8-a279-4247e66f92e7",
   "metadata": {},
   "outputs": [
    {
     "data": {
      "text/plain": [
       "taxid                       NaN\n",
       "species_taxid               NaN\n",
       "genome_size                 NaN\n",
       "genome_size_ungapped        NaN\n",
       "gc_percent                  NaN\n",
       "replicon_count              NaN\n",
       "scaffold_count              NaN\n",
       "contig_count                NaN\n",
       "total_gene_count            NaN\n",
       "protein_coding_gene_count   NaN\n",
       "non_coding_gene_count       NaN\n",
       "OGT                         NaN\n",
       "predicted_OGT               NaN\n",
       "Name: OGT, dtype: float64"
      ]
     },
     "execution_count": 51,
     "metadata": {},
     "output_type": "execute_result"
    }
   ],
   "source": [
    "psy_arch.corr()[\"OGT\"]"
   ]
  },
  {
   "cell_type": "markdown",
   "id": "f0f86826-8b0c-4870-9734-7a455ac1e6ff",
   "metadata": {},
   "source": [
    "No psychrophile correlation due to lack of psychrophiles"
   ]
  },
  {
   "cell_type": "code",
   "execution_count": 52,
   "id": "ef7d01c4-06d4-4f5f-91a6-da11c5ec2303",
   "metadata": {},
   "outputs": [
    {
     "data": {
      "image/png": "[encoded data removed]",
      "text/plain": [
       "<Figure size 432x288 with 1 Axes>"
      ]
     },
     "metadata": {
      "needs_background": "light"
     },
     "output_type": "display_data"
    }
   ],
   "source": [
    "ogt_plot(meso_arch)"
   ]
  },
  {
   "cell_type": "code",
   "execution_count": 53,
   "id": "e5deccd9-2087-49ba-a458-d04f85e3dd1c",
   "metadata": {},
   "outputs": [
    {
     "data": {
      "text/plain": [
       "taxid                        0.081547\n",
       "species_taxid                0.204725\n",
       "genome_size                  0.068875\n",
       "genome_size_ungapped         0.068875\n",
       "gc_percent                   0.057108\n",
       "replicon_count               0.142564\n",
       "scaffold_count               0.142564\n",
       "contig_count                 0.142564\n",
       "total_gene_count             0.120032\n",
       "protein_coding_gene_count    0.122857\n",
       "non_coding_gene_count       -0.289708\n",
       "OGT                          1.000000\n",
       "predicted_OGT               -0.009068\n",
       "Name: OGT, dtype: float64"
      ]
     },
     "execution_count": 53,
     "metadata": {},
     "output_type": "execute_result"
    }
   ],
   "source": [
    "meso_arch.corr()[\"OGT\"]"
   ]
  },
  {
   "cell_type": "code",
   "execution_count": 54,
   "id": "11ec1414-fbde-437f-aeef-7245273430fa",
   "metadata": {},
   "outputs": [
    {
     "data": {
      "image/png": "[encoded data removed]",
      "text/plain": [
       "<Figure size 432x288 with 1 Axes>"
      ]
     },
     "metadata": {
      "needs_background": "light"
     },
     "output_type": "display_data"
    }
   ],
   "source": [
    "ogt_plot(therm_arch)"
   ]
  },
  {
   "cell_type": "code",
   "execution_count": 55,
   "id": "5f70d8bb-8221-4138-9930-9bdec42646b5",
   "metadata": {},
   "outputs": [
    {
     "data": {
      "text/plain": [
       "taxid                        0.161406\n",
       "species_taxid                0.052868\n",
       "genome_size                 -0.310080\n",
       "genome_size_ungapped        -0.310080\n",
       "gc_percent                   0.251770\n",
       "replicon_count              -0.061720\n",
       "scaffold_count              -0.061720\n",
       "contig_count                -0.054416\n",
       "total_gene_count            -0.166313\n",
       "protein_coding_gene_count   -0.171307\n",
       "non_coding_gene_count        0.205916\n",
       "OGT                          1.000000\n",
       "predicted_OGT                0.797371\n",
       "Name: OGT, dtype: float64"
      ]
     },
     "execution_count": 55,
     "metadata": {},
     "output_type": "execute_result"
    }
   ],
   "source": [
    "therm_arch.corr()[\"OGT\"]"
   ]
  },
  {
   "cell_type": "markdown",
   "id": "372de593-70c4-4a52-8065-2b54ef4eda05",
   "metadata": {},
   "source": [
    "### Prokaryotes"
   ]
  },
  {
   "cell_type": "code",
   "execution_count": 57,
   "id": "785acb21-1470-4691-8809-f4ac6509d1c5",
   "metadata": {},
   "outputs": [],
   "source": [
    "#import datasets\n",
    "representative_prokaryote_predicted_ogt = pd.read_csv('representative_prokaryote_predicted_ogt.csv')\n",
    "full_prokaryote_predicted_ogt = pd.read_csv('full_prokaryote_predicted_ogt.csv')"
   ]
  },
  {
   "cell_type": "markdown",
   "id": "966f1ea4-779c-48e8-88ca-ab460e3dc5c8",
   "metadata": {},
   "source": [
    "Or, alternatively"
   ]
  },
  {
   "cell_type": "code",
   "execution_count": 58,
   "id": "62f444f5-cd52-4a7b-822f-bfe3077dfcd9",
   "metadata": {},
   "outputs": [],
   "source": [
    "#create datasets\n",
    "#state dataframes\n",
    "dataframes_representative = [representative_bacteria_predicted_ogt, representative_archaea_predicted_ogt]\n",
    "dataframes_full = [ full_bacteria_predicted_ogt, full_archaea_predicted_ogt]\n",
    "# combine them\n",
    "representative_prokaryote_predicted_ogt = pd.concat(dataframes_representative)\n",
    "full_prokaryote_predicted_ogt = pd.concat(dataframes_full)"
   ]
  },
  {
   "cell_type": "code",
   "execution_count": 59,
   "id": "96062601-183b-47f3-879c-3adf51a8b233",
   "metadata": {},
   "outputs": [
    {
     "data": {
      "image/png": "[encoded data removed]",
      "text/plain": [
       "<Figure size 432x288 with 1 Axes>"
      ]
     },
     "metadata": {
      "needs_background": "light"
     },
     "output_type": "display_data"
    }
   ],
   "source": [
    "#look at the plot\n",
    "ogt_plot(representative_prokaryote_predicted_ogt)"
   ]
  },
  {
   "cell_type": "code",
   "execution_count": 60,
   "id": "29fccd88-995d-4b3e-8350-b46dbfa15d44",
   "metadata": {},
   "outputs": [
    {
     "data": {
      "text/plain": [
       "taxid                        0.105128\n",
       "species_taxid                0.033423\n",
       "OGT                          1.000000\n",
       "predicted_OGT                0.874564\n",
       "genome_size                 -0.619238\n",
       "genome_size_ungapped        -0.619238\n",
       "gc_percent                  -0.090068\n",
       "replicon_count              -0.282322\n",
       "scaffold_count              -0.282322\n",
       "contig_count                -0.228017\n",
       "total_gene_count            -0.527103\n",
       "protein_coding_gene_count   -0.538365\n",
       "non_coding_gene_count       -0.131821\n",
       "Name: OGT, dtype: float64"
      ]
     },
     "execution_count": 60,
     "metadata": {},
     "output_type": "execute_result"
    }
   ],
   "source": [
    "# get the correlation between predicted and actual ogt\n",
    "representative_prokaryote_predicted_ogt.corr()[\"OGT\"]"
   ]
  },
  {
   "cell_type": "code",
   "execution_count": 61,
   "id": "e68b7c1b-33f3-45b1-acdc-06e696639bdd",
   "metadata": {},
   "outputs": [
    {
     "data": {
      "image/png": "[encoded data removed]",
      "text/plain": [
       "<Figure size 432x288 with 1 Axes>"
      ]
     },
     "metadata": {
      "needs_background": "light"
     },
     "output_type": "display_data"
    }
   ],
   "source": [
    "ogt_plot(full_prokaryote_predicted_ogt)"
   ]
  },
  {
   "cell_type": "code",
   "execution_count": 62,
   "id": "e3c99651-133f-4930-a772-dde595cb53a4",
   "metadata": {},
   "outputs": [
    {
     "data": {
      "text/plain": [
       "taxid                       -0.049475\n",
       "species_taxid               -0.054679\n",
       "OGT                          1.000000\n",
       "predicted_OGT                0.302890\n",
       "genome_size                 -0.602291\n",
       "genome_size_ungapped        -0.602291\n",
       "gc_percent                  -0.169264\n",
       "replicon_count              -0.310458\n",
       "scaffold_count              -0.310458\n",
       "contig_count                -0.277091\n",
       "total_gene_count            -0.522987\n",
       "protein_coding_gene_count   -0.531849\n",
       "non_coding_gene_count       -0.202525\n",
       "Name: OGT, dtype: float64"
      ]
     },
     "execution_count": 62,
     "metadata": {},
     "output_type": "execute_result"
    }
   ],
   "source": [
    "full_prokaryote_predicted_ogt.corr()[\"OGT\"]"
   ]
  },
  {
   "cell_type": "markdown",
   "id": "204ec8bb-081e-4813-a367-a7f990ae9f1b",
   "metadata": {},
   "source": [
    "Analyse results"
   ]
  },
  {
   "cell_type": "code",
   "execution_count": 63,
   "id": "6a80e963-87d3-4b41-9bcf-13f681b376e0",
   "metadata": {},
   "outputs": [
    {
     "name": "stdout",
     "output_type": "stream",
     "text": [
      "r2 score for perfect model is 0.6585650004417737\n",
      "Mean Absolute Error: 6.712895774647887\n",
      "Mean Square Error: 79.26878969014085\n",
      "Root Mean Square Error: 8.903302178974993\n"
     ]
    }
   ],
   "source": [
    "predicted_ogt_analysis(representative_prokaryote_predicted_ogt)"
   ]
  },
  {
   "cell_type": "code",
   "execution_count": 64,
   "id": "22cfeda1-185f-4b78-b6e5-6a9b0a189c4b",
   "metadata": {},
   "outputs": [
    {
     "name": "stdout",
     "output_type": "stream",
     "text": [
      "r2 score for perfect model is -1.2830118002971278\n",
      "Mean Absolute Error: 6.905411153616678\n",
      "Mean Square Error: 87.40124463552452\n",
      "Root Mean Square Error: 9.348863280395351\n"
     ]
    }
   ],
   "source": [
    "predicted_ogt_analysis(full_prokaryote_predicted_ogt)"
   ]
  },
  {
   "cell_type": "markdown",
   "id": "c24d78b1-7a80-4092-964f-7c2695ecfdc7",
   "metadata": {},
   "source": [
    "investigate different thermal adaptations"
   ]
  },
  {
   "cell_type": "code",
   "execution_count": 65,
   "id": "f50d156d-84e2-483a-bf9f-244cf2f6d57f",
   "metadata": {},
   "outputs": [],
   "source": [
    "#split into thermal groups\n",
    "psy_pro,meso_pro, therm_pro = explore_therm_types(representative_prokaryote_predicted_ogt)"
   ]
  },
  {
   "cell_type": "code",
   "execution_count": 66,
   "id": "9ca86105-fee7-4d72-8e0f-fd73f185a863",
   "metadata": {},
   "outputs": [
    {
     "data": {
      "image/png": "[encoded data removed]",
      "text/plain": [
       "<Figure size 432x288 with 1 Axes>"
      ]
     },
     "metadata": {
      "needs_background": "light"
     },
     "output_type": "display_data"
    }
   ],
   "source": [
    "ogt_plot(psy_pro)"
   ]
  },
  {
   "cell_type": "code",
   "execution_count": 67,
   "id": "4819f69a-874e-4f42-8e40-fedc21495f58",
   "metadata": {},
   "outputs": [
    {
     "data": {
      "text/plain": [
       "taxid                        0.347944\n",
       "species_taxid                0.254481\n",
       "OGT                          1.000000\n",
       "predicted_OGT               -0.397164\n",
       "genome_size                       NaN\n",
       "genome_size_ungapped              NaN\n",
       "gc_percent                        NaN\n",
       "replicon_count                    NaN\n",
       "scaffold_count                    NaN\n",
       "contig_count                      NaN\n",
       "total_gene_count                  NaN\n",
       "protein_coding_gene_count         NaN\n",
       "non_coding_gene_count             NaN\n",
       "Name: OGT, dtype: float64"
      ]
     },
     "execution_count": 67,
     "metadata": {},
     "output_type": "execute_result"
    }
   ],
   "source": [
    "psy_pro.corr()[\"OGT\"]"
   ]
  },
  {
   "cell_type": "code",
   "execution_count": 68,
   "id": "b32753ad-bd62-4e6c-bf6b-60809d1b3fef",
   "metadata": {},
   "outputs": [
    {
     "data": {
      "image/png": "[encoded data removed]",
      "text/plain": [
       "<Figure size 432x288 with 1 Axes>"
      ]
     },
     "metadata": {
      "needs_background": "light"
     },
     "output_type": "display_data"
    }
   ],
   "source": [
    "ogt_plot(meso_pro)"
   ]
  },
  {
   "cell_type": "code",
   "execution_count": 69,
   "id": "4a8b7b78-08fd-4434-86dc-ef9ed8d9ed55",
   "metadata": {},
   "outputs": [
    {
     "data": {
      "text/plain": [
       "taxid                       -0.067619\n",
       "species_taxid               -0.086584\n",
       "OGT                          1.000000\n",
       "predicted_OGT                0.275997\n",
       "genome_size                  0.068875\n",
       "genome_size_ungapped         0.068875\n",
       "gc_percent                   0.057108\n",
       "replicon_count               0.142564\n",
       "scaffold_count               0.142564\n",
       "contig_count                 0.142564\n",
       "total_gene_count             0.120032\n",
       "protein_coding_gene_count    0.122857\n",
       "non_coding_gene_count       -0.289708\n",
       "Name: OGT, dtype: float64"
      ]
     },
     "execution_count": 69,
     "metadata": {},
     "output_type": "execute_result"
    }
   ],
   "source": [
    "meso_pro.corr()[\"OGT\"]"
   ]
  },
  {
   "cell_type": "code",
   "execution_count": 70,
   "id": "0c5ec99d-c590-4476-aca3-41dae8ece896",
   "metadata": {},
   "outputs": [
    {
     "data": {
      "image/png": "[encoded data removed]",
      "text/plain": [
       "<Figure size 432x288 with 1 Axes>"
      ]
     },
     "metadata": {
      "needs_background": "light"
     },
     "output_type": "display_data"
    }
   ],
   "source": [
    "ogt_plot(therm_pro)"
   ]
  },
  {
   "cell_type": "code",
   "execution_count": 71,
   "id": "86ce1fc2-50e8-41bb-b20b-7adec6f4cc5e",
   "metadata": {},
   "outputs": [
    {
     "data": {
      "text/plain": [
       "taxid                        0.129399\n",
       "species_taxid                0.011108\n",
       "OGT                          1.000000\n",
       "predicted_OGT                0.889996\n",
       "genome_size                 -0.310080\n",
       "genome_size_ungapped        -0.310080\n",
       "gc_percent                   0.251770\n",
       "replicon_count              -0.061720\n",
       "scaffold_count              -0.061720\n",
       "contig_count                -0.054416\n",
       "total_gene_count            -0.166313\n",
       "protein_coding_gene_count   -0.171307\n",
       "non_coding_gene_count        0.205916\n",
       "Name: OGT, dtype: float64"
      ]
     },
     "execution_count": 71,
     "metadata": {},
     "output_type": "execute_result"
    }
   ],
   "source": [
    "therm_pro.corr()[\"OGT\"]"
   ]
  },
  {
   "cell_type": "markdown",
   "id": "b72bc207-e566-4507-8d1f-2257d521fde8",
   "metadata": {},
   "source": [
    "# Amino Acid analysis"
   ]
  },
  {
   "cell_type": "markdown",
   "id": "85315445-15c3-425b-906d-8c7019add648",
   "metadata": {},
   "source": [
    "Is there a better amino acid fraction than IVYWREL?\n",
    "\n",
    "get the amino acid fractions for each dataset using either amino_acid_calulator.py\n",
    "- python amino_acid_calculator.py input_database.csv \n",
    "or amino_acid_and_met_thermometer.py \n",
    "- python amino_acid_and_met_thermometer.py dataset_name.csv\n",
    "\n",
    "lets then calculate the ivywrel fractions for each dataset and investigate IVYWREL\n",
    "\n",
    "following the investigation of IVYWREL, we can find the best correlated amino acid set for each dataset"
   ]
  },
  {
   "cell_type": "code",
   "execution_count": 72,
   "id": "71059b65-9ed0-442d-9652-babcd6179c61",
   "metadata": {},
   "outputs": [],
   "source": [
    "def amino_acid_count(dataset):\n",
    "    '''\n",
    "    this function calculates the IVYWREL fraction for an input dataset\n",
    "    \n",
    "    Arguments:\n",
    "        dataset(dataframe): the input dataframe of genomes.\n",
    "    \n",
    "    Returns:\n",
    "        output(dataframe): the output dataframe of genomes, with calculated IVYWREL fractions\n",
    "    '''\n",
    "    output = dataset\n",
    "    output[\"ivywrel_fraction\"] = 0\n",
    "    for item, name in dataset.iterrows():\n",
    "        ivywrel_count = 0\n",
    "        ivywrel = [ \"I_fraction\", \"V_fraction\", \"Y_fraction\", \"W_fraction\", \"R_fraction\", \"E_fraction\", \"L_fraction\"]\n",
    "        #######\n",
    "        for column in ivywrel:\n",
    "            ivywrel_count = ivywrel_count + dataset.loc[item , column]\n",
    "      \n",
    "        output.loc[item, \"ivywrel_fraction\"] = ivywrel_count\n",
    "    return output"
   ]
  },
  {
   "cell_type": "code",
   "execution_count": 74,
   "id": "08e1e09c-1aa3-4a2a-b15f-0f365c982b43",
   "metadata": {},
   "outputs": [
    {
     "name": "stderr",
     "output_type": "stream",
     "text": [
      "C:\\Users\\yq19555\\AppData\\Local\\Temp\\ipykernel_20860\\3854886860.py:10: DtypeWarning: Columns (3,16,23,24,31,32,33,37) have mixed types. Specify dtype option on import or set low_memory=False.\n",
      "  full_prokaryote_amino_acids = pd.read_csv('full_prokaryote_amino_acids.csv')\n"
     ]
    }
   ],
   "source": [
    "#import amino acid fractions\n",
    "#bact\n",
    "representative_bacteria_amino_acids = pd.read_csv('representative_bacteria_amino_acids.csv')\n",
    "full_bacteria_amino_acids = pd.read_csv('full_bacteria_amino_acids.csv')\n",
    "#archaea\n",
    "representative_archaea_amino_acids = pd.read_csv('representative_archaea_amino_acids.csv')\n",
    "full_archaea_amino_acids = pd.read_csv('full_archaea_amino_acids.csv')\n",
    "#prokaryote\n",
    "representative_prokaryote_amino_acids = pd.read_csv('representative_prokaryote_amino_acids.csv')\n",
    "full_prokaryote_amino_acids = pd.read_csv('full_prokaryote_amino_acids.csv')"
   ]
  },
  {
   "cell_type": "code",
   "execution_count": 75,
   "id": "7422776d-4330-4e67-869a-87579822bf96",
   "metadata": {},
   "outputs": [],
   "source": [
    "## calculate ivywrel fractions\n",
    "#bact\n",
    "representative_bacteria_ivywrel = amino_acid_count(representative_bacteria_amino_acids)\n",
    "full_bacteria_ivywrel = amino_acid_count(full_bacteria_amino_acids)\n",
    "#archaea\n",
    "representative_archaea_ivywrel = amino_acid_count(representative_archaea_amino_acids)\n",
    "full_archaea_ivywrel = amino_acid_count(full_archaea_amino_acids)\n",
    "#prokaryote\n",
    "representative_prokaryote_ivywrel = amino_acid_count(representative_prokaryote_amino_acids)\n",
    "full_prokaryote_ivywrel = amino_acid_count(full_prokaryote_amino_acids)"
   ]
  },
  {
   "cell_type": "code",
   "execution_count": 76,
   "id": "c8584cdc-145a-496e-b96c-53fbcbaeee34",
   "metadata": {},
   "outputs": [],
   "source": [
    "def amino_acid_analysis(dataset, acid_set):\n",
    "    '''\n",
    "    Analyses an amino acid fraction as a model for ogt prediction.\n",
    "    splits the dataset into test and train datasets.\n",
    "    \n",
    "    Arguments:\n",
    "        dataset(dataframe): the dataframe for analysis\n",
    "        acid_set(string): the acid set for analysis - must be the column name as a string\n",
    "    '''\n",
    "    X = pd.DataFrame(dataset, columns=[acid_set])\n",
    "    y= (dataset[\"OGT\"])\n",
    "\n",
    "\n",
    "    train_X, test_X, train_y, test_y = train_test_split(X, y, random_state=1)\n",
    "    from sklearn import linear_model\n",
    "    regr = linear_model.LinearRegression()\n",
    "    regr.fit(train_X, train_y)\n",
    "    #Model Evaluation\n",
    "    y_pred_regr= regr.predict(test_X)\n",
    "\n",
    "    from sklearn import metrics\n",
    "    meanAbErr = metrics.mean_absolute_error(test_y, y_pred_regr)\n",
    "    meanSqErr = metrics.mean_squared_error(test_y, y_pred_regr)\n",
    "    rootMeanSqErr = np.sqrt(metrics.mean_squared_error(test_y, y_pred_regr))\n",
    "    print('R squared: {:.2f}'.format(regr.score(X,y)*100))\n",
    "    print('Mean Absolute Error:', meanAbErr)\n",
    "    print('Mean Square Error:', meanSqErr)\n",
    "    print('Root Mean Square Error:', rootMeanSqErr)"
   ]
  },
  {
   "cell_type": "code",
   "execution_count": 77,
   "id": "e62462ce-2a21-49ac-ae25-92eb368e2a3c",
   "metadata": {},
   "outputs": [],
   "source": [
    "def fraction_plot(data,sequence_fraction):\n",
    "    '''\n",
    "    Plots ogt against a stated amino acid fraction\n",
    "    \n",
    "    Arguments:\n",
    "        data(dataframe): the dataset\n",
    "        sequence_fraction(string): the pre-calculated amino acid set.\n",
    "    '''\n",
    "    #define data\n",
    "    x = data[\"OGT\"]\n",
    "    y = data[sequence_fraction]\n",
    "\n",
    "    #find line of best fit\n",
    "    a, b = np.polyfit(x, y, 1)\n",
    "\n",
    "    #add points to plot\n",
    "    plt.scatter(x, y)\n",
    "    #add line of best fit to plot\n",
    "    plt.plot(x, a*x+b, \"red\")   \n",
    "    ##add custom line to plot\n"
   ]
  },
  {
   "cell_type": "markdown",
   "id": "7cfc683c-3dc7-4e21-b61d-decccde57189",
   "metadata": {},
   "source": [
    "### Bacteria ivywrel analysis"
   ]
  },
  {
   "cell_type": "code",
   "execution_count": 78,
   "id": "edd50c47-c07e-49fe-88bb-2410cbec41d5",
   "metadata": {},
   "outputs": [
    {
     "name": "stdout",
     "output_type": "stream",
     "text": [
      "R squared: 47.27\n",
      "Mean Absolute Error: 5.1070464706928425\n",
      "Mean Square Error: 47.41606347489237\n",
      "Root Mean Square Error: 6.885932287997927\n"
     ]
    }
   ],
   "source": [
    "amino_acid_analysis(representative_bacteria_ivywrel,\"ivywrel_fraction\")"
   ]
  },
  {
   "cell_type": "code",
   "execution_count": 81,
   "id": "fecb4b8a-c022-4d3c-9c0a-c1f740d76802",
   "metadata": {},
   "outputs": [
    {
     "data": {
      "text/plain": [
       "wgs_master               NaN\n",
       "taxid               0.036918\n",
       "species_taxid       0.019387\n",
       "OGT                 1.000000\n",
       "predicted_OGT       0.687815\n",
       "I_fraction          0.141505\n",
       "V_fraction          0.175591\n",
       "Y_fraction          0.186666\n",
       "W_fraction         -0.077661\n",
       "R_fraction          0.066289\n",
       "E_fraction          0.335283\n",
       "L_fraction         -0.017215\n",
       "A_fraction         -0.116154\n",
       "N_fraction         -0.091098\n",
       "D_fraction         -0.275403\n",
       "C_fraction          0.023281\n",
       "Q_fraction         -0.194110\n",
       "G_fraction         -0.042321\n",
       "H_fraction         -0.161543\n",
       "K_fraction          0.131226\n",
       "M_fraction          0.051771\n",
       "F_fraction          0.064206\n",
       "P_fraction         -0.023058\n",
       "S_fraction         -0.393318\n",
       "T_fraction         -0.363304\n",
       "B_fraction               NaN\n",
       "Z_fraction         -0.030444\n",
       "O_fraction               NaN\n",
       "U_fraction          0.079598\n",
       "X_fraction         -0.021558\n",
       "J_fraction         -0.030444\n",
       "other_fraction           NaN\n",
       "ivywrel_fraction    0.687810\n",
       "Name: OGT, dtype: float64"
      ]
     },
     "execution_count": 81,
     "metadata": {},
     "output_type": "execute_result"
    }
   ],
   "source": [
    "#find the correlation\n",
    "representative_bacteria_ivywrel.corr()[\"OGT\"]"
   ]
  },
  {
   "cell_type": "code",
   "execution_count": 82,
   "id": "221e67d0-5e41-475a-8611-eaf93c8be763",
   "metadata": {},
   "outputs": [],
   "source": [
    "#split into thermal groups\n",
    "psy_bact_ivywrel,mesobact_ivywrel, thermbact_ivywrel = explore_therm_types(representative_bacteria_ivywrel)"
   ]
  },
  {
   "cell_type": "code",
   "execution_count": 84,
   "id": "fced25fa-6401-4fac-86d3-9dd69f7b63d0",
   "metadata": {},
   "outputs": [
    {
     "data": {
      "image/png": "[encoded data removed]",
      "text/plain": [
       "<Figure size 432x288 with 1 Axes>"
      ]
     },
     "metadata": {
      "needs_background": "light"
     },
     "output_type": "display_data"
    }
   ],
   "source": [
    "fraction_plot(psy_bact_ivywrel, \"ivywrel_fraction\")"
   ]
  },
  {
   "cell_type": "code",
   "execution_count": 85,
   "id": "addd10ea-4fd0-471a-9b54-62a0d3fe4a77",
   "metadata": {},
   "outputs": [
    {
     "data": {
      "text/plain": [
       "wgs_master               NaN\n",
       "taxid               0.347944\n",
       "species_taxid       0.254481\n",
       "OGT                 1.000000\n",
       "predicted_OGT      -0.397164\n",
       "I_fraction         -0.484090\n",
       "V_fraction          0.096148\n",
       "Y_fraction         -0.292824\n",
       "W_fraction          0.543873\n",
       "R_fraction          0.326572\n",
       "E_fraction         -0.439355\n",
       "L_fraction          0.307427\n",
       "A_fraction          0.366268\n",
       "N_fraction         -0.221543\n",
       "D_fraction         -0.201214\n",
       "C_fraction         -0.546572\n",
       "Q_fraction          0.453018\n",
       "G_fraction          0.174603\n",
       "H_fraction          0.434726\n",
       "K_fraction         -0.388907\n",
       "M_fraction         -0.657869\n",
       "F_fraction         -0.030559\n",
       "P_fraction          0.503939\n",
       "S_fraction         -0.334951\n",
       "T_fraction          0.484295\n",
       "B_fraction               NaN\n",
       "Z_fraction               NaN\n",
       "O_fraction               NaN\n",
       "U_fraction         -0.316076\n",
       "X_fraction               NaN\n",
       "J_fraction               NaN\n",
       "other_fraction           NaN\n",
       "ivywrel_fraction   -0.397206\n",
       "Name: OGT, dtype: float64"
      ]
     },
     "execution_count": 85,
     "metadata": {},
     "output_type": "execute_result"
    }
   ],
   "source": [
    "psy_bact_ivywrel.corr()[\"OGT\"]"
   ]
  },
  {
   "cell_type": "code",
   "execution_count": 86,
   "id": "dc7ead8c-c999-4ade-a0c6-e9bc9e8fde6d",
   "metadata": {},
   "outputs": [
    {
     "data": {
      "image/png": "[encoded data removed]",
      "text/plain": [
       "<Figure size 432x288 with 1 Axes>"
      ]
     },
     "metadata": {
      "needs_background": "light"
     },
     "output_type": "display_data"
    }
   ],
   "source": [
    "fraction_plot(mesobact_ivywrel, \"ivywrel_fraction\")"
   ]
  },
  {
   "cell_type": "code",
   "execution_count": 87,
   "id": "dab1d882-8cf0-40d1-bb8c-e821062c1919",
   "metadata": {},
   "outputs": [
    {
     "data": {
      "text/plain": [
       "wgs_master               NaN\n",
       "taxid              -0.115091\n",
       "species_taxid      -0.130626\n",
       "OGT                 1.000000\n",
       "predicted_OGT       0.245975\n",
       "I_fraction          0.053687\n",
       "V_fraction          0.020836\n",
       "Y_fraction          0.048091\n",
       "W_fraction          0.037604\n",
       "R_fraction          0.001409\n",
       "E_fraction          0.043239\n",
       "L_fraction          0.047616\n",
       "A_fraction         -0.026179\n",
       "N_fraction         -0.018116\n",
       "D_fraction         -0.212226\n",
       "C_fraction          0.059537\n",
       "Q_fraction          0.083538\n",
       "G_fraction         -0.020909\n",
       "H_fraction         -0.034889\n",
       "K_fraction          0.023450\n",
       "M_fraction          0.214442\n",
       "F_fraction         -0.017561\n",
       "P_fraction         -0.033865\n",
       "S_fraction         -0.228199\n",
       "T_fraction         -0.096400\n",
       "B_fraction               NaN\n",
       "Z_fraction         -0.058071\n",
       "O_fraction               NaN\n",
       "U_fraction          0.009548\n",
       "X_fraction         -0.035901\n",
       "J_fraction         -0.058071\n",
       "other_fraction           NaN\n",
       "ivywrel_fraction    0.245976\n",
       "Name: OGT, dtype: float64"
      ]
     },
     "execution_count": 87,
     "metadata": {},
     "output_type": "execute_result"
    }
   ],
   "source": [
    "mesobact_ivywrel.corr()[\"OGT\"]"
   ]
  },
  {
   "cell_type": "code",
   "execution_count": 88,
   "id": "da5b6bf7-58e2-4079-9daf-c9b73a74545c",
   "metadata": {},
   "outputs": [
    {
     "data": {
      "image/png": "[encoded data removed]",
      "text/plain": [
       "<Figure size 432x288 with 1 Axes>"
      ]
     },
     "metadata": {
      "needs_background": "light"
     },
     "output_type": "display_data"
    }
   ],
   "source": [
    "fraction_plot(thermbact_ivywrel, \"ivywrel_fraction\")"
   ]
  },
  {
   "cell_type": "code",
   "execution_count": 89,
   "id": "23b74e8e-263f-4cbd-90b5-db79335d0c67",
   "metadata": {},
   "outputs": [
    {
     "data": {
      "text/plain": [
       "wgs_master               NaN\n",
       "taxid               0.229493\n",
       "species_taxid       0.202153\n",
       "OGT                 1.000000\n",
       "predicted_OGT       0.729725\n",
       "I_fraction          0.351754\n",
       "V_fraction         -0.019137\n",
       "Y_fraction          0.464638\n",
       "W_fraction         -0.361497\n",
       "R_fraction         -0.278545\n",
       "E_fraction          0.578617\n",
       "L_fraction          0.038666\n",
       "A_fraction         -0.459500\n",
       "N_fraction          0.222757\n",
       "D_fraction         -0.178955\n",
       "C_fraction          0.048133\n",
       "Q_fraction         -0.502786\n",
       "G_fraction         -0.305455\n",
       "H_fraction         -0.554626\n",
       "K_fraction          0.454687\n",
       "M_fraction         -0.474620\n",
       "F_fraction          0.477246\n",
       "P_fraction         -0.280515\n",
       "S_fraction          0.175134\n",
       "T_fraction         -0.520552\n",
       "B_fraction               NaN\n",
       "Z_fraction               NaN\n",
       "O_fraction               NaN\n",
       "U_fraction          0.111151\n",
       "X_fraction         -0.079600\n",
       "J_fraction               NaN\n",
       "other_fraction           NaN\n",
       "ivywrel_fraction    0.729726\n",
       "Name: OGT, dtype: float64"
      ]
     },
     "execution_count": 89,
     "metadata": {},
     "output_type": "execute_result"
    }
   ],
   "source": [
    "thermbact_ivywrel.corr()[\"OGT\"]"
   ]
  },
  {
   "cell_type": "code",
   "execution_count": 90,
   "id": "0594a372-d612-41ba-bc1b-f013db53365f",
   "metadata": {},
   "outputs": [
    {
     "name": "stdout",
     "output_type": "stream",
     "text": [
      "R squared: 1.11\n",
      "Mean Absolute Error: 4.667861612289644\n",
      "Mean Square Error: 26.718610303845235\n",
      "Root Mean Square Error: 5.169004769183835\n"
     ]
    }
   ],
   "source": [
    "# have a little look at the full dataset\n",
    "amino_acid_analysis(full_bacteria_ivywrel,\"ivywrel_fraction\")"
   ]
  },
  {
   "cell_type": "markdown",
   "id": "ab31ac1a-1e97-46bf-83d3-6d3c3fc6cc90",
   "metadata": {},
   "source": [
    "### Archaea IVYWREL analysis"
   ]
  },
  {
   "cell_type": "code",
   "execution_count": 91,
   "id": "9ccc3ea5-f2e1-43d7-abd0-35295afa77db",
   "metadata": {},
   "outputs": [
    {
     "name": "stdout",
     "output_type": "stream",
     "text": [
      "R squared: 85.92\n",
      "Mean Absolute Error: 6.718668783232099\n",
      "Mean Square Error: 80.69812290637581\n",
      "Root Mean Square Error: 8.983213395348894\n"
     ]
    }
   ],
   "source": [
    "amino_acid_analysis(representative_archaea_ivywrel,\"ivywrel_fraction\")"
   ]
  },
  {
   "cell_type": "code",
   "execution_count": 92,
   "id": "2ad9036f-86db-4da5-92a5-e4f521cc659b",
   "metadata": {},
   "outputs": [
    {
     "data": {
      "text/plain": [
       "taxid                       -0.120289\n",
       "species_taxid               -0.103982\n",
       "genome_size                 -0.619238\n",
       "genome_size_ungapped        -0.619238\n",
       "gc_percent                  -0.090068\n",
       "replicon_count              -0.282322\n",
       "scaffold_count              -0.282322\n",
       "contig_count                -0.228017\n",
       "total_gene_count            -0.527103\n",
       "protein_coding_gene_count   -0.538365\n",
       "non_coding_gene_count       -0.131821\n",
       "OGT                          1.000000\n",
       "predicted_OGT                0.927209\n",
       "I_fraction                   0.167622\n",
       "V_fraction                   0.401273\n",
       "Y_fraction                   0.546108\n",
       "W_fraction                   0.498295\n",
       "R_fraction                   0.298213\n",
       "E_fraction                   0.167634\n",
       "L_fraction                   0.760584\n",
       "A_fraction                  -0.189723\n",
       "N_fraction                  -0.212868\n",
       "D_fraction                  -0.661726\n",
       "C_fraction                  -0.481078\n",
       "Q_fraction                  -0.742091\n",
       "G_fraction                  -0.209968\n",
       "H_fraction                  -0.558297\n",
       "K_fraction                   0.325507\n",
       "M_fraction                  -0.203469\n",
       "F_fraction                   0.072084\n",
       "P_fraction                   0.186784\n",
       "S_fraction                  -0.405525\n",
       "T_fraction                  -0.763849\n",
       "B_fraction                        NaN\n",
       "Z_fraction                        NaN\n",
       "O_fraction                  -0.317225\n",
       "U_fraction                   0.044102\n",
       "X_fraction                   0.031501\n",
       "J_fraction                        NaN\n",
       "other_fraction                    NaN\n",
       "ivywrel_fraction             0.927212\n",
       "Name: OGT, dtype: float64"
      ]
     },
     "execution_count": 92,
     "metadata": {},
     "output_type": "execute_result"
    }
   ],
   "source": [
    "#find the correlation\n",
    "representative_archaea_ivywrel.corr()[\"OGT\"]"
   ]
  },
  {
   "cell_type": "code",
   "execution_count": 93,
   "id": "d5974c52-e9b6-4d63-9df2-05ab5e4e0e22",
   "metadata": {},
   "outputs": [],
   "source": [
    "#split into thermal groups\n",
    "psyarch_ivywrel,mesoarch_ivywrel, thermarch_ivywrel = explore_therm_types(representative_archaea_ivywrel)"
   ]
  },
  {
   "cell_type": "markdown",
   "id": "fb359c82-4221-4c6d-8277-01c3d86b8938",
   "metadata": {},
   "source": [
    "No Psychrophilic archaea"
   ]
  },
  {
   "cell_type": "code",
   "execution_count": 98,
   "id": "c90f88d6-53c1-45b8-a12a-0441e019e9e0",
   "metadata": {},
   "outputs": [
    {
     "data": {
      "text/plain": [
       "taxid                       NaN\n",
       "species_taxid               NaN\n",
       "genome_size                 NaN\n",
       "genome_size_ungapped        NaN\n",
       "gc_percent                  NaN\n",
       "replicon_count              NaN\n",
       "scaffold_count              NaN\n",
       "contig_count                NaN\n",
       "total_gene_count            NaN\n",
       "protein_coding_gene_count   NaN\n",
       "non_coding_gene_count       NaN\n",
       "OGT                         NaN\n",
       "predicted_OGT               NaN\n",
       "I_fraction                  NaN\n",
       "V_fraction                  NaN\n",
       "Y_fraction                  NaN\n",
       "W_fraction                  NaN\n",
       "R_fraction                  NaN\n",
       "E_fraction                  NaN\n",
       "L_fraction                  NaN\n",
       "A_fraction                  NaN\n",
       "N_fraction                  NaN\n",
       "D_fraction                  NaN\n",
       "C_fraction                  NaN\n",
       "Q_fraction                  NaN\n",
       "G_fraction                  NaN\n",
       "H_fraction                  NaN\n",
       "K_fraction                  NaN\n",
       "M_fraction                  NaN\n",
       "F_fraction                  NaN\n",
       "P_fraction                  NaN\n",
       "S_fraction                  NaN\n",
       "T_fraction                  NaN\n",
       "B_fraction                  NaN\n",
       "Z_fraction                  NaN\n",
       "O_fraction                  NaN\n",
       "U_fraction                  NaN\n",
       "X_fraction                  NaN\n",
       "J_fraction                  NaN\n",
       "other_fraction              NaN\n",
       "ivywrel_fraction            NaN\n",
       "Name: OGT, dtype: float64"
      ]
     },
     "execution_count": 98,
     "metadata": {},
     "output_type": "execute_result"
    }
   ],
   "source": [
    "psyarch_ivywrel.corr()[\"OGT\"]"
   ]
  },
  {
   "cell_type": "code",
   "execution_count": 99,
   "id": "a50eb986-c506-4c65-9925-8db9fc27344a",
   "metadata": {},
   "outputs": [
    {
     "data": {
      "image/png": "[encoded data removed]",
      "text/plain": [
       "<Figure size 432x288 with 1 Axes>"
      ]
     },
     "metadata": {
      "needs_background": "light"
     },
     "output_type": "display_data"
    }
   ],
   "source": [
    "fraction_plot(mesoarch_ivywrel, \"ivywrel_fraction\")"
   ]
  },
  {
   "cell_type": "code",
   "execution_count": 100,
   "id": "28dc3d15-4e8a-423e-9115-0064138e1105",
   "metadata": {},
   "outputs": [
    {
     "data": {
      "text/plain": [
       "taxid                        0.081547\n",
       "species_taxid                0.204725\n",
       "genome_size                  0.068875\n",
       "genome_size_ungapped         0.068875\n",
       "gc_percent                   0.057108\n",
       "replicon_count               0.142564\n",
       "scaffold_count               0.142564\n",
       "contig_count                 0.142564\n",
       "total_gene_count             0.120032\n",
       "protein_coding_gene_count    0.122857\n",
       "non_coding_gene_count       -0.289708\n",
       "OGT                          1.000000\n",
       "predicted_OGT               -0.009068\n",
       "I_fraction                  -0.109067\n",
       "V_fraction                   0.039942\n",
       "Y_fraction                   0.048066\n",
       "W_fraction                   0.061995\n",
       "R_fraction                   0.062862\n",
       "E_fraction                   0.102563\n",
       "L_fraction                  -0.069790\n",
       "A_fraction                   0.092677\n",
       "N_fraction                  -0.023425\n",
       "D_fraction                   0.090598\n",
       "C_fraction                  -0.193404\n",
       "Q_fraction                   0.023563\n",
       "G_fraction                  -0.023068\n",
       "H_fraction                  -0.076067\n",
       "K_fraction                  -0.015788\n",
       "M_fraction                  -0.129835\n",
       "F_fraction                  -0.113293\n",
       "P_fraction                  -0.011752\n",
       "S_fraction                  -0.022731\n",
       "T_fraction                  -0.049347\n",
       "B_fraction                        NaN\n",
       "Z_fraction                        NaN\n",
       "O_fraction                  -0.081672\n",
       "U_fraction                   0.106632\n",
       "X_fraction                   0.040594\n",
       "J_fraction                        NaN\n",
       "other_fraction                    NaN\n",
       "ivywrel_fraction            -0.008971\n",
       "Name: OGT, dtype: float64"
      ]
     },
     "execution_count": 100,
     "metadata": {},
     "output_type": "execute_result"
    }
   ],
   "source": [
    "mesoarch_ivywrel.corr()[\"OGT\"]"
   ]
  },
  {
   "cell_type": "code",
   "execution_count": 101,
   "id": "6e975398-983c-4bdd-a257-76c54aba3ebc",
   "metadata": {},
   "outputs": [
    {
     "data": {
      "image/png": "[encoded data removed]",
      "text/plain": [
       "<Figure size 432x288 with 1 Axes>"
      ]
     },
     "metadata": {
      "needs_background": "light"
     },
     "output_type": "display_data"
    }
   ],
   "source": [
    "fraction_plot(thermarch_ivywrel, \"ivywrel_fraction\")"
   ]
  },
  {
   "cell_type": "code",
   "execution_count": 102,
   "id": "a985a10b-4d70-4b8d-8887-4ee7aee21005",
   "metadata": {},
   "outputs": [
    {
     "data": {
      "text/plain": [
       "taxid                        0.161406\n",
       "species_taxid                0.052868\n",
       "genome_size                 -0.310080\n",
       "genome_size_ungapped        -0.310080\n",
       "gc_percent                   0.251770\n",
       "replicon_count              -0.061720\n",
       "scaffold_count              -0.061720\n",
       "contig_count                -0.054416\n",
       "total_gene_count            -0.166313\n",
       "protein_coding_gene_count   -0.171307\n",
       "non_coding_gene_count        0.205916\n",
       "OGT                          1.000000\n",
       "predicted_OGT                0.797371\n",
       "I_fraction                  -0.257563\n",
       "V_fraction                   0.500190\n",
       "Y_fraction                   0.039396\n",
       "W_fraction                   0.600381\n",
       "R_fraction                   0.327144\n",
       "E_fraction                   0.245689\n",
       "L_fraction                   0.524636\n",
       "A_fraction                   0.347743\n",
       "N_fraction                  -0.440378\n",
       "D_fraction                  -0.615549\n",
       "C_fraction                  -0.155815\n",
       "Q_fraction                  -0.484501\n",
       "G_fraction                   0.100518\n",
       "H_fraction                  -0.013483\n",
       "K_fraction                   0.001096\n",
       "M_fraction                  -0.579128\n",
       "F_fraction                  -0.245319\n",
       "P_fraction                   0.417743\n",
       "S_fraction                  -0.555559\n",
       "T_fraction                  -0.559739\n",
       "B_fraction                        NaN\n",
       "Z_fraction                        NaN\n",
       "O_fraction                  -0.351887\n",
       "U_fraction                   0.091949\n",
       "X_fraction                   0.087336\n",
       "J_fraction                        NaN\n",
       "other_fraction                    NaN\n",
       "ivywrel_fraction             0.797357\n",
       "Name: OGT, dtype: float64"
      ]
     },
     "execution_count": 102,
     "metadata": {},
     "output_type": "execute_result"
    }
   ],
   "source": [
    "thermarch_ivywrel.corr()[\"OGT\"]"
   ]
  },
  {
   "cell_type": "code",
   "execution_count": 103,
   "id": "aab35647-ab0e-4f48-b473-c825710d6d89",
   "metadata": {},
   "outputs": [
    {
     "name": "stdout",
     "output_type": "stream",
     "text": [
      "R squared: 86.84\n",
      "Mean Absolute Error: 7.4576381216863\n",
      "Mean Square Error: 95.61136556163764\n",
      "Root Mean Square Error: 9.778106440494378\n"
     ]
    }
   ],
   "source": [
    "# look at full\n",
    "amino_acid_analysis(full_archaea_ivywrel,\"ivywrel_fraction\")"
   ]
  },
  {
   "cell_type": "markdown",
   "id": "a740f160-06dd-440e-8485-75a5c08a5231",
   "metadata": {},
   "source": [
    "### Prokaryote IVYWREL analysis"
   ]
  },
  {
   "cell_type": "code",
   "execution_count": 104,
   "id": "5a7d270e-5ac1-47b6-9cc2-0665b17f75af",
   "metadata": {},
   "outputs": [
    {
     "name": "stdout",
     "output_type": "stream",
     "text": [
      "R squared: 76.48\n",
      "Mean Absolute Error: 5.477154329917615\n",
      "Mean Square Error: 50.38360074487541\n",
      "Root Mean Square Error: 7.0981406540639504\n"
     ]
    }
   ],
   "source": [
    "amino_acid_analysis(representative_prokaryote_ivywrel,\"ivywrel_fraction\")"
   ]
  },
  {
   "cell_type": "code",
   "execution_count": 106,
   "id": "5c367f3c-aca4-4954-a329-4993491dc3a1",
   "metadata": {},
   "outputs": [
    {
     "data": {
      "text/plain": [
       "taxid                        0.105128\n",
       "species_taxid                0.033423\n",
       "genome_size                 -0.619238\n",
       "genome_size_ungapped        -0.619238\n",
       "gc_percent                  -0.090068\n",
       "replicon_count              -0.282322\n",
       "scaffold_count              -0.282322\n",
       "contig_count                -0.228017\n",
       "total_gene_count            -0.527103\n",
       "protein_coding_gene_count   -0.538365\n",
       "non_coding_gene_count       -0.131821\n",
       "OGT                          1.000000\n",
       "predicted_OGT                0.874564\n",
       "I_fraction                   0.279040\n",
       "V_fraction                   0.397065\n",
       "Y_fraction                   0.407406\n",
       "W_fraction                  -0.134191\n",
       "R_fraction                   0.106818\n",
       "E_fraction                   0.488864\n",
       "L_fraction                  -0.008960\n",
       "A_fraction                  -0.250314\n",
       "N_fraction                  -0.100148\n",
       "D_fraction                  -0.326035\n",
       "C_fraction                  -0.124237\n",
       "Q_fraction                  -0.550507\n",
       "G_fraction                  -0.028942\n",
       "H_fraction                  -0.469404\n",
       "K_fraction                   0.224882\n",
       "M_fraction                  -0.097145\n",
       "F_fraction                   0.002523\n",
       "P_fraction                   0.003179\n",
       "S_fraction                  -0.264218\n",
       "T_fraction                  -0.527616\n",
       "B_fraction                        NaN\n",
       "Z_fraction                  -0.023205\n",
       "O_fraction                   0.012315\n",
       "U_fraction                   0.112449\n",
       "X_fraction                  -0.019658\n",
       "J_fraction                  -0.023205\n",
       "other_fraction                    NaN\n",
       "ivywrel_fraction             0.874563\n",
       "Name: OGT, dtype: float64"
      ]
     },
     "execution_count": 106,
     "metadata": {},
     "output_type": "execute_result"
    }
   ],
   "source": [
    "#find the correlation\n",
    "representative_prokaryote_ivywrel.corr()[\"OGT\"]"
   ]
  },
  {
   "cell_type": "code",
   "execution_count": 107,
   "id": "1c75009f-a279-433d-b6df-5fb5297ba68d",
   "metadata": {},
   "outputs": [],
   "source": [
    "#split into thermal groups\n",
    "psypro_ivywrel,mesopro_ivywrel, thermpro_ivywrel = explore_therm_types(representative_prokaryote_ivywrel)"
   ]
  },
  {
   "cell_type": "code",
   "execution_count": 108,
   "id": "5b87f3b0-88b3-468a-b3b8-4d6c89339ff8",
   "metadata": {},
   "outputs": [
    {
     "data": {
      "image/png": "[encoded data removed]",
      "text/plain": [
       "<Figure size 432x288 with 1 Axes>"
      ]
     },
     "metadata": {
      "needs_background": "light"
     },
     "output_type": "display_data"
    }
   ],
   "source": [
    "fraction_plot(psypro_ivywrel, \"ivywrel_fraction\")"
   ]
  },
  {
   "cell_type": "code",
   "execution_count": 109,
   "id": "2663663a-8ccb-4994-bd61-f7112b932333",
   "metadata": {},
   "outputs": [
    {
     "data": {
      "text/plain": [
       "taxid                        0.347944\n",
       "species_taxid                0.254481\n",
       "genome_size                       NaN\n",
       "genome_size_ungapped              NaN\n",
       "gc_percent                        NaN\n",
       "replicon_count                    NaN\n",
       "scaffold_count                    NaN\n",
       "contig_count                      NaN\n",
       "total_gene_count                  NaN\n",
       "protein_coding_gene_count         NaN\n",
       "non_coding_gene_count             NaN\n",
       "OGT                          1.000000\n",
       "predicted_OGT               -0.397164\n",
       "I_fraction                  -0.484090\n",
       "V_fraction                   0.096148\n",
       "Y_fraction                  -0.292824\n",
       "W_fraction                   0.543873\n",
       "R_fraction                   0.326572\n",
       "E_fraction                  -0.439355\n",
       "L_fraction                   0.307427\n",
       "A_fraction                   0.366268\n",
       "N_fraction                  -0.221543\n",
       "D_fraction                  -0.201214\n",
       "C_fraction                  -0.546572\n",
       "Q_fraction                   0.453018\n",
       "G_fraction                   0.174603\n",
       "H_fraction                   0.434726\n",
       "K_fraction                  -0.388907\n",
       "M_fraction                  -0.657869\n",
       "F_fraction                  -0.030559\n",
       "P_fraction                   0.503939\n",
       "S_fraction                  -0.334951\n",
       "T_fraction                   0.484295\n",
       "B_fraction                        NaN\n",
       "Z_fraction                        NaN\n",
       "O_fraction                        NaN\n",
       "U_fraction                  -0.316076\n",
       "X_fraction                        NaN\n",
       "J_fraction                        NaN\n",
       "other_fraction                    NaN\n",
       "ivywrel_fraction            -0.397206\n",
       "Name: OGT, dtype: float64"
      ]
     },
     "execution_count": 109,
     "metadata": {},
     "output_type": "execute_result"
    }
   ],
   "source": [
    "psypro_ivywrel.corr()[\"OGT\"]"
   ]
  },
  {
   "cell_type": "code",
   "execution_count": 110,
   "id": "bf8cab08-1eeb-48b4-9032-3e60fcea1920",
   "metadata": {},
   "outputs": [
    {
     "data": {
      "image/png": "[encoded data removed]",
      "text/plain": [
       "<Figure size 432x288 with 1 Axes>"
      ]
     },
     "metadata": {
      "needs_background": "light"
     },
     "output_type": "display_data"
    }
   ],
   "source": [
    "fraction_plot(mesopro_ivywrel, \"ivywrel_fraction\")"
   ]
  },
  {
   "cell_type": "code",
   "execution_count": 111,
   "id": "7a90fdf0-488f-49bb-b50a-71a0e007ec34",
   "metadata": {},
   "outputs": [
    {
     "data": {
      "text/plain": [
       "taxid                       -0.067619\n",
       "species_taxid               -0.086584\n",
       "genome_size                  0.068875\n",
       "genome_size_ungapped         0.068875\n",
       "gc_percent                   0.057108\n",
       "replicon_count               0.142564\n",
       "scaffold_count               0.142564\n",
       "contig_count                 0.142564\n",
       "total_gene_count             0.120032\n",
       "protein_coding_gene_count    0.122857\n",
       "non_coding_gene_count       -0.289708\n",
       "OGT                          1.000000\n",
       "predicted_OGT                0.275997\n",
       "I_fraction                   0.064683\n",
       "V_fraction                   0.049946\n",
       "Y_fraction                   0.064325\n",
       "W_fraction                  -0.008897\n",
       "R_fraction                  -0.002217\n",
       "E_fraction                   0.107005\n",
       "L_fraction                  -0.025425\n",
       "A_fraction                  -0.042100\n",
       "N_fraction                  -0.014745\n",
       "D_fraction                  -0.058553\n",
       "C_fraction                   0.079581\n",
       "Q_fraction                  -0.006079\n",
       "G_fraction                  -0.007409\n",
       "H_fraction                  -0.087406\n",
       "K_fraction                   0.024119\n",
       "M_fraction                   0.169319\n",
       "F_fraction                  -0.034250\n",
       "P_fraction                  -0.036647\n",
       "S_fraction                  -0.186262\n",
       "T_fraction                  -0.067462\n",
       "B_fraction                        NaN\n",
       "Z_fraction                  -0.056712\n",
       "O_fraction                   0.061774\n",
       "U_fraction                   0.034203\n",
       "X_fraction                  -0.035781\n",
       "J_fraction                  -0.056712\n",
       "other_fraction                    NaN\n",
       "ivywrel_fraction             0.276004\n",
       "Name: OGT, dtype: float64"
      ]
     },
     "execution_count": 111,
     "metadata": {},
     "output_type": "execute_result"
    }
   ],
   "source": [
    "mesopro_ivywrel.corr()[\"OGT\"]"
   ]
  },
  {
   "cell_type": "code",
   "execution_count": 112,
   "id": "cdc852f6-a9b0-40ce-ab6c-6d5b266aad0a",
   "metadata": {},
   "outputs": [
    {
     "data": {
      "image/png": "[encoded data removed]",
      "text/plain": [
       "<Figure size 432x288 with 1 Axes>"
      ]
     },
     "metadata": {
      "needs_background": "light"
     },
     "output_type": "display_data"
    }
   ],
   "source": [
    "fraction_plot(thermpro_ivywrel, \"ivywrel_fraction\")"
   ]
  },
  {
   "cell_type": "code",
   "execution_count": 113,
   "id": "c4e85494-5356-4043-8b96-7ebf382a45d7",
   "metadata": {},
   "outputs": [
    {
     "data": {
      "text/plain": [
       "taxid                        0.129399\n",
       "species_taxid                0.011108\n",
       "genome_size                 -0.310080\n",
       "genome_size_ungapped        -0.310080\n",
       "gc_percent                   0.251770\n",
       "replicon_count              -0.061720\n",
       "scaffold_count              -0.061720\n",
       "contig_count                -0.054416\n",
       "total_gene_count            -0.166313\n",
       "protein_coding_gene_count   -0.171307\n",
       "non_coding_gene_count        0.205916\n",
       "OGT                          1.000000\n",
       "predicted_OGT                0.889996\n",
       "I_fraction                   0.113826\n",
       "V_fraction                   0.514151\n",
       "Y_fraction                   0.414336\n",
       "W_fraction                   0.102770\n",
       "R_fraction                   0.133518\n",
       "E_fraction                   0.400849\n",
       "L_fraction                   0.329925\n",
       "A_fraction                  -0.184285\n",
       "N_fraction                  -0.172673\n",
       "D_fraction                  -0.446258\n",
       "C_fraction                  -0.263094\n",
       "Q_fraction                  -0.728176\n",
       "G_fraction                   0.069226\n",
       "H_fraction                  -0.525585\n",
       "K_fraction                   0.163993\n",
       "M_fraction                  -0.466192\n",
       "F_fraction                  -0.173531\n",
       "P_fraction                   0.147088\n",
       "S_fraction                  -0.011475\n",
       "T_fraction                  -0.630590\n",
       "B_fraction                        NaN\n",
       "Z_fraction                        NaN\n",
       "O_fraction                  -0.141519\n",
       "U_fraction                   0.083801\n",
       "X_fraction                  -0.013802\n",
       "J_fraction                        NaN\n",
       "other_fraction                    NaN\n",
       "ivywrel_fraction             0.889991\n",
       "Name: OGT, dtype: float64"
      ]
     },
     "execution_count": 113,
     "metadata": {},
     "output_type": "execute_result"
    }
   ],
   "source": [
    "thermpro_ivywrel.corr()[\"OGT\"]"
   ]
  },
  {
   "cell_type": "code",
   "execution_count": 114,
   "id": "10ef35c4-cab4-4541-8bfb-08197ea86ab7",
   "metadata": {},
   "outputs": [
    {
     "name": "stdout",
     "output_type": "stream",
     "text": [
      "R squared: 9.15\n",
      "Mean Absolute Error: 4.846916722287002\n",
      "Mean Square Error: 35.780258701020756\n",
      "Root Mean Square Error: 5.981660196050989\n"
     ]
    }
   ],
   "source": [
    "# look at full dataset\n",
    "amino_acid_analysis(full_prokaryote_ivywrel,\"ivywrel_fraction\")"
   ]
  },
  {
   "cell_type": "markdown",
   "id": "eaad83ae-6f0a-48da-be3d-d1717dfc9fad",
   "metadata": {},
   "source": [
    "## Finding the best correlating amino acid sets for our datasets\n",
    "We've analysed how good IVYWREL is as a fraction for predicting otg\n",
    "\n",
    "is there a better fraction?\n",
    "\n",
    "are these fractions different between domains?\n"
   ]
  },
  {
   "cell_type": "markdown",
   "id": "934a561f-f52d-4375-814b-cf5b1d8a08ac",
   "metadata": {},
   "source": [
    "Use the code find_best_correlation.py to find the best correlating amino acid set for each dataset.\n",
    "- python find_best_correlation.py input_dataset.csv\n",
    "\n",
    "The code will produce two csv files containing the ten strongest positive and negative correlating amino acid sets. We will be using the positive csv file \"best_positive_corrs.csv\". Within this file contains the strongest positive correlating amino acid set"
   ]
  },
  {
   "cell_type": "markdown",
   "id": "986816b2-2477-4d5f-902b-912946194da2",
   "metadata": {},
   "source": [
    "# Bacterial set - IVYWRELMFP\n",
    "the best fraction for representative Bacteria was IVYWRELMFP. lets analyse that. Use the amino acid count datasets mentioned earlier.\n",
    "The best fraction for the full dataset was  IVWREACQKMS"
   ]
  },
  {
   "cell_type": "code",
   "execution_count": 115,
   "id": "e42edea8-315d-45f8-81b1-e9d3d25182b9",
   "metadata": {},
   "outputs": [],
   "source": [
    "def amino_acid_count_IVYWRELMFP(dataset):\n",
    "    '''\n",
    "     this function calculates the IVYWRELMFP fraction for an input dataset\n",
    "    \n",
    "    Arguments:\n",
    "        dataset(dataframe): the input dataframe of genomes.\n",
    "    \n",
    "    Returns:\n",
    "        output(dataframe): the output dataframe of genomes, with calculated IVYWRELMFP fractions\n",
    "    '''\n",
    "    output = dataset\n",
    "    output[\"ivywrelmfp_fraction\"] = 0\n",
    "    \n",
    "    for item, name in dataset.iterrows():\n",
    "        ivywrelmfp = [ \"I_fraction\", \"V_fraction\", \"Y_fraction\", \"W_fraction\", \"R_fraction\", \"E_fraction\", \"L_fraction\",\"M_fraction\", \"F_fraction\", \"P_fraction\"]\n",
    "        #######\n",
    "        ivywrelmfp_count = 0\n",
    "        for column in ivywrelmfp:\n",
    "            ivywrelmfp_count = ivywrelmfp_count + dataset.loc[item , column]\n",
    "        \n",
    "        output.loc[item, \"ivywrelmfp_fraction\"] = ivywrelmfp_count\n",
    "    return output"
   ]
  },
  {
   "cell_type": "code",
   "execution_count": 116,
   "id": "3a5f2bc9-5015-48f5-b053-942432156162",
   "metadata": {},
   "outputs": [],
   "source": [
    "# calculate IVYWRELMFP fractions\n",
    "representative_bacterial_ivywrelmfp_dataset = amino_acid_count_IVYWRELMFP(representative_bacteria_ivywrel)"
   ]
  },
  {
   "cell_type": "code",
   "execution_count": 117,
   "id": "29ec69a8-3b4e-404d-bcc4-328a4ab852a9",
   "metadata": {},
   "outputs": [
    {
     "data": {
      "image/png": "[encoded data removed]",
      "text/plain": [
       "<Figure size 432x288 with 1 Axes>"
      ]
     },
     "metadata": {
      "needs_background": "light"
     },
     "output_type": "display_data"
    }
   ],
   "source": [
    "fraction_plot(representative_bacterial_ivywrelmfp_dataset, \"ivywrelmfp_fraction\")"
   ]
  },
  {
   "cell_type": "code",
   "execution_count": 119,
   "id": "0861d76c-f08f-4b05-ac4c-a80058111fac",
   "metadata": {},
   "outputs": [
    {
     "data": {
      "text/plain": [
       "wgs_master                  NaN\n",
       "taxid                  0.036918\n",
       "species_taxid          0.019387\n",
       "OGT                    1.000000\n",
       "predicted_OGT          0.687815\n",
       "I_fraction             0.141505\n",
       "V_fraction             0.175591\n",
       "Y_fraction             0.186666\n",
       "W_fraction            -0.077661\n",
       "R_fraction             0.066289\n",
       "E_fraction             0.335283\n",
       "L_fraction            -0.017215\n",
       "A_fraction            -0.116154\n",
       "N_fraction            -0.091098\n",
       "D_fraction            -0.275403\n",
       "C_fraction             0.023281\n",
       "Q_fraction            -0.194110\n",
       "G_fraction            -0.042321\n",
       "H_fraction            -0.161543\n",
       "K_fraction             0.131226\n",
       "M_fraction             0.051771\n",
       "F_fraction             0.064206\n",
       "P_fraction            -0.023058\n",
       "S_fraction            -0.393318\n",
       "T_fraction            -0.363304\n",
       "B_fraction                  NaN\n",
       "Z_fraction            -0.030444\n",
       "O_fraction                  NaN\n",
       "U_fraction             0.079598\n",
       "X_fraction            -0.021558\n",
       "J_fraction            -0.030444\n",
       "other_fraction              NaN\n",
       "ivywrel_fraction       0.687810\n",
       "ivywrelmfp_fraction    0.692484\n",
       "Name: OGT, dtype: float64"
      ]
     },
     "execution_count": 119,
     "metadata": {},
     "output_type": "execute_result"
    }
   ],
   "source": [
    "#make sure corr is right\n",
    "representative_bacterial_ivywrelmfp_dataset.corr()[\"OGT\"]"
   ]
  },
  {
   "cell_type": "code",
   "execution_count": 120,
   "id": "acf1c231-e5e7-4cb1-b1e6-2a5a22db0544",
   "metadata": {},
   "outputs": [
    {
     "name": "stdout",
     "output_type": "stream",
     "text": [
      "R squared: 47.92\n",
      "Mean Absolute Error: 5.026255996960007\n",
      "Mean Square Error: 45.554266210331036\n",
      "Root Mean Square Error: 6.7493900620968\n"
     ]
    }
   ],
   "source": [
    "# analyse the fraction\n",
    "amino_acid_analysis(representative_bacterial_ivywrelmfp_dataset, \"ivywrelmfp_fraction\")"
   ]
  },
  {
   "cell_type": "markdown",
   "id": "c811ea79-8d16-44ab-9c5c-effe3b05942b",
   "metadata": {},
   "source": [
    "Look at the thermal differences"
   ]
  },
  {
   "cell_type": "code",
   "execution_count": 121,
   "id": "b770eff2-ca28-4664-bf1a-78228c2c70be",
   "metadata": {},
   "outputs": [],
   "source": [
    "psy_bact_ivywrelmfp,mesobact_ivywrelmfp, thermbact_ivywrelmfp = explore_therm_types(representative_bacterial_ivywrelmfp_dataset)"
   ]
  },
  {
   "cell_type": "code",
   "execution_count": 122,
   "id": "730530d8-aa05-4dcb-97f4-66a1f60f7c44",
   "metadata": {},
   "outputs": [
    {
     "data": {
      "image/png": "[encoded data removed]",
      "text/plain": [
       "<Figure size 432x288 with 1 Axes>"
      ]
     },
     "metadata": {
      "needs_background": "light"
     },
     "output_type": "display_data"
    }
   ],
   "source": [
    "fraction_plot(psy_bact_ivywrelmfp, \"ivywrelmfp_fraction\")"
   ]
  },
  {
   "cell_type": "code",
   "execution_count": 123,
   "id": "3284ec95-4be8-4fcf-81e0-70e89af8f234",
   "metadata": {},
   "outputs": [
    {
     "data": {
      "text/plain": [
       "wgs_master                  NaN\n",
       "taxid                  0.347944\n",
       "species_taxid          0.254481\n",
       "OGT                    1.000000\n",
       "predicted_OGT         -0.397164\n",
       "I_fraction            -0.484090\n",
       "V_fraction             0.096148\n",
       "Y_fraction            -0.292824\n",
       "W_fraction             0.543873\n",
       "R_fraction             0.326572\n",
       "E_fraction            -0.439355\n",
       "L_fraction             0.307427\n",
       "A_fraction             0.366268\n",
       "N_fraction            -0.221543\n",
       "D_fraction            -0.201214\n",
       "C_fraction            -0.546572\n",
       "Q_fraction             0.453018\n",
       "G_fraction             0.174603\n",
       "H_fraction             0.434726\n",
       "K_fraction            -0.388907\n",
       "M_fraction            -0.657869\n",
       "F_fraction            -0.030559\n",
       "P_fraction             0.503939\n",
       "S_fraction            -0.334951\n",
       "T_fraction             0.484295\n",
       "B_fraction                  NaN\n",
       "Z_fraction                  NaN\n",
       "O_fraction                  NaN\n",
       "U_fraction            -0.316076\n",
       "X_fraction                  NaN\n",
       "J_fraction                  NaN\n",
       "other_fraction              NaN\n",
       "ivywrel_fraction      -0.397206\n",
       "ivywrelmfp_fraction   -0.269413\n",
       "Name: OGT, dtype: float64"
      ]
     },
     "execution_count": 123,
     "metadata": {},
     "output_type": "execute_result"
    }
   ],
   "source": [
    "psy_bact_ivywrelmfp.corr()[\"OGT\"]"
   ]
  },
  {
   "cell_type": "code",
   "execution_count": 124,
   "id": "5a08aa43-c5f6-4fa1-b196-88d78846e0b7",
   "metadata": {},
   "outputs": [
    {
     "data": {
      "image/png": "[encoded data removed]",
      "text/plain": [
       "<Figure size 432x288 with 1 Axes>"
      ]
     },
     "metadata": {
      "needs_background": "light"
     },
     "output_type": "display_data"
    }
   ],
   "source": [
    "fraction_plot(mesobact_ivywrelmfp, \"ivywrelmfp_fraction\")"
   ]
  },
  {
   "cell_type": "code",
   "execution_count": 125,
   "id": "b7178bfc-69f8-4298-a323-10e1cd39f721",
   "metadata": {},
   "outputs": [
    {
     "data": {
      "text/plain": [
       "wgs_master                  NaN\n",
       "taxid                 -0.115091\n",
       "species_taxid         -0.130626\n",
       "OGT                    1.000000\n",
       "predicted_OGT          0.245975\n",
       "I_fraction             0.053687\n",
       "V_fraction             0.020836\n",
       "Y_fraction             0.048091\n",
       "W_fraction             0.037604\n",
       "R_fraction             0.001409\n",
       "E_fraction             0.043239\n",
       "L_fraction             0.047616\n",
       "A_fraction            -0.026179\n",
       "N_fraction            -0.018116\n",
       "D_fraction            -0.212226\n",
       "C_fraction             0.059537\n",
       "Q_fraction             0.083538\n",
       "G_fraction            -0.020909\n",
       "H_fraction            -0.034889\n",
       "K_fraction             0.023450\n",
       "M_fraction             0.214442\n",
       "F_fraction            -0.017561\n",
       "P_fraction            -0.033865\n",
       "S_fraction            -0.228199\n",
       "T_fraction            -0.096400\n",
       "B_fraction                  NaN\n",
       "Z_fraction            -0.058071\n",
       "O_fraction                  NaN\n",
       "U_fraction             0.009548\n",
       "X_fraction            -0.035901\n",
       "J_fraction            -0.058071\n",
       "other_fraction              NaN\n",
       "ivywrel_fraction       0.245976\n",
       "ivywrelmfp_fraction    0.262400\n",
       "Name: OGT, dtype: float64"
      ]
     },
     "execution_count": 125,
     "metadata": {},
     "output_type": "execute_result"
    }
   ],
   "source": [
    "mesobact_ivywrelmfp.corr()[\"OGT\"]"
   ]
  },
  {
   "cell_type": "code",
   "execution_count": 126,
   "id": "8b4a9e90-40de-4268-a8e4-33728c1357bf",
   "metadata": {},
   "outputs": [
    {
     "data": {
      "image/png": "[encoded data removed]",
      "text/plain": [
       "<Figure size 432x288 with 1 Axes>"
      ]
     },
     "metadata": {
      "needs_background": "light"
     },
     "output_type": "display_data"
    }
   ],
   "source": [
    "fraction_plot(thermbact_ivywrelmfp, \"ivywrelmfp_fraction\")"
   ]
  },
  {
   "cell_type": "code",
   "execution_count": 127,
   "id": "c5b1a0aa-c7f0-4350-a28a-e3a295c87214",
   "metadata": {},
   "outputs": [
    {
     "data": {
      "text/plain": [
       "wgs_master                  NaN\n",
       "taxid                  0.229493\n",
       "species_taxid          0.202153\n",
       "OGT                    1.000000\n",
       "predicted_OGT          0.729725\n",
       "I_fraction             0.351754\n",
       "V_fraction            -0.019137\n",
       "Y_fraction             0.464638\n",
       "W_fraction            -0.361497\n",
       "R_fraction            -0.278545\n",
       "E_fraction             0.578617\n",
       "L_fraction             0.038666\n",
       "A_fraction            -0.459500\n",
       "N_fraction             0.222757\n",
       "D_fraction            -0.178955\n",
       "C_fraction             0.048133\n",
       "Q_fraction            -0.502786\n",
       "G_fraction            -0.305455\n",
       "H_fraction            -0.554626\n",
       "K_fraction             0.454687\n",
       "M_fraction            -0.474620\n",
       "F_fraction             0.477246\n",
       "P_fraction            -0.280515\n",
       "S_fraction             0.175134\n",
       "T_fraction            -0.520552\n",
       "B_fraction                  NaN\n",
       "Z_fraction                  NaN\n",
       "O_fraction                  NaN\n",
       "U_fraction             0.111151\n",
       "X_fraction            -0.079600\n",
       "J_fraction                  NaN\n",
       "other_fraction              NaN\n",
       "ivywrel_fraction       0.729726\n",
       "ivywrelmfp_fraction    0.635865\n",
       "Name: OGT, dtype: float64"
      ]
     },
     "execution_count": 127,
     "metadata": {},
     "output_type": "execute_result"
    }
   ],
   "source": [
    "thermbact_ivywrelmfp.corr()[\"OGT\"]"
   ]
  },
  {
   "cell_type": "markdown",
   "id": "6140a7e4-f170-4843-ae21-ff59110c0f74",
   "metadata": {},
   "source": [
    "Find the equation for predicting OGT using this fraction"
   ]
  },
  {
   "cell_type": "code",
   "execution_count": 128,
   "id": "6cdc0379-69ce-45bc-a1e9-5398ebef43ef",
   "metadata": {},
   "outputs": [],
   "source": [
    "def equation_finder(data, fraction):\n",
    "    '''\n",
    "     Plots ogt against a stated amino acid fraction. Gives an equation for predicting x (OGT) from y (fraction)\n",
    "    \n",
    "    Arguments:\n",
    "        data(dataframe): the dataset\n",
    "        sequence_fraction(string): the pre-calculated amino acid set.\n",
    "    Returns:\n",
    "        Nothing\n",
    "    '''\n",
    "    #define data\n",
    "    x = data[\"OGT\"] \n",
    "    y = data[fraction]\n",
    "\n",
    "    #find line of best fit\n",
    "    a, b = np.polyfit(x, y, 1)\n",
    "    print(f\"equation is {1/a} {fraction} - {b/a}\")"
   ]
  },
  {
   "cell_type": "code",
   "execution_count": 129,
   "id": "ddd49c27-cdf7-4620-9fa9-f579248f49a5",
   "metadata": {},
   "outputs": [
    {
     "name": "stdout",
     "output_type": "stream",
     "text": [
      "equation is 1157.731909107249 ivywrelmfp_fraction - 551.2210260837379\n"
     ]
    }
   ],
   "source": [
    "equation_finder(representative_bacterial_ivywrelmfp_dataset, \"ivywrelmfp_fraction\")"
   ]
  },
  {
   "cell_type": "markdown",
   "id": "01b7fbc0-e86d-44be-b21c-850a4d74270d",
   "metadata": {},
   "source": [
    "## Archaeal dataset -IVYWRELAHKS\n"
   ]
  },
  {
   "cell_type": "code",
   "execution_count": 130,
   "id": "3964bf78-25fd-4471-8d6b-0e6b3a8ca2e2",
   "metadata": {},
   "outputs": [],
   "source": [
    "def amino_acid_count_IVYWRELAHKS(dataset):\n",
    "    '''\n",
    "     this function calculates the IVYWRELAHKS fraction for an input dataset\n",
    "    \n",
    "    Arguments:\n",
    "        dataset(dataframe): the input dataframe of genomes.\n",
    "    \n",
    "    Returns:\n",
    "        output(dataframe): the output dataframe of genomes, with calculated IVYWRELAHKS fractions\n",
    "    '''\n",
    "    output = dataset\n",
    "    output[\"ivywrelakhs_fraction\"] = 0\n",
    "    for item, name in dataset.iterrows():\n",
    "        IVYWRELAHKS = [ \"I_fraction\", \"V_fraction\", \"Y_fraction\", \"W_fraction\", \"R_fraction\", \"E_fraction\", \"L_fraction\",\"A_fraction\", \"H_fraction\", \"K_fraction\", \"S_fraction\"]\n",
    "        #######\n",
    "        ivywrelakhs_count = 0\n",
    "        for column in IVYWRELAHKS:\n",
    "            ivywrelakhs_count = ivywrelakhs_count + dataset.loc[item , column]\n",
    "        \n",
    "        output.loc[item, \"ivywrelakhs_fraction\"] = ivywrelakhs_count\n",
    "    return output"
   ]
  },
  {
   "cell_type": "code",
   "execution_count": 133,
   "id": "adddc8d7-0442-4568-8e51-0b4ccdcaddcb",
   "metadata": {},
   "outputs": [],
   "source": [
    "representative_archaeal_ivywrelahks_dataset = amino_acid_count_IVYWRELAHKS(representative_archaea_ivywrel)"
   ]
  },
  {
   "cell_type": "code",
   "execution_count": 134,
   "id": "2624f022-ea3d-4a76-aa5b-3fddfbc06044",
   "metadata": {},
   "outputs": [
    {
     "data": {
      "image/png": "[encoded data removed]",
      "text/plain": [
       "<Figure size 432x288 with 1 Axes>"
      ]
     },
     "metadata": {
      "needs_background": "light"
     },
     "output_type": "display_data"
    }
   ],
   "source": [
    "fraction_plot(representative_archaeal_ivywrelahks_dataset,\"ivywrelakhs_fraction\")"
   ]
  },
  {
   "cell_type": "code",
   "execution_count": 136,
   "id": "3bbc00b3-d414-4868-a9e3-946d235efd35",
   "metadata": {},
   "outputs": [
    {
     "data": {
      "text/plain": [
       "taxid                       -0.120289\n",
       "species_taxid               -0.103982\n",
       "genome_size                 -0.619238\n",
       "genome_size_ungapped        -0.619238\n",
       "gc_percent                  -0.090068\n",
       "replicon_count              -0.282322\n",
       "scaffold_count              -0.282322\n",
       "contig_count                -0.228017\n",
       "total_gene_count            -0.527103\n",
       "protein_coding_gene_count   -0.538365\n",
       "non_coding_gene_count       -0.131821\n",
       "OGT                          1.000000\n",
       "predicted_OGT                0.927209\n",
       "I_fraction                   0.167622\n",
       "V_fraction                   0.401273\n",
       "Y_fraction                   0.546108\n",
       "W_fraction                   0.498295\n",
       "R_fraction                   0.298213\n",
       "E_fraction                   0.167634\n",
       "L_fraction                   0.760584\n",
       "A_fraction                  -0.189723\n",
       "N_fraction                  -0.212868\n",
       "D_fraction                  -0.661726\n",
       "C_fraction                  -0.481078\n",
       "Q_fraction                  -0.742091\n",
       "G_fraction                  -0.209968\n",
       "H_fraction                  -0.558297\n",
       "K_fraction                   0.325507\n",
       "M_fraction                  -0.203469\n",
       "F_fraction                   0.072084\n",
       "P_fraction                   0.186784\n",
       "S_fraction                  -0.405525\n",
       "T_fraction                  -0.763849\n",
       "B_fraction                        NaN\n",
       "Z_fraction                        NaN\n",
       "O_fraction                  -0.317225\n",
       "U_fraction                   0.044102\n",
       "X_fraction                   0.031501\n",
       "J_fraction                        NaN\n",
       "other_fraction                    NaN\n",
       "ivywrel_fraction             0.927212\n",
       "ivywrelakhs_fraction         0.927610\n",
       "Name: OGT, dtype: float64"
      ]
     },
     "execution_count": 136,
     "metadata": {},
     "output_type": "execute_result"
    }
   ],
   "source": [
    "representative_archaeal_ivywrelahks_dataset.corr()[\"OGT\"]"
   ]
  },
  {
   "cell_type": "code",
   "execution_count": 137,
   "id": "1937ff78-27cc-4dd4-9223-928c2b9d761d",
   "metadata": {},
   "outputs": [
    {
     "name": "stdout",
     "output_type": "stream",
     "text": [
      "R squared: 86.03\n",
      "Mean Absolute Error: 6.013007400276497\n",
      "Mean Square Error: 62.200278928188204\n",
      "Root Mean Square Error: 7.886715344691236\n"
     ]
    }
   ],
   "source": [
    "amino_acid_analysis(representative_archaeal_ivywrelahks_dataset, \"ivywrelakhs_fraction\")"
   ]
  },
  {
   "cell_type": "code",
   "execution_count": 138,
   "id": "6adfcbb9-3a99-45cd-b01f-b0812c25aae6",
   "metadata": {},
   "outputs": [],
   "source": [
    "# analyse thermal differences\n",
    "psyarch_ivywrelakhs,mesoarch_ivywrelakhs, thermarch_ivywrelakhs = explore_therm_types(representative_archaeal_ivywrelahks_dataset)"
   ]
  },
  {
   "cell_type": "markdown",
   "id": "fa2e0bd5-6d6f-4253-a6b3-d426694bd2b0",
   "metadata": {},
   "source": [
    "Can't look at psychrophiles - no data for it"
   ]
  },
  {
   "cell_type": "code",
   "execution_count": 139,
   "id": "3549213f-9c90-49e6-b38d-4e03fe839dea",
   "metadata": {},
   "outputs": [
    {
     "data": {
      "image/png": "[encoded data removed]",
      "text/plain": [
       "<Figure size 432x288 with 1 Axes>"
      ]
     },
     "metadata": {
      "needs_background": "light"
     },
     "output_type": "display_data"
    }
   ],
   "source": [
    "fraction_plot(mesoarch_ivywrelakhs,\"ivywrelakhs_fraction\")"
   ]
  },
  {
   "cell_type": "code",
   "execution_count": 141,
   "id": "0fe33ac2-f15b-4d6b-96f1-479110a5bd5a",
   "metadata": {},
   "outputs": [
    {
     "data": {
      "text/plain": [
       "taxid                        0.081547\n",
       "species_taxid                0.204725\n",
       "genome_size                  0.068875\n",
       "genome_size_ungapped         0.068875\n",
       "gc_percent                   0.057108\n",
       "replicon_count               0.142564\n",
       "scaffold_count               0.142564\n",
       "contig_count                 0.142564\n",
       "total_gene_count             0.120032\n",
       "protein_coding_gene_count    0.122857\n",
       "non_coding_gene_count       -0.289708\n",
       "OGT                          1.000000\n",
       "predicted_OGT               -0.009068\n",
       "I_fraction                  -0.109067\n",
       "V_fraction                   0.039942\n",
       "Y_fraction                   0.048066\n",
       "W_fraction                   0.061995\n",
       "R_fraction                   0.062862\n",
       "E_fraction                   0.102563\n",
       "L_fraction                  -0.069790\n",
       "A_fraction                   0.092677\n",
       "N_fraction                  -0.023425\n",
       "D_fraction                   0.090598\n",
       "C_fraction                  -0.193404\n",
       "Q_fraction                   0.023563\n",
       "G_fraction                  -0.023068\n",
       "H_fraction                  -0.076067\n",
       "K_fraction                  -0.015788\n",
       "M_fraction                  -0.129835\n",
       "F_fraction                  -0.113293\n",
       "P_fraction                  -0.011752\n",
       "S_fraction                  -0.022731\n",
       "T_fraction                  -0.049347\n",
       "B_fraction                        NaN\n",
       "Z_fraction                        NaN\n",
       "O_fraction                  -0.081672\n",
       "U_fraction                   0.106632\n",
       "X_fraction                   0.040594\n",
       "J_fraction                        NaN\n",
       "other_fraction                    NaN\n",
       "ivywrel_fraction            -0.008971\n",
       "ivywrelakhs_fraction         0.112966\n",
       "Name: OGT, dtype: float64"
      ]
     },
     "execution_count": 141,
     "metadata": {},
     "output_type": "execute_result"
    }
   ],
   "source": [
    "mesoarch_ivywrelakhs.corr()[\"OGT\"]"
   ]
  },
  {
   "cell_type": "code",
   "execution_count": 142,
   "id": "33df35ad-4fd0-4a77-98ce-e09e612d874e",
   "metadata": {},
   "outputs": [
    {
     "data": {
      "image/png": "[encoded data removed]",
      "text/plain": [
       "<Figure size 432x288 with 1 Axes>"
      ]
     },
     "metadata": {
      "needs_background": "light"
     },
     "output_type": "display_data"
    }
   ],
   "source": [
    "fraction_plot(thermarch_ivywrelakhs,\"ivywrelakhs_fraction\")"
   ]
  },
  {
   "cell_type": "code",
   "execution_count": 144,
   "id": "fa5ee293-4f9d-4a6b-a308-938135ecf3b7",
   "metadata": {},
   "outputs": [
    {
     "data": {
      "text/plain": [
       "taxid                        0.161406\n",
       "species_taxid                0.052868\n",
       "genome_size                 -0.310080\n",
       "genome_size_ungapped        -0.310080\n",
       "gc_percent                   0.251770\n",
       "replicon_count              -0.061720\n",
       "scaffold_count              -0.061720\n",
       "contig_count                -0.054416\n",
       "total_gene_count            -0.166313\n",
       "protein_coding_gene_count   -0.171307\n",
       "non_coding_gene_count        0.205916\n",
       "OGT                          1.000000\n",
       "predicted_OGT                0.797371\n",
       "I_fraction                  -0.257563\n",
       "V_fraction                   0.500190\n",
       "Y_fraction                   0.039396\n",
       "W_fraction                   0.600381\n",
       "R_fraction                   0.327144\n",
       "E_fraction                   0.245689\n",
       "L_fraction                   0.524636\n",
       "A_fraction                   0.347743\n",
       "N_fraction                  -0.440378\n",
       "D_fraction                  -0.615549\n",
       "C_fraction                  -0.155815\n",
       "Q_fraction                  -0.484501\n",
       "G_fraction                   0.100518\n",
       "H_fraction                  -0.013483\n",
       "K_fraction                   0.001096\n",
       "M_fraction                  -0.579128\n",
       "F_fraction                  -0.245319\n",
       "P_fraction                   0.417743\n",
       "S_fraction                  -0.555559\n",
       "T_fraction                  -0.559739\n",
       "B_fraction                        NaN\n",
       "Z_fraction                        NaN\n",
       "O_fraction                  -0.351887\n",
       "U_fraction                   0.091949\n",
       "X_fraction                   0.087336\n",
       "J_fraction                        NaN\n",
       "other_fraction                    NaN\n",
       "ivywrel_fraction             0.797357\n",
       "ivywrelakhs_fraction         0.843891\n",
       "Name: OGT, dtype: float64"
      ]
     },
     "execution_count": 144,
     "metadata": {},
     "output_type": "execute_result"
    }
   ],
   "source": [
    "thermarch_ivywrelakhs.corr()[\"OGT\"]"
   ]
  },
  {
   "cell_type": "code",
   "execution_count": 145,
   "id": "59b67942-9886-4047-a20d-26ca3cee63c4",
   "metadata": {},
   "outputs": [
    {
     "name": "stdout",
     "output_type": "stream",
     "text": [
      "equation is 1095.5594856211576 ivywrelakhs_fraction - 646.113122548808\n"
     ]
    }
   ],
   "source": [
    "# find the equation for predicting ogt using this fraction\n",
    "equation_finder(representative_archaeal_ivywrelahks_dataset, \"ivywrelakhs_fraction\")"
   ]
  },
  {
   "cell_type": "markdown",
   "id": "fa934ab6-f7b7-4584-84b4-aa8d14e0a2c6",
   "metadata": {},
   "source": [
    "## Prokaryotic dataset - IVYWREL"
   ]
  },
  {
   "cell_type": "markdown",
   "id": "6dd88de2-5a92-4bb4-8227-93b02ef8aaa9",
   "metadata": {},
   "source": [
    "We analysed the IVYWREL Fraction earlier in the section 'IVYWREL analysis'. There is no need to repeat these steps now. All thats needed is to find the equation"
   ]
  },
  {
   "cell_type": "code",
   "execution_count": 146,
   "id": "b21e712d-7372-4199-a40c-41947e9e06a0",
   "metadata": {},
   "outputs": [
    {
     "name": "stdout",
     "output_type": "stream",
     "text": [
      "equation is 971.5408553809118 ivywrel_fraction - 352.35067905279544\n"
     ]
    }
   ],
   "source": [
    "equation_finder(representative_prokaryote_ivywrel, \"ivywrel_fraction\")"
   ]
  },
  {
   "cell_type": "code",
   "execution_count": null,
   "id": "c603f6ed-2950-4eee-be41-a56d24b3063d",
   "metadata": {},
   "outputs": [],
   "source": [
    "p,m"
   ]
  }
 ],
 "metadata": {
  "kernelspec": {
   "display_name": "Python 3 (ipykernel)",
   "language": "python",
   "name": "python3"
  },
  "language_info": {
   "codemirror_mode": {
    "name": "ipython",
    "version": 3
   },
   "file_extension": ".py",
   "mimetype": "text/x-python",
   "name": "python",
   "nbconvert_exporter": "python",
   "pygments_lexer": "ipython3",
   "version": "3.9.12"
  }
 },
 "nbformat": 4,
 "nbformat_minor": 5
}
